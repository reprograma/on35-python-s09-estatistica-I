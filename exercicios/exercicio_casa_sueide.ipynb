{
 "cells": [
  {
   "cell_type": "code",
   "execution_count": 1,
   "metadata": {},
   "outputs": [],
   "source": [
    "import pandas as pd"
   ]
  },
  {
   "cell_type": "code",
   "execution_count": null,
   "metadata": {},
   "outputs": [],
   "source": [
    "df = pd.read_csv('vendas_ficticias.csv')\n",
    "dados_df = pd.DataFrame(df)\n",
    "dados_df"
   ]
  },
  {
   "cell_type": "code",
   "execution_count": null,
   "metadata": {},
   "outputs": [],
   "source": [
    "# Calcular a média. \n",
    "# Cálculo usando a função mean.\n",
    "media_vendas = vendas.mean()\n",
    "media\n",
    "print(f\"Média das vendas: {media_vendas:.2f}\")\n"
   ]
  },
  {
   "cell_type": "code",
   "execution_count": null,
   "metadata": {},
   "outputs": [],
   "source": [
    "# Calcular a mediana. \n",
    "# Cálculo usando a função median\n",
    "mediana_vendas = vendas.median()\n",
    "print(f\"Mediana das vendas: {mediana_vendas:.2f}\")"
   ]
  },
  {
   "cell_type": "code",
   "execution_count": null,
   "metadata": {},
   "outputs": [],
   "source": [
    "# Calcular o mínimo. \n",
    "# Cálculo usando a função min\n",
    "minimo_vendas = vendas.min()\n",
    "print(f\"Mínimo das vendas: {minimo_vendas:.2f}\")"
   ]
  },
  {
   "cell_type": "code",
   "execution_count": null,
   "metadata": {},
   "outputs": [],
   "source": [
    "# Calcular o máximo.\n",
    "# Cálculo usando a função max\n",
    "maximo_vendas = vendas.max()\n",
    "print(f\"Máximo das vendas: {maximo_vendas:.2f}\")"
   ]
  },
  {
   "cell_type": "code",
   "execution_count": null,
   "metadata": {},
   "outputs": [],
   "source": [
    "# Calcular o desvio padrão dos valores das vendas. \n",
    "# Foi calculado o desvio padrão\n",
    "desvio_padrão_vendas = varianca_vendas ** 0.5\n",
    "print(f\"Desvio padrão das vendas: {desvio_padrao_vendas:.2f}\")"
   ]
  },
  {
   "cell_type": "code",
   "execution_count": null,
   "metadata": {},
   "outputs": [],
   "source": [
    "# Calcular a quantidade vendida\n",
    "# Foi calculado a quantidade vendida\n",
    "total_vendido = quantidade_vendida.sum()\n",
    "print(f\"Quantidade de produtos vendidos: {total_vendido}\")"
   ]
  },
  {
   "cell_type": "code",
   "execution_count": null,
   "metadata": {},
   "outputs": [],
   "source": [
    "# Qual produto que mais vendeu?\n",
    "# Foi utilizado a moda para identificar, o cálculo foi usando a função mode \n",
    "produto_mais_vendido = produtos.mode()[0]\n",
    "print(f\"Produto mais vendido: {produto_mais_vendido}\")"
   ]
  }
 ],
 "metadata": {
  "kernelspec": {
   "display_name": "Python 3",
   "language": "python",
   "name": "python3"
  },
  "language_info": {
   "codemirror_mode": {
    "name": "ipython",
    "version": 3
   },
   "file_extension": ".py",
   "mimetype": "text/x-python",
   "name": "python",
   "nbconvert_exporter": "python",
   "pygments_lexer": "ipython3",
   "version": "3.12.5"
  }
 },
 "nbformat": 4,
 "nbformat_minor": 2
}

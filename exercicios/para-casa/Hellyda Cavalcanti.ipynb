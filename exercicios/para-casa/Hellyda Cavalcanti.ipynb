{
 "cells": [
  {
   "cell_type": "code",
   "execution_count": 27,
   "metadata": {},
   "outputs": [
    {
     "name": "stdout",
     "output_type": "stream",
     "text": [
      "Defaulting to user installation because normal site-packages is not writeable\n",
      "Requirement already satisfied: pandas in c:\\users\\acer\\appdata\\local\\packages\\pythonsoftwarefoundation.python.3.12_qbz5n2kfra8p0\\localcache\\local-packages\\python312\\site-packages (2.2.2)\n",
      "Requirement already satisfied: numpy in c:\\users\\acer\\appdata\\local\\packages\\pythonsoftwarefoundation.python.3.12_qbz5n2kfra8p0\\localcache\\local-packages\\python312\\site-packages (2.0.1)\n",
      "Requirement already satisfied: python-dateutil>=2.8.2 in c:\\users\\acer\\appdata\\local\\packages\\pythonsoftwarefoundation.python.3.12_qbz5n2kfra8p0\\localcache\\local-packages\\python312\\site-packages (from pandas) (2.9.0.post0)\n",
      "Requirement already satisfied: pytz>=2020.1 in c:\\users\\acer\\appdata\\local\\packages\\pythonsoftwarefoundation.python.3.12_qbz5n2kfra8p0\\localcache\\local-packages\\python312\\site-packages (from pandas) (2024.1)\n",
      "Requirement already satisfied: tzdata>=2022.7 in c:\\users\\acer\\appdata\\local\\packages\\pythonsoftwarefoundation.python.3.12_qbz5n2kfra8p0\\localcache\\local-packages\\python312\\site-packages (from pandas) (2024.1)\n",
      "Requirement already satisfied: six>=1.5 in c:\\users\\acer\\appdata\\local\\packages\\pythonsoftwarefoundation.python.3.12_qbz5n2kfra8p0\\localcache\\local-packages\\python312\\site-packages (from python-dateutil>=2.8.2->pandas) (1.16.0)\n",
      "Note: you may need to restart the kernel to use updated packages.\n"
     ]
    }
   ],
   "source": [
    "pip install pandas numpy"
   ]
  },
  {
   "cell_type": "code",
   "execution_count": 33,
   "metadata": {},
   "outputs": [],
   "source": [
    "import pandas as pd\n"
   ]
  },
  {
   "cell_type": "code",
   "execution_count": 29,
   "metadata": {},
   "outputs": [
    {
     "data": {
      "text/html": [
       "<div>\n",
       "<style scoped>\n",
       "    .dataframe tbody tr th:only-of-type {\n",
       "        vertical-align: middle;\n",
       "    }\n",
       "\n",
       "    .dataframe tbody tr th {\n",
       "        vertical-align: top;\n",
       "    }\n",
       "\n",
       "    .dataframe thead th {\n",
       "        text-align: right;\n",
       "    }\n",
       "</style>\n",
       "<table border=\"1\" class=\"dataframe\">\n",
       "  <thead>\n",
       "    <tr style=\"text-align: right;\">\n",
       "      <th></th>\n",
       "      <th>Data da venda</th>\n",
       "      <th>Valor da venda</th>\n",
       "      <th>Vendedor</th>\n",
       "      <th>Quantidade vendida</th>\n",
       "      <th>Produto</th>\n",
       "    </tr>\n",
       "  </thead>\n",
       "  <tbody>\n",
       "    <tr>\n",
       "      <th>0</th>\n",
       "      <td>2024-01-29</td>\n",
       "      <td>212.80</td>\n",
       "      <td>Pedro</td>\n",
       "      <td>8</td>\n",
       "      <td>Produto D</td>\n",
       "    </tr>\n",
       "    <tr>\n",
       "      <th>1</th>\n",
       "      <td>2024-05-19</td>\n",
       "      <td>428.04</td>\n",
       "      <td>João</td>\n",
       "      <td>16</td>\n",
       "      <td>Produto E</td>\n",
       "    </tr>\n",
       "    <tr>\n",
       "      <th>2</th>\n",
       "      <td>2024-02-19</td>\n",
       "      <td>982.79</td>\n",
       "      <td>Ana</td>\n",
       "      <td>20</td>\n",
       "      <td>Produto A</td>\n",
       "    </tr>\n",
       "    <tr>\n",
       "      <th>3</th>\n",
       "      <td>2024-02-15</td>\n",
       "      <td>127.86</td>\n",
       "      <td>Pedro</td>\n",
       "      <td>1</td>\n",
       "      <td>Produto B</td>\n",
       "    </tr>\n",
       "    <tr>\n",
       "      <th>4</th>\n",
       "      <td>2024-01-13</td>\n",
       "      <td>429.88</td>\n",
       "      <td>Maria</td>\n",
       "      <td>6</td>\n",
       "      <td>Produto E</td>\n",
       "    </tr>\n",
       "    <tr>\n",
       "      <th>...</th>\n",
       "      <td>...</td>\n",
       "      <td>...</td>\n",
       "      <td>...</td>\n",
       "      <td>...</td>\n",
       "      <td>...</td>\n",
       "    </tr>\n",
       "    <tr>\n",
       "      <th>95</th>\n",
       "      <td>2024-03-13</td>\n",
       "      <td>78.17</td>\n",
       "      <td>João</td>\n",
       "      <td>18</td>\n",
       "      <td>Produto A</td>\n",
       "    </tr>\n",
       "    <tr>\n",
       "      <th>96</th>\n",
       "      <td>2024-04-19</td>\n",
       "      <td>865.72</td>\n",
       "      <td>Maria</td>\n",
       "      <td>14</td>\n",
       "      <td>Produto D</td>\n",
       "    </tr>\n",
       "    <tr>\n",
       "      <th>97</th>\n",
       "      <td>2024-01-19</td>\n",
       "      <td>117.36</td>\n",
       "      <td>Carlos</td>\n",
       "      <td>12</td>\n",
       "      <td>Produto E</td>\n",
       "    </tr>\n",
       "    <tr>\n",
       "      <th>98</th>\n",
       "      <td>2024-01-13</td>\n",
       "      <td>934.73</td>\n",
       "      <td>Pedro</td>\n",
       "      <td>4</td>\n",
       "      <td>Produto E</td>\n",
       "    </tr>\n",
       "    <tr>\n",
       "      <th>99</th>\n",
       "      <td>2024-03-26</td>\n",
       "      <td>349.69</td>\n",
       "      <td>Ana</td>\n",
       "      <td>11</td>\n",
       "      <td>Produto E</td>\n",
       "    </tr>\n",
       "  </tbody>\n",
       "</table>\n",
       "<p>100 rows × 5 columns</p>\n",
       "</div>"
      ],
      "text/plain": [
       "   Data da venda  Valor da venda Vendedor  Quantidade vendida    Produto\n",
       "0     2024-01-29          212.80    Pedro                   8  Produto D\n",
       "1     2024-05-19          428.04     João                  16  Produto E\n",
       "2     2024-02-19          982.79      Ana                  20  Produto A\n",
       "3     2024-02-15          127.86    Pedro                   1  Produto B\n",
       "4     2024-01-13          429.88    Maria                   6  Produto E\n",
       "..           ...             ...      ...                 ...        ...\n",
       "95    2024-03-13           78.17     João                  18  Produto A\n",
       "96    2024-04-19          865.72    Maria                  14  Produto D\n",
       "97    2024-01-19          117.36   Carlos                  12  Produto E\n",
       "98    2024-01-13          934.73    Pedro                   4  Produto E\n",
       "99    2024-03-26          349.69      Ana                  11  Produto E\n",
       "\n",
       "[100 rows x 5 columns]"
      ]
     },
     "execution_count": 29,
     "metadata": {},
     "output_type": "execute_result"
    }
   ],
   "source": [
    "df = pd.read_csv('vendas_ficticias.csv')\n",
    "df\n"
   ]
  },
  {
   "cell_type": "code",
   "execution_count": 8,
   "metadata": {},
   "outputs": [
    {
     "name": "stdout",
     "output_type": "stream",
     "text": [
      "   Data da venda  Valor da venda Vendedor  Quantidade vendida    Produto\n",
      "0     2024-01-29          212.80    Pedro                   8  Produto D\n",
      "1     2024-05-19          428.04     João                  16  Produto E\n",
      "2     2024-02-19          982.79      Ana                  20  Produto A\n",
      "3     2024-02-15          127.86    Pedro                   1  Produto B\n",
      "4     2024-01-13          429.88    Maria                   6  Produto E\n",
      "5     2024-03-02          259.37    Maria                  16  Produto E\n",
      "6     2024-04-28          389.57     João                  13  Produto D\n",
      "7     2024-04-19          866.23      Ana                   1  Produto D\n",
      "8     2024-01-20          854.59    Maria                  19  Produto C\n",
      "9     2024-01-03          267.65    Pedro                  14  Produto C\n",
      "10    2024-05-31           66.14    Pedro                   7  Produto A\n",
      "11    2024-03-15          463.15      Ana                   6  Produto E\n",
      "12    2024-03-17          170.13    Pedro                   9  Produto C\n",
      "13    2024-06-01          782.22   Carlos                  16  Produto A\n",
      "14    2024-01-03          921.13    Maria                   3  Produto D\n",
      "15    2024-05-23          514.95    Maria                   5  Produto C\n",
      "16    2024-05-05          604.85      Ana                   3  Produto E\n",
      "17    2024-05-06          212.54    Pedro                  14  Produto B\n",
      "18    2024-03-31          698.30    Pedro                  19  Produto D\n",
      "19    2024-04-06          834.26    Maria                   1  Produto D\n",
      "20    2024-04-11          966.59    Pedro                   5  Produto D\n",
      "21    2024-05-20           74.80    Pedro                   1  Produto A\n",
      "22    2024-03-23          862.67      Ana                   5  Produto C\n",
      "23    2024-03-13          975.85     João                   3  Produto E\n",
      "24    2024-02-29          674.88     João                   3  Produto A\n",
      "25    2024-01-01          694.18    Maria                  10  Produto C\n",
      "26    2024-03-13          340.50   Carlos                   8  Produto D\n",
      "27    2024-03-10          910.85   Carlos                   4  Produto D\n",
      "28    2024-02-11          403.95   Carlos                   3  Produto C\n",
      "29    2024-04-26          932.34    Maria                   2  Produto E\n",
      "30    2024-02-25          743.76   Carlos                   7  Produto B\n",
      "31    2024-04-11          480.06    Pedro                  16  Produto B\n",
      "32    2024-03-26          369.61   Carlos                  16  Produto B\n",
      "33    2024-01-05          837.47    Maria                   6  Produto E\n",
      "34    2024-02-16          706.51   Carlos                   3  Produto E\n",
      "35    2024-05-06          273.67     João                   8  Produto E\n",
      "36    2024-03-25          219.62    Maria                   1  Produto D\n",
      "37    2024-03-08          576.54   Carlos                   9  Produto B\n",
      "38    2024-03-22          326.05    Pedro                  15  Produto C\n",
      "39    2024-01-11          756.58    Maria                   4  Produto B\n",
      "40    2024-03-23          695.59   Carlos                  15  Produto D\n",
      "41    2024-03-02          601.39      Ana                   6  Produto C\n",
      "42    2024-04-21          272.19    Pedro                  20  Produto A\n",
      "43    2024-04-03          914.15    Pedro                   7  Produto A\n",
      "44    2024-01-21          133.76     João                  16  Produto D\n",
      "45    2024-03-13          888.57     João                  17  Produto C\n",
      "46    2024-03-16          700.04    Maria                  13  Produto A\n",
      "47    2024-02-29          777.36    Maria                  17  Produto B\n",
      "48    2024-02-24          853.70    Maria                  11  Produto C\n",
      "49    2024-06-03          877.21     João                   2  Produto A\n",
      "50    2024-03-11          337.13   Carlos                  13  Produto E\n",
      "51    2024-03-13          956.62     João                   7  Produto D\n",
      "52    2024-05-26          768.65      Ana                  20  Produto A\n",
      "53    2024-01-16          562.53      Ana                  11  Produto D\n",
      "54    2024-03-24          777.99    Pedro                   8  Produto A\n",
      "55    2024-04-04          358.37   Carlos                  16  Produto B\n",
      "56    2024-05-10           75.12     João                   2  Produto C\n",
      "57    2024-03-27          556.93     João                   4  Produto B\n",
      "58    2024-04-14          241.81    Pedro                   2  Produto D\n",
      "59    2024-05-17          723.18     João                  14  Produto A\n",
      "60    2024-04-20          368.06    Maria                   8  Produto C\n",
      "61    2024-05-06          490.26     João                  10  Produto E\n",
      "62    2024-03-25          362.33     João                  10  Produto C\n",
      "63    2024-02-02           55.02     João                   2  Produto D\n",
      "64    2024-05-25          644.48      Ana                  16  Produto C\n",
      "65    2024-01-28          643.86    Maria                  12  Produto A\n",
      "66    2024-03-09          627.06      Ana                   4  Produto C\n",
      "67    2024-02-20          871.93   Carlos                  17  Produto D\n",
      "68    2024-05-20          856.19      Ana                  16  Produto E\n",
      "69    2024-04-16          917.34    Pedro                  12  Produto D\n",
      "70    2024-05-13          455.02      Ana                  12  Produto D\n",
      "71    2024-03-11          807.15     João                  10  Produto B\n",
      "72    2024-03-13          105.82   Carlos                   2  Produto C\n",
      "73    2024-01-19          656.48     João                  19  Produto A\n",
      "74    2024-05-30          365.66    Maria                  18  Produto A\n",
      "75    2024-04-03          308.96      Ana                   3  Produto A\n",
      "76    2024-01-06           72.32   Carlos                  13  Produto E\n",
      "77    2024-05-25          558.10     João                  12  Produto D\n",
      "78    2024-03-23          683.95   Carlos                   8  Produto C\n",
      "79    2024-04-29          987.42   Carlos                  19  Produto E\n",
      "80    2024-04-08          532.98      Ana                   1  Produto D\n",
      "81    2024-01-12          963.06    Maria                   9  Produto D\n",
      "82    2024-04-20          519.67    Maria                   7  Produto B\n",
      "83    2024-05-31          861.73    Maria                  15  Produto A\n",
      "84    2024-01-14          619.47    Maria                   2  Produto E\n",
      "85    2024-01-25          167.40    Maria                  18  Produto B\n",
      "86    2024-03-02          925.36     João                  16  Produto C\n",
      "87    2024-05-09          330.48   Carlos                  11  Produto B\n",
      "88    2024-04-28          513.94    Pedro                  13  Produto B\n",
      "89    2024-01-12          369.27    Maria                  11  Produto D\n",
      "90    2024-04-23          583.03      Ana                  19  Produto B\n",
      "91    2024-01-30          346.75    Maria                  13  Produto A\n",
      "92    2024-03-27          136.00    Maria                  17  Produto D\n",
      "93    2024-01-12          302.93    Maria                   8  Produto D\n",
      "94    2024-01-05          689.10    Maria                   1  Produto D\n",
      "95    2024-03-13           78.17     João                  18  Produto A\n",
      "96    2024-04-19          865.72    Maria                  14  Produto D\n",
      "97    2024-01-19          117.36   Carlos                  12  Produto E\n",
      "98    2024-01-13          934.73    Pedro                   4  Produto E\n",
      "99    2024-03-26          349.69      Ana                  11  Produto E\n"
     ]
    }
   ],
   "source": [
    "import pandas as pd\n",
    "\n",
    "# Carregar o DataFrame\n",
    "df = pd.read_csv('vendas_ficticias.csv')\n",
    "\n",
    "# Expandir a exibição de linhas e colunas\n",
    "pd.set_option('display.max_rows', 100)  # Defina o número máximo de linhas a serem exibidas\n",
    "pd.set_option('display.max_columns', 100)  # Defina o número máximo de colunas a serem exibidas\n",
    "\n",
    "# Exibir o DataFrame\n",
    "print(df)"
   ]
  },
  {
   "cell_type": "code",
   "execution_count": 34,
   "metadata": {},
   "outputs": [
    {
     "name": "stdout",
     "output_type": "stream",
     "text": [
      "553.2947\n"
     ]
    }
   ],
   "source": [
    "# cálculo da média usando a função mean\n",
    "media_vendas = df['Valor da venda'].mean()\n",
    "print(media_vendas)\n"
   ]
  },
  {
   "cell_type": "code",
   "execution_count": 16,
   "metadata": {},
   "outputs": [
    {
     "name": "stdout",
     "output_type": "stream",
     "text": [
      "569.535\n"
     ]
    }
   ],
   "source": [
    "# cálculo usando a função median\n",
    "mediana_vendas = df['Valor da venda'].median()\n",
    "print(mediana_vendas)"
   ]
  },
  {
   "cell_type": "code",
   "execution_count": 17,
   "metadata": {},
   "outputs": [
    {
     "name": "stdout",
     "output_type": "stream",
     "text": [
      "55.02\n"
     ]
    }
   ],
   "source": [
    "min_vendas = df['Valor da venda'].min()\n",
    "print(min_vendas)"
   ]
  },
  {
   "cell_type": "code",
   "execution_count": 19,
   "metadata": {},
   "outputs": [
    {
     "name": "stdout",
     "output_type": "stream",
     "text": [
      "987.42\n"
     ]
    }
   ],
   "source": [
    "max_vendas = df['Valor da venda'].max()\n",
    "print(max_vendas)"
   ]
  },
  {
   "cell_type": "code",
   "execution_count": 20,
   "metadata": {},
   "outputs": [
    {
     "name": "stdout",
     "output_type": "stream",
     "text": [
      "281.06073685041633\n"
     ]
    }
   ],
   "source": [
    "desvio_padrao_vendas = df['Valor da venda'].std()\n",
    "print(desvio_padrao_vendas)"
   ]
  },
  {
   "cell_type": "code",
   "execution_count": 22,
   "metadata": {},
   "outputs": [
    {
     "name": "stdout",
     "output_type": "stream",
     "text": [
      "9.9\n"
     ]
    }
   ],
   "source": [
    "quantidade_vendida_media = df['Quantidade vendida'].mean()\n",
    "print(quantidade_vendida_media)"
   ]
  },
  {
   "cell_type": "code",
   "execution_count": 23,
   "metadata": {},
   "outputs": [
    {
     "name": "stdout",
     "output_type": "stream",
     "text": [
      "10.0\n"
     ]
    }
   ],
   "source": [
    "quantidade_vendida_mediana = df['Quantidade vendida'].median()\n",
    "print(quantidade_vendida_mediana)"
   ]
  },
  {
   "cell_type": "code",
   "execution_count": 24,
   "metadata": {},
   "outputs": [
    {
     "name": "stdout",
     "output_type": "stream",
     "text": [
      "1\n"
     ]
    }
   ],
   "source": [
    "quantidade_vendida_min = df['Quantidade vendida'].min()\n",
    "print(quantidade_vendida_min)"
   ]
  },
  {
   "cell_type": "code",
   "execution_count": 25,
   "metadata": {},
   "outputs": [
    {
     "name": "stdout",
     "output_type": "stream",
     "text": [
      "20\n"
     ]
    }
   ],
   "source": [
    "quantidade_vendida_max = df['Quantidade vendida'].max()\n",
    "print(quantidade_vendida_max)"
   ]
  },
  {
   "cell_type": "code",
   "execution_count": 26,
   "metadata": {},
   "outputs": [
    {
     "name": "stdout",
     "output_type": "stream",
     "text": [
      "5.880115438982264\n"
     ]
    }
   ],
   "source": [
    "quantidade_vendida_desvio_padrao = df['Quantidade vendida'].std()\n",
    "print(quantidade_vendida_desvio_padrao)"
   ]
  },
  {
   "cell_type": "code",
   "execution_count": 37,
   "metadata": {},
   "outputs": [
    {
     "name": "stdout",
     "output_type": "stream",
     "text": [
      "0    Produto D\n",
      "Name: Produto, dtype: object\n"
     ]
    }
   ],
   "source": [
    "# cálculo usando a função mode\n",
    "moda_vendas = df['Produto'].mode()\n",
    "print(moda_vendas)"
   ]
  },
  {
   "cell_type": "markdown",
   "metadata": {},
   "source": [
    "Resultado sobre as vendas:\n",
    "A média e a mediana são próximas, o que sugere que há uma boa distribuição dos valores das vendas (media: 553.29 e mediana 569.54 )\n",
    "o desvio padrão mostrou-se consideravelmente alto (281.060737), o que mostra uma variação nos valores das vendas, que pode ser observado também ao analisar o valor mínimo 55.02 e o valor máximo de 987.42.\n",
    "\n",
    "Resultado sobre a quantidade\n",
    "A média e a mediana são bem próximas, (9.9 e 10), mantendo uma constância nas quantidades. \n",
    "A quantidade de produtos vendidos sofreu uma variação entre a quantidade mínima de 1 e a máxima de 20 produtos. O desvio padrão nesse caso foi de 5.880115."
   ]
  },
  {
   "cell_type": "code",
   "execution_count": 38,
   "metadata": {},
   "outputs": [
    {
     "data": {
      "text/html": [
       "<div>\n",
       "<style scoped>\n",
       "    .dataframe tbody tr th:only-of-type {\n",
       "        vertical-align: middle;\n",
       "    }\n",
       "\n",
       "    .dataframe tbody tr th {\n",
       "        vertical-align: top;\n",
       "    }\n",
       "\n",
       "    .dataframe thead th {\n",
       "        text-align: right;\n",
       "    }\n",
       "</style>\n",
       "<table border=\"1\" class=\"dataframe\">\n",
       "  <thead>\n",
       "    <tr style=\"text-align: right;\">\n",
       "      <th></th>\n",
       "      <th>count</th>\n",
       "      <th>mean</th>\n",
       "      <th>std</th>\n",
       "      <th>min</th>\n",
       "      <th>25%</th>\n",
       "      <th>50%</th>\n",
       "      <th>75%</th>\n",
       "      <th>max</th>\n",
       "    </tr>\n",
       "  </thead>\n",
       "  <tbody>\n",
       "    <tr>\n",
       "      <th>Valor da venda</th>\n",
       "      <td>100.0</td>\n",
       "      <td>553.2947</td>\n",
       "      <td>281.060737</td>\n",
       "      <td>55.02</td>\n",
       "      <td>335.4675</td>\n",
       "      <td>569.535</td>\n",
       "      <td>813.9275</td>\n",
       "      <td>987.42</td>\n",
       "    </tr>\n",
       "    <tr>\n",
       "      <th>Quantidade vendida</th>\n",
       "      <td>100.0</td>\n",
       "      <td>9.9000</td>\n",
       "      <td>5.880115</td>\n",
       "      <td>1.00</td>\n",
       "      <td>4.0000</td>\n",
       "      <td>10.000</td>\n",
       "      <td>15.2500</td>\n",
       "      <td>20.00</td>\n",
       "    </tr>\n",
       "  </tbody>\n",
       "</table>\n",
       "</div>"
      ],
      "text/plain": [
       "                    count      mean         std    min       25%      50%  \\\n",
       "Valor da venda      100.0  553.2947  281.060737  55.02  335.4675  569.535   \n",
       "Quantidade vendida  100.0    9.9000    5.880115   1.00    4.0000   10.000   \n",
       "\n",
       "                         75%     max  \n",
       "Valor da venda      813.9275  987.42  \n",
       "Quantidade vendida   15.2500   20.00  "
      ]
     },
     "execution_count": 38,
     "metadata": {},
     "output_type": "execute_result"
    }
   ],
   "source": [
    "# função describe Pandas\n",
    "df.describe().T"
   ]
  }
 ],
 "metadata": {
  "kernelspec": {
   "display_name": "Python 3",
   "language": "python",
   "name": "python3"
  },
  "language_info": {
   "codemirror_mode": {
    "name": "ipython",
    "version": 3
   },
   "file_extension": ".py",
   "mimetype": "text/x-python",
   "name": "python",
   "nbconvert_exporter": "python",
   "pygments_lexer": "ipython3",
   "version": "3.12.4"
  }
 },
 "nbformat": 4,
 "nbformat_minor": 2
}

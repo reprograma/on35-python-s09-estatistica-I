{
 "cells": [
  {
   "cell_type": "code",
   "execution_count": null,
   "metadata": {},
   "outputs": [],
   "source": [
    "\n",
    "import pandas as pd \n",
    "from tabulate import tabulate \n",
    "\n",
    "datas = pd.read_csv('vendas_ficticias.csv') \n",
    "\n",
    "\n",
    "print(tabulate(datas, headers='keys', tablefmt='fancy_grid'))\n",
    "\n",
    "def dados_estatisticos(x,y,z):\n",
    "    print(\"\\n-------------------------Valores das Vendas-------------------------\\n\")\n",
    "    \n",
    "    #Média, mediana, máximo, mínimo e desvio padrão dos valores das vendas\n",
    "    avg_sales = round(x.mean(),2)\n",
    "    median_sales = round(x.median(),2)\n",
    "    max_sales = round(x.max(),2)\n",
    "    min_sales = round(x.min(),2)\n",
    "    standard_deviation_sales = round(x.var() ** 0.5,2)\n",
    "\n",
    "    print(f'Média Valor da Venda: R${avg_sales}')\n",
    "    print(f'Mediana Valor da Venda: R${median_sales}')\n",
    "    print(f'Máximo Valor de Venda: R${max_sales}')\n",
    "    print(f'Mínimo Valor de Venda: R${min_sales}')\n",
    "    print(f'Desvio Padrão das Vendas: R${standard_deviation_sales}')\n",
    "\n",
    "    print(\"\\n-------------------------Quantidade Vendida-------------------------\\n\")\n",
    "\n",
    "    #Média, mediana, máximo, mínimo e desvio padrão das quantidades vendidas.\n",
    "    avg_amount = round(y.mean(),2)\n",
    "    median_amount = round(y.median(),2)\n",
    "    max_amount = round(y.max(),2)\n",
    "    min_amount = round(y.min(),2)\n",
    "    standard_deviation_amount = round(y.var() ** 0.5,2)\n",
    "\n",
    "    print(f'Média Qtd Vendida: {avg_amount}')\n",
    "    print(f'Mediana Qtd Vendida: {median_amount}')\n",
    "    print(f'Qtd Máxima Vendida: {max_amount}')\n",
    "    print(f'Qtd Mínima Vendida: {min_amount}')\n",
    "    print(f'Desvio Padrão das Qtds Vendidas: {standard_deviation_amount}')\n",
    "\n",
    "    print(\"\\n-------------------------Produto + Vendido-------------------------\\n\")\n",
    "\n",
    "\n",
    "    #Qual produto mais vendeu?\n",
    "    best_sold = round(z.mode(),2)\n",
    "    print(f'Produto mais vendido: {best_sold}')\n",
    "\n",
    "#chamando a funcao e passando os parametros\n",
    "\n",
    "dados_estatisticos(datas['Valor da venda'],datas['Quantidade vendida'],datas['Produto'])"
   ]
  }
 ],
 "metadata": {
  "language_info": {
   "name": "python"
  }
 },
 "nbformat": 4,
 "nbformat_minor": 2
}

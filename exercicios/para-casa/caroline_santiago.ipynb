{
 "cells": [
  {
   "cell_type": "markdown",
   "metadata": {},
   "source": [
    "**Os dados estão disponíveis em formato csv (‘vendas_ficticias.csv’) e contêm as seguintes informações para cada venda:**\n",
    "\n",
    "*   •\tData da venda\n",
    "*   •\tValor da venda\n",
    "*   •\tVendedor\n",
    "*   •\tQuantidade vendida\n",
    "*   •\tProduto\n",
    "\n",
    "**Perguntas para responder**\n",
    "*   1.\tCalcular a média, mediana, mínimo, máximo e desvio padrão dos valores vdas vendas e quantidade vendida.\n",
    "*   2.\tQual produto que mais vendeu? (Usar a moda para identificar)."
   ]
  },
  {
   "cell_type": "code",
   "execution_count": null,
   "metadata": {},
   "outputs": [],
   "source": [
    "import pandas as pd #importar biblioteca pandas\n",
    "from tabulate import tabulate #importar biblioteca para estilizar os dados\n"
   ]
  },
  {
   "cell_type": "code",
   "execution_count": null,
   "metadata": {},
   "outputs": [],
   "source": [
    "datas = pd.read_csv('vendas_ficticias.csv') #lendo os dados do arquivo vendas_ficticias.csv "
   ]
  },
  {
   "cell_type": "code",
   "execution_count": null,
   "metadata": {},
   "outputs": [],
   "source": [
    "#Imprimindo os dados da tabela\n",
    "print(tabulate(datas, headers='keys', tablefmt='fancy_grid'))"
   ]
  },
  {
   "cell_type": "code",
   "execution_count": null,
   "metadata": {},
   "outputs": [],
   "source": [
    "def dados_estatisticos(x,y,z):#declarando função com os parametros os 3 parametros utilizados\n",
    "    print(\"\\n-------------------------Valores das Vendas-------------------------\\n\")\n",
    "    #1. Média, mediana, máximo, mínimo e desvio padrão dos valores das vendas\n",
    "    avg_sales = round(x.mean(),2)\n",
    "    median_sales = round(x.median(),2)\n",
    "    max_sales = round(x.max(),2)\n",
    "    min_sales = round(x.min(),2)\n",
    "    standard_deviation_sales = round(x.var() ** 0.5,2)\n",
    "\n",
    "    print(f'Média Valor da Venda: R${avg_sales}')\n",
    "    print(f'Mediana Valor da Venda: R${median_sales}')\n",
    "    print(f'Máximo Valor de Venda: R${max_sales}')\n",
    "    print(f'Mínimo Valor de Venda: R${min_sales}')\n",
    "    print(f'Desvio Padrão das Vendas: R${standard_deviation_sales}')\n",
    "\n",
    "    print(\"\\n-------------------------Quantidade Vendida-------------------------\\n\")\n",
    "\n",
    "    #1. Média, mediana, máximo, mínimo e desvio padrão das quantidades vendidas\n",
    "    avg_amount = round(y.mean(),2)\n",
    "    median_amount = round(y.median(),2)\n",
    "    max_amount = round(y.max(),2)\n",
    "    min_amount = round(y.min(),2)\n",
    "    standard_deviation_amount = round(y.var() ** 0.5,2)\n",
    "\n",
    "    print(f'Média Qtd Vendida: {avg_amount}')\n",
    "    print(f'Mediana Qtd Vendida: {median_amount}')\n",
    "    print(f'Qtd Máxima Vendida: {max_amount}')\n",
    "    print(f'Qtd Mínima Vendida: {min_amount}')\n",
    "    print(f'Desvio Padrão das Qtds Vendidas: {standard_deviation_amount}')\n",
    "\n",
    "    print(\"\\n-------------------------Produto + Vendido-------------------------\\n\")\n",
    "    #2. Qual produto mais vendeu?\n",
    "    best_sold = round(z.mode(),2)\n",
    "    print(f'Produto mais vendido: {best_sold}')"
   ]
  },
  {
   "cell_type": "code",
   "execution_count": null,
   "metadata": {},
   "outputs": [],
   "source": [
    "dados_estatisticos(datas['Valor da venda'],datas['Quantidade vendida'],datas['Produto'])#chamando a funcao e passando os parametros"
   ]
  }
 ],
 "metadata": {
  "language_info": {
   "name": "python"
  }
 },
 "nbformat": 4,
 "nbformat_minor": 2
}

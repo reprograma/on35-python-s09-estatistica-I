{
 "cells": [
  {
   "cell_type": "markdown",
   "metadata": {},
   "source": [
    "# Exercício de Casa 🏠\n",
    "<br>\n",
    "\n",
    "\n",
    "###Objetivo\n",
    "Realizar uma análise estatística descritiva dos dados de vendas.\n",
    "\n",
    "<br>\n",
    "\n",
    "### Descrição do Desafio\n",
    "<br>\n",
    "Suponha que você trabalhe em uma equipe de vendas e recebeu uma lista de vendas fictícias de diferentes produtos ao longo de vários meses. Seu objetivo é realizar uma análise estatística descritiva dos valores das vendas.\n",
    "\n",
    "### Conjunto de Dados\n",
    "<br>\n",
    "Os dados estão disponíveis em formato csv (‘vendas_ficticias.csv’) e contêm as seguintes informações para cada venda:\n",
    "\n",
    "• Data da venda • Valor da venda • Vendedor • Quantidade vendida • Produto\n",
    "\n",
    "### Perguntas para responder\n",
    "Calcular a média, mediana, mínimo, máximo e desvio padrão dos valores das vendas e quantidade vendida.\n",
    "Qual produto que mais vendeu? (Usar a moda para identificar).\n",
    "<br>\n",
    "\n",
    "### Entrega do Desafio\n",
    "Utilize a linguagem de programação Python para realizar a análise dos dados.\n",
    "Detalhe bem no arquivo jupyter notebook quais foram as suas descobertas.\n",
    "Envie seu código fonte com o nome do arquivo nesse padrão “seu_nome_completo.ipynb”.\n"
   ]
  },
  {
   "cell_type": "code",
   "execution_count": 5,
   "metadata": {},
   "outputs": [],
   "source": [
    "# importando a biblioteca pandas e numpy\n",
    "import pandas as pd\n"
   ]
  },
  {
   "cell_type": "code",
   "execution_count": 7,
   "metadata": {},
   "outputs": [
    {
     "data": {
      "text/html": [
       "<div>\n",
       "<style scoped>\n",
       "    .dataframe tbody tr th:only-of-type {\n",
       "        vertical-align: middle;\n",
       "    }\n",
       "\n",
       "    .dataframe tbody tr th {\n",
       "        vertical-align: top;\n",
       "    }\n",
       "\n",
       "    .dataframe thead th {\n",
       "        text-align: right;\n",
       "    }\n",
       "</style>\n",
       "<table border=\"1\" class=\"dataframe\">\n",
       "  <thead>\n",
       "    <tr style=\"text-align: right;\">\n",
       "      <th></th>\n",
       "      <th>Data da venda</th>\n",
       "      <th>Valor da venda</th>\n",
       "      <th>Vendedor</th>\n",
       "      <th>Quantidade vendida</th>\n",
       "      <th>Produto</th>\n",
       "    </tr>\n",
       "  </thead>\n",
       "  <tbody>\n",
       "    <tr>\n",
       "      <th>0</th>\n",
       "      <td>2024-01-29</td>\n",
       "      <td>212.80</td>\n",
       "      <td>Pedro</td>\n",
       "      <td>8</td>\n",
       "      <td>Produto D</td>\n",
       "    </tr>\n",
       "    <tr>\n",
       "      <th>1</th>\n",
       "      <td>2024-05-19</td>\n",
       "      <td>428.04</td>\n",
       "      <td>João</td>\n",
       "      <td>16</td>\n",
       "      <td>Produto E</td>\n",
       "    </tr>\n",
       "    <tr>\n",
       "      <th>2</th>\n",
       "      <td>2024-02-19</td>\n",
       "      <td>982.79</td>\n",
       "      <td>Ana</td>\n",
       "      <td>20</td>\n",
       "      <td>Produto A</td>\n",
       "    </tr>\n",
       "    <tr>\n",
       "      <th>3</th>\n",
       "      <td>2024-02-15</td>\n",
       "      <td>127.86</td>\n",
       "      <td>Pedro</td>\n",
       "      <td>1</td>\n",
       "      <td>Produto B</td>\n",
       "    </tr>\n",
       "    <tr>\n",
       "      <th>4</th>\n",
       "      <td>2024-01-13</td>\n",
       "      <td>429.88</td>\n",
       "      <td>Maria</td>\n",
       "      <td>6</td>\n",
       "      <td>Produto E</td>\n",
       "    </tr>\n",
       "    <tr>\n",
       "      <th>...</th>\n",
       "      <td>...</td>\n",
       "      <td>...</td>\n",
       "      <td>...</td>\n",
       "      <td>...</td>\n",
       "      <td>...</td>\n",
       "    </tr>\n",
       "    <tr>\n",
       "      <th>95</th>\n",
       "      <td>2024-03-13</td>\n",
       "      <td>78.17</td>\n",
       "      <td>João</td>\n",
       "      <td>18</td>\n",
       "      <td>Produto A</td>\n",
       "    </tr>\n",
       "    <tr>\n",
       "      <th>96</th>\n",
       "      <td>2024-04-19</td>\n",
       "      <td>865.72</td>\n",
       "      <td>Maria</td>\n",
       "      <td>14</td>\n",
       "      <td>Produto D</td>\n",
       "    </tr>\n",
       "    <tr>\n",
       "      <th>97</th>\n",
       "      <td>2024-01-19</td>\n",
       "      <td>117.36</td>\n",
       "      <td>Carlos</td>\n",
       "      <td>12</td>\n",
       "      <td>Produto E</td>\n",
       "    </tr>\n",
       "    <tr>\n",
       "      <th>98</th>\n",
       "      <td>2024-01-13</td>\n",
       "      <td>934.73</td>\n",
       "      <td>Pedro</td>\n",
       "      <td>4</td>\n",
       "      <td>Produto E</td>\n",
       "    </tr>\n",
       "    <tr>\n",
       "      <th>99</th>\n",
       "      <td>2024-03-26</td>\n",
       "      <td>349.69</td>\n",
       "      <td>Ana</td>\n",
       "      <td>11</td>\n",
       "      <td>Produto E</td>\n",
       "    </tr>\n",
       "  </tbody>\n",
       "</table>\n",
       "<p>100 rows × 5 columns</p>\n",
       "</div>"
      ],
      "text/plain": [
       "   Data da venda  Valor da venda Vendedor  Quantidade vendida    Produto\n",
       "0     2024-01-29          212.80    Pedro                   8  Produto D\n",
       "1     2024-05-19          428.04     João                  16  Produto E\n",
       "2     2024-02-19          982.79      Ana                  20  Produto A\n",
       "3     2024-02-15          127.86    Pedro                   1  Produto B\n",
       "4     2024-01-13          429.88    Maria                   6  Produto E\n",
       "..           ...             ...      ...                 ...        ...\n",
       "95    2024-03-13           78.17     João                  18  Produto A\n",
       "96    2024-04-19          865.72    Maria                  14  Produto D\n",
       "97    2024-01-19          117.36   Carlos                  12  Produto E\n",
       "98    2024-01-13          934.73    Pedro                   4  Produto E\n",
       "99    2024-03-26          349.69      Ana                  11  Produto E\n",
       "\n",
       "[100 rows x 5 columns]"
      ]
     },
     "execution_count": 7,
     "metadata": {},
     "output_type": "execute_result"
    }
   ],
   "source": [
    "df = pd.read_csv('vendas_ficticias.csv')\n",
    "dados_df = pd.DataFrame(df)\n",
    "dados_df"
   ]
  },
  {
   "cell_type": "code",
   "execution_count": 67,
   "metadata": {},
   "outputs": [
    {
     "name": "stdout",
     "output_type": "stream",
     "text": [
      " O total das vendas é :55329.47, e a média de valor das vendas é: 553.29\n"
     ]
    }
   ],
   "source": [
    "#Calculando  a média das vendas usando a função mean\n",
    "total_vendas = float(dados_df['Valor da venda'].sum())\n",
    "media_de_valor = float(dados_df['Valor da venda'].mean())\n",
    "print(f\" O total das vendas é :{total_vendas:.2f}, e a média de valor das vendas é: {media_de_valor:.2f}\")"
   ]
  },
  {
   "cell_type": "code",
   "execution_count": 33,
   "metadata": {},
   "outputs": [
    {
     "name": "stdout",
     "output_type": "stream",
     "text": [
      " A mediana dos valores das vendas é :569.53.\n"
     ]
    }
   ],
   "source": [
    "# Calculando a mediana usando a função median\n",
    "mediana = float(dados_df['Valor da venda'].median())\n",
    "print(f\" A mediana dos valores das vendas é :{mediana:.2f}\")"
   ]
  },
  {
   "cell_type": "code",
   "execution_count": 35,
   "metadata": {},
   "outputs": [
    {
     "name": "stdout",
     "output_type": "stream",
     "text": [
      " A venda de menor valor é :55.02\n"
     ]
    }
   ],
   "source": [
    "# Venda de menor valor usando a função min\n",
    "minimo = float(dados_df['Valor da venda'].min())\n",
    "print(f\" A venda de menor valor é :{minimo:.2f}\")"
   ]
  },
  {
   "cell_type": "code",
   "execution_count": 36,
   "metadata": {},
   "outputs": [
    {
     "name": "stdout",
     "output_type": "stream",
     "text": [
      " A venda de maior valor é :987.42\n"
     ]
    }
   ],
   "source": [
    "# Venda de maior valor usando a função max\n",
    "minimo = float(dados_df['Valor da venda'].max())\n",
    "print(f\" A venda de maior valor é :{minimo:.2f}\")"
   ]
  },
  {
   "cell_type": "code",
   "execution_count": 9,
   "metadata": {},
   "outputs": [
    {
     "name": "stdout",
     "output_type": "stream",
     "text": [
      " Quantidade de produtos vendidos :990\n"
     ]
    }
   ],
   "source": [
    "#Calculando  a quantidade de produtos vendido\n",
    "quantidade = dados_df['Quantidade vendida'].sum()\n",
    "print(f\" Quantidade de produtos vendidos :{quantidade}\")"
   ]
  },
  {
   "cell_type": "code",
   "execution_count": 65,
   "metadata": {},
   "outputs": [
    {
     "name": "stdout",
     "output_type": "stream",
     "text": [
      " O desvio padrão é :281.06\n"
     ]
    }
   ],
   "source": [
    "#Desvio padrão dos valores das vendas usando a função var() e std()\n",
    "\n",
    "#media_de_valor = float(dados_df['Valor da venda'].mean())\n",
    "desvio_padrao = float(dados_df['Valor da venda'].var() ** 0.5)\n",
    "#desvio_padrao = df['Valor da venda'].std() #outra forma de fazer \n",
    "print(f\" O desvio padrão é :{desvio_padrao:.2f}\")\n",
    "\n"
   ]
  },
  {
   "cell_type": "code",
   "execution_count": 24,
   "metadata": {},
   "outputs": [
    {
     "name": "stdout",
     "output_type": "stream",
     "text": [
      "0    Produto D\n",
      "Name: Produto, dtype: object\n"
     ]
    }
   ],
   "source": [
    "# identificando qual foi o produto mais vendido usando a função mode\n",
    "produto = (dados_df['Produto'].mode())\n",
    "print(produto)\n",
    "\n",
    "\n",
    "\n",
    "\n"
   ]
  },
  {
   "cell_type": "code",
   "execution_count": 26,
   "metadata": {},
   "outputs": [
    {
     "name": "stdout",
     "output_type": "stream",
     "text": [
      "Produto mais vendido: Produto D com 230 unidades vendidas\n"
     ]
    }
   ],
   "source": [
    "# resultado = produto\n",
    "\n",
    "quantidades = df['Quantidade vendida']\n",
    "\n",
    "# Agrupando os dados pela coluna 'Produto' e somando as quantidades\n",
    "produto_quantidades = df.groupby('Produto')['Quantidade vendida'].sum()\n",
    "\n",
    "# Determinando o produto mais vendido\n",
    "produto_mais_vendido = produto_quantidades.idxmax()\n",
    "quantidade_mais_vendida = produto_quantidades.max()\n",
    "\n",
    "\n",
    "print(f\"Produto mais vendido: {produto_mais_vendido} com {quantidade_mais_vendida} unidades vendidas\")\n"
   ]
  }
 ],
 "metadata": {
  "kernelspec": {
   "display_name": "Python 3",
   "language": "python",
   "name": "python3"
  },
  "language_info": {
   "codemirror_mode": {
    "name": "ipython",
    "version": 3
   },
   "file_extension": ".py",
   "mimetype": "text/x-python",
   "name": "python",
   "nbconvert_exporter": "python",
   "pygments_lexer": "ipython3",
   "version": "3.12.0"
  }
 },
 "nbformat": 4,
 "nbformat_minor": 2
}

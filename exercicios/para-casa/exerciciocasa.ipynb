{
 "cells": [
  {
   "cell_type": "code",
   "execution_count": null,
   "metadata": {},
   "outputs": [],
   "source": [
    "# Exercício de Casa 🏠 \n",
    "\n",
    "# ## Objetivo\n",
    "\n",
    "# Realizar uma análise estatística descritiva dos dados de vendas.\n",
    "\n",
    "# ## Descrição do Desafio\n",
    "\n",
    "# Suponha que você trabalhe em uma equipe de vendas e recebeu uma lista de vendas fictícias de diferentes produtos ao longo de vários meses. Seu objetivo é realizar uma análise estatística descritiva dos valores das vendas.\n",
    "\n",
    "# ## Conjunto de Dados\n",
    "# Os dados estão disponíveis em formato csv (‘vendas_ficticias.csv’) e contêm as seguintes informações para cada venda:\n",
    "\n",
    "#   •\tData da venda\n",
    "#   •\tValor da venda\n",
    "#   •\tVendedor\n",
    "#   •\tQuantidade vendida\n",
    "#   •\tProduto\n",
    "\n",
    "# ## Perguntas para responder\n",
    "# 1.\tCalcular a média, mediana, mínimo, máximo e desvio padrão dos valores das vendas e quantidade vendida.\n",
    "# 2.\tQual produto que mais vendeu? (Usar a moda para identificar)."
   ]
  },
  {
   "cell_type": "code",
   "execution_count": 1,
   "metadata": {},
   "outputs": [],
   "source": [
    "import pandas as pd"
   ]
  },
  {
   "cell_type": "code",
   "execution_count": 3,
   "metadata": {},
   "outputs": [
    {
     "data": {
      "text/html": [
       "<div>\n",
       "<style scoped>\n",
       "    .dataframe tbody tr th:only-of-type {\n",
       "        vertical-align: middle;\n",
       "    }\n",
       "\n",
       "    .dataframe tbody tr th {\n",
       "        vertical-align: top;\n",
       "    }\n",
       "\n",
       "    .dataframe thead th {\n",
       "        text-align: right;\n",
       "    }\n",
       "</style>\n",
       "<table border=\"1\" class=\"dataframe\">\n",
       "  <thead>\n",
       "    <tr style=\"text-align: right;\">\n",
       "      <th></th>\n",
       "      <th>Data da venda</th>\n",
       "      <th>Valor da venda</th>\n",
       "      <th>Vendedor</th>\n",
       "      <th>Quantidade vendida</th>\n",
       "      <th>Produto</th>\n",
       "    </tr>\n",
       "  </thead>\n",
       "  <tbody>\n",
       "    <tr>\n",
       "      <th>0</th>\n",
       "      <td>2024-01-29</td>\n",
       "      <td>212.80</td>\n",
       "      <td>Pedro</td>\n",
       "      <td>8</td>\n",
       "      <td>Produto D</td>\n",
       "    </tr>\n",
       "    <tr>\n",
       "      <th>1</th>\n",
       "      <td>2024-05-19</td>\n",
       "      <td>428.04</td>\n",
       "      <td>João</td>\n",
       "      <td>16</td>\n",
       "      <td>Produto E</td>\n",
       "    </tr>\n",
       "    <tr>\n",
       "      <th>2</th>\n",
       "      <td>2024-02-19</td>\n",
       "      <td>982.79</td>\n",
       "      <td>Ana</td>\n",
       "      <td>20</td>\n",
       "      <td>Produto A</td>\n",
       "    </tr>\n",
       "    <tr>\n",
       "      <th>3</th>\n",
       "      <td>2024-02-15</td>\n",
       "      <td>127.86</td>\n",
       "      <td>Pedro</td>\n",
       "      <td>1</td>\n",
       "      <td>Produto B</td>\n",
       "    </tr>\n",
       "    <tr>\n",
       "      <th>4</th>\n",
       "      <td>2024-01-13</td>\n",
       "      <td>429.88</td>\n",
       "      <td>Maria</td>\n",
       "      <td>6</td>\n",
       "      <td>Produto E</td>\n",
       "    </tr>\n",
       "    <tr>\n",
       "      <th>...</th>\n",
       "      <td>...</td>\n",
       "      <td>...</td>\n",
       "      <td>...</td>\n",
       "      <td>...</td>\n",
       "      <td>...</td>\n",
       "    </tr>\n",
       "    <tr>\n",
       "      <th>95</th>\n",
       "      <td>2024-03-13</td>\n",
       "      <td>78.17</td>\n",
       "      <td>João</td>\n",
       "      <td>18</td>\n",
       "      <td>Produto A</td>\n",
       "    </tr>\n",
       "    <tr>\n",
       "      <th>96</th>\n",
       "      <td>2024-04-19</td>\n",
       "      <td>865.72</td>\n",
       "      <td>Maria</td>\n",
       "      <td>14</td>\n",
       "      <td>Produto D</td>\n",
       "    </tr>\n",
       "    <tr>\n",
       "      <th>97</th>\n",
       "      <td>2024-01-19</td>\n",
       "      <td>117.36</td>\n",
       "      <td>Carlos</td>\n",
       "      <td>12</td>\n",
       "      <td>Produto E</td>\n",
       "    </tr>\n",
       "    <tr>\n",
       "      <th>98</th>\n",
       "      <td>2024-01-13</td>\n",
       "      <td>934.73</td>\n",
       "      <td>Pedro</td>\n",
       "      <td>4</td>\n",
       "      <td>Produto E</td>\n",
       "    </tr>\n",
       "    <tr>\n",
       "      <th>99</th>\n",
       "      <td>2024-03-26</td>\n",
       "      <td>349.69</td>\n",
       "      <td>Ana</td>\n",
       "      <td>11</td>\n",
       "      <td>Produto E</td>\n",
       "    </tr>\n",
       "  </tbody>\n",
       "</table>\n",
       "<p>100 rows × 5 columns</p>\n",
       "</div>"
      ],
      "text/plain": [
       "   Data da venda  Valor da venda Vendedor  Quantidade vendida    Produto\n",
       "0     2024-01-29          212.80    Pedro                   8  Produto D\n",
       "1     2024-05-19          428.04     João                  16  Produto E\n",
       "2     2024-02-19          982.79      Ana                  20  Produto A\n",
       "3     2024-02-15          127.86    Pedro                   1  Produto B\n",
       "4     2024-01-13          429.88    Maria                   6  Produto E\n",
       "..           ...             ...      ...                 ...        ...\n",
       "95    2024-03-13           78.17     João                  18  Produto A\n",
       "96    2024-04-19          865.72    Maria                  14  Produto D\n",
       "97    2024-01-19          117.36   Carlos                  12  Produto E\n",
       "98    2024-01-13          934.73    Pedro                   4  Produto E\n",
       "99    2024-03-26          349.69      Ana                  11  Produto E\n",
       "\n",
       "[100 rows x 5 columns]"
      ]
     },
     "execution_count": 3,
     "metadata": {},
     "output_type": "execute_result"
    }
   ],
   "source": [
    "df = pd.read_csv('vendas_ficticias.csv')\n",
    "dados_df = pd.DataFrame(df)\n",
    "dados_df"
   ]
  },
  {
   "cell_type": "code",
   "execution_count": 24,
   "metadata": {},
   "outputs": [
    {
     "name": "stdout",
     "output_type": "stream",
     "text": [
      " O total das vendas é R$ 55329.47, e a média de valor das vendas é R$ 553.29\n"
     ]
    }
   ],
   "source": [
    "# ## Perguntas para responder\n",
    "# 1.\tCalcular a média (mean)\n",
    "\n",
    "total_vendas = (dados_df['Valor da venda'].sum())\n",
    "media_de_valor = (dados_df['Valor da venda'].mean())\n",
    "print(f\" O total das vendas é R$ {total_vendas:.2f}, e a média de valor das vendas é R$ {media_de_valor:.2f}\")\n",
    "\n",
    "\n"
   ]
  },
  {
   "cell_type": "code",
   "execution_count": 15,
   "metadata": {},
   "outputs": [
    {
     "name": "stdout",
     "output_type": "stream",
     "text": [
      " A mediana dos valores das vendas é R$ 569.53\n"
     ]
    }
   ],
   "source": [
    "# Calculando a mediana usando a função median\n",
    "mediana = (dados_df['Valor da venda'].median())\n",
    "print(f\" A mediana dos valores das vendas é R$ {mediana:.2f}\")"
   ]
  },
  {
   "cell_type": "code",
   "execution_count": 16,
   "metadata": {},
   "outputs": [
    {
     "name": "stdout",
     "output_type": "stream",
     "text": [
      " A venda de menor valor é R$ 55.02\n"
     ]
    }
   ],
   "source": [
    "# Venda de menor valor usando a função min\n",
    "minimo = (dados_df['Valor da venda'].min())\n",
    "print(f\" A venda de menor valor é R$ {minimo:.2f}\")"
   ]
  },
  {
   "cell_type": "code",
   "execution_count": 17,
   "metadata": {},
   "outputs": [
    {
     "name": "stdout",
     "output_type": "stream",
     "text": [
      " A venda de maior valor é R$ 987.42\n"
     ]
    }
   ],
   "source": [
    "# Venda de maior valor usando a função max\n",
    "minimo = (dados_df['Valor da venda'].max())\n",
    "print(f\" A venda de maior valor é R$ {minimo:.2f}\")"
   ]
  },
  {
   "cell_type": "code",
   "execution_count": 25,
   "metadata": {},
   "outputs": [
    {
     "name": "stdout",
     "output_type": "stream",
     "text": [
      " Quantidade de produtos vendidos  990\n"
     ]
    }
   ],
   "source": [
    "#Calculando  a quantidade de produtos vendido\n",
    "quantidade = dados_df['Quantidade vendida'].sum()\n",
    "print(f\" Quantidade de produtos vendidos  {quantidade}\")\n"
   ]
  },
  {
   "cell_type": "code",
   "execution_count": 21,
   "metadata": {},
   "outputs": [
    {
     "name": "stdout",
     "output_type": "stream",
     "text": [
      " O desvio padrão é R$ 281.06\n"
     ]
    }
   ],
   "source": [
    "#Desvio padrão dos valores das vendas usando a função var() e std()\n",
    "\n",
    "#media_de_valor = float(dados_df['Valor da venda'].mean())\n",
    "desvio_padrao = (dados_df['Valor da venda'].var() ** 0.5)\n",
    "#desvio_padrao = df['Valor da venda'].std() #outra forma de fazer \n",
    "print(f\" O desvio padrão é R$ {desvio_padrao:.2f}\")"
   ]
  },
  {
   "cell_type": "code",
   "execution_count": 27,
   "metadata": {},
   "outputs": [
    {
     "name": "stdout",
     "output_type": "stream",
     "text": [
      " O produto mais vendido é 0    Produto D\n",
      "Name: Produto, dtype: object\n"
     ]
    }
   ],
   "source": [
    "# identificando qual foi o produto mais vendido usando a função mode\n",
    "produto = (dados_df['Produto'].mode())\n",
    "print(f\" O produto mais vendido é {produto}\")\n"
   ]
  }
 ],
 "metadata": {
  "kernelspec": {
   "display_name": "Python (meu_kernel)",
   "language": "python",
   "name": "meu_kernel"
  },
  "language_info": {
   "codemirror_mode": {
    "name": "ipython",
    "version": 3
   },
   "file_extension": ".py",
   "mimetype": "text/x-python",
   "name": "python",
   "nbconvert_exporter": "python",
   "pygments_lexer": "ipython3",
   "version": "3.12.3"
  }
 },
 "nbformat": 4,
 "nbformat_minor": 2
}

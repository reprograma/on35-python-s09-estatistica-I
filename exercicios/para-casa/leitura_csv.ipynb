{
 "cells": [
  {
   "cell_type": "markdown",
   "metadata": {},
   "source": [
    "1.\tCalcular a média, mediana, mínimo, máximo e desvio padrão dos valores das vendas e quantidade vendida.\n",
    "2.\tQual produto que mais vendeu? (Usar a moda para identificar)."
   ]
  },
  {
   "cell_type": "code",
   "execution_count": 26,
   "metadata": {},
   "outputs": [],
   "source": [
    "\n",
    "import pandas as pd"
   ]
  },
  {
   "cell_type": "code",
   "execution_count": 27,
   "metadata": {},
   "outputs": [
    {
     "data": {
      "text/html": [
       "<div>\n",
       "<style scoped>\n",
       "    .dataframe tbody tr th:only-of-type {\n",
       "        vertical-align: middle;\n",
       "    }\n",
       "\n",
       "    .dataframe tbody tr th {\n",
       "        vertical-align: top;\n",
       "    }\n",
       "\n",
       "    .dataframe thead th {\n",
       "        text-align: right;\n",
       "    }\n",
       "</style>\n",
       "<table border=\"1\" class=\"dataframe\">\n",
       "  <thead>\n",
       "    <tr style=\"text-align: right;\">\n",
       "      <th></th>\n",
       "      <th>Data da venda</th>\n",
       "      <th>Valor da venda</th>\n",
       "      <th>Vendedor</th>\n",
       "      <th>Quantidade vendida</th>\n",
       "      <th>Produto</th>\n",
       "    </tr>\n",
       "  </thead>\n",
       "  <tbody>\n",
       "    <tr>\n",
       "      <th>0</th>\n",
       "      <td>2024-01-29</td>\n",
       "      <td>212.80</td>\n",
       "      <td>Pedro</td>\n",
       "      <td>8</td>\n",
       "      <td>Produto D</td>\n",
       "    </tr>\n",
       "    <tr>\n",
       "      <th>1</th>\n",
       "      <td>2024-05-19</td>\n",
       "      <td>428.04</td>\n",
       "      <td>João</td>\n",
       "      <td>16</td>\n",
       "      <td>Produto E</td>\n",
       "    </tr>\n",
       "    <tr>\n",
       "      <th>2</th>\n",
       "      <td>2024-02-19</td>\n",
       "      <td>982.79</td>\n",
       "      <td>Ana</td>\n",
       "      <td>20</td>\n",
       "      <td>Produto A</td>\n",
       "    </tr>\n",
       "    <tr>\n",
       "      <th>3</th>\n",
       "      <td>2024-02-15</td>\n",
       "      <td>127.86</td>\n",
       "      <td>Pedro</td>\n",
       "      <td>1</td>\n",
       "      <td>Produto B</td>\n",
       "    </tr>\n",
       "    <tr>\n",
       "      <th>4</th>\n",
       "      <td>2024-01-13</td>\n",
       "      <td>429.88</td>\n",
       "      <td>Maria</td>\n",
       "      <td>6</td>\n",
       "      <td>Produto E</td>\n",
       "    </tr>\n",
       "    <tr>\n",
       "      <th>...</th>\n",
       "      <td>...</td>\n",
       "      <td>...</td>\n",
       "      <td>...</td>\n",
       "      <td>...</td>\n",
       "      <td>...</td>\n",
       "    </tr>\n",
       "    <tr>\n",
       "      <th>95</th>\n",
       "      <td>2024-03-13</td>\n",
       "      <td>78.17</td>\n",
       "      <td>João</td>\n",
       "      <td>18</td>\n",
       "      <td>Produto A</td>\n",
       "    </tr>\n",
       "    <tr>\n",
       "      <th>96</th>\n",
       "      <td>2024-04-19</td>\n",
       "      <td>865.72</td>\n",
       "      <td>Maria</td>\n",
       "      <td>14</td>\n",
       "      <td>Produto D</td>\n",
       "    </tr>\n",
       "    <tr>\n",
       "      <th>97</th>\n",
       "      <td>2024-01-19</td>\n",
       "      <td>117.36</td>\n",
       "      <td>Carlos</td>\n",
       "      <td>12</td>\n",
       "      <td>Produto E</td>\n",
       "    </tr>\n",
       "    <tr>\n",
       "      <th>98</th>\n",
       "      <td>2024-01-13</td>\n",
       "      <td>934.73</td>\n",
       "      <td>Pedro</td>\n",
       "      <td>4</td>\n",
       "      <td>Produto E</td>\n",
       "    </tr>\n",
       "    <tr>\n",
       "      <th>99</th>\n",
       "      <td>2024-03-26</td>\n",
       "      <td>349.69</td>\n",
       "      <td>Ana</td>\n",
       "      <td>11</td>\n",
       "      <td>Produto E</td>\n",
       "    </tr>\n",
       "  </tbody>\n",
       "</table>\n",
       "<p>100 rows × 5 columns</p>\n",
       "</div>"
      ],
      "text/plain": [
       "   Data da venda  Valor da venda Vendedor  Quantidade vendida    Produto\n",
       "0     2024-01-29          212.80    Pedro                   8  Produto D\n",
       "1     2024-05-19          428.04     João                  16  Produto E\n",
       "2     2024-02-19          982.79      Ana                  20  Produto A\n",
       "3     2024-02-15          127.86    Pedro                   1  Produto B\n",
       "4     2024-01-13          429.88    Maria                   6  Produto E\n",
       "..           ...             ...      ...                 ...        ...\n",
       "95    2024-03-13           78.17     João                  18  Produto A\n",
       "96    2024-04-19          865.72    Maria                  14  Produto D\n",
       "97    2024-01-19          117.36   Carlos                  12  Produto E\n",
       "98    2024-01-13          934.73    Pedro                   4  Produto E\n",
       "99    2024-03-26          349.69      Ana                  11  Produto E\n",
       "\n",
       "[100 rows x 5 columns]"
      ]
     },
     "execution_count": 27,
     "metadata": {},
     "output_type": "execute_result"
    }
   ],
   "source": [
    "df = pd.read_csv('vendas_ficticias.csv')\n",
    "df"
   ]
  },
  {
   "cell_type": "code",
   "execution_count": 28,
   "metadata": {},
   "outputs": [
    {
     "name": "stdout",
     "output_type": "stream",
     "text": [
      "Média do valor dos produtos vendidos: 553.2947\n"
     ]
    }
   ],
   "source": [
    "media_venda = df['Valor da venda'].mean()\n",
    "print(f\"Média do valor dos produtos vendidos: {media_venda}\")\n",
    "\n"
   ]
  },
  {
   "cell_type": "code",
   "execution_count": 29,
   "metadata": {},
   "outputs": [
    {
     "name": "stdout",
     "output_type": "stream",
     "text": [
      "Médida da quantidade de produtos vendidos: 9.9\n",
      "None\n"
     ]
    }
   ],
   "source": [
    "media_quantidade = df ['Quantidade vendida'].mean()\n",
    "print(print(f\"Médida da quantidade de produtos vendidos: {media_quantidade}\"))"
   ]
  },
  {
   "cell_type": "code",
   "execution_count": 30,
   "metadata": {},
   "outputs": [
    {
     "name": "stdout",
     "output_type": "stream",
     "text": [
      "Mediana dos valores dos produtos: 569.535\n"
     ]
    }
   ],
   "source": [
    "mediana_vendas = df['Valor da venda'].median()\n",
    "print(f\"Mediana dos valores dos produtos: {mediana_vendas}\")\n"
   ]
  },
  {
   "cell_type": "code",
   "execution_count": 32,
   "metadata": {},
   "outputs": [
    {
     "name": "stdout",
     "output_type": "stream",
     "text": [
      "Mediana da quantidade de produtos vendidos: 10.0\n"
     ]
    }
   ],
   "source": [
    "mediana_quantidade = df['Quantidade vendida'].median()\n",
    "print(f\"Mediana da quantidade de produtos vendidos: {mediana_quantidade}\")"
   ]
  },
  {
   "cell_type": "code",
   "execution_count": 33,
   "metadata": {},
   "outputs": [
    {
     "name": "stdout",
     "output_type": "stream",
     "text": [
      "Valor mínimo vendido: 55.02\n"
     ]
    }
   ],
   "source": [
    "valor_minimo_vendas = df['Valor da venda'].min()\n",
    "print(f\"Valor mínimo vendido: {valor_minimo_vendas}\")"
   ]
  },
  {
   "cell_type": "code",
   "execution_count": 35,
   "metadata": {},
   "outputs": [
    {
     "name": "stdout",
     "output_type": "stream",
     "text": [
      "Quantidade mínima vendida: 1\n"
     ]
    }
   ],
   "source": [
    "valor_minimo_quantidade =  df['Quantidade vendida'].min()\n",
    "print(f\"Quantidade mínima vendida: {valor_minimo_quantidade}\")"
   ]
  },
  {
   "cell_type": "code",
   "execution_count": 36,
   "metadata": {},
   "outputs": [
    {
     "name": "stdout",
     "output_type": "stream",
     "text": [
      "Valor maximo vendido: 987.42\n"
     ]
    }
   ],
   "source": [
    "valor_maximo_vendas = df['Valor da venda'].max()\n",
    "print(f\"Valor maximo vendido: {valor_maximo_vendas}\")"
   ]
  },
  {
   "cell_type": "code",
   "execution_count": 38,
   "metadata": {},
   "outputs": [
    {
     "name": "stdout",
     "output_type": "stream",
     "text": [
      "Quantidade maxima vendida: 20\n"
     ]
    }
   ],
   "source": [
    "quantidade_maxima_vendida =  df['Quantidade vendida'].max()\n",
    "print(f\"Quantidade maxima vendida: {quantidade_maxima_vendida}\")"
   ]
  },
  {
   "cell_type": "code",
   "execution_count": 43,
   "metadata": {},
   "outputs": [
    {
     "name": "stdout",
     "output_type": "stream",
     "text": [
      "Desvio Padrão dos valores dos produtos vendidos: 78995.13779889898\n"
     ]
    }
   ],
   "source": [
    "desvio_padrao_valores_vendidos = df ['Valor da venda'].var() \n",
    "print(f\"Desvio Padrão dos valores dos produtos vendidos: {desvio_padrao_valores_vendidos}\")"
   ]
  },
  {
   "cell_type": "code",
   "execution_count": 44,
   "metadata": {},
   "outputs": [
    {
     "name": "stdout",
     "output_type": "stream",
     "text": [
      "Desvio Padrão dos valores dos produtos vendidos: 34.57575757575758\n"
     ]
    }
   ],
   "source": [
    "desvio_padrao_quantidade = df ['Quantidade vendida'].var() \n",
    "print(f\"Desvio Padrão da quantidade de produtos vendidos: {desvio_padrao_quantidade}\")"
   ]
  },
  {
   "cell_type": "code",
   "execution_count": 45,
   "metadata": {},
   "outputs": [
    {
     "name": "stdout",
     "output_type": "stream",
     "text": [
      "Produto mais vendido:0    Produto D\n",
      "Name: Produto, dtype: object\n"
     ]
    }
   ],
   "source": [
    "produto_mais_vendido = df ['Produto'].mode()\n",
    "print(f\"Produto mais vendido:{produto_mais_vendido}\")"
   ]
  },
  {
   "cell_type": "code",
   "execution_count": null,
   "metadata": {},
   "outputs": [],
   "source": []
  }
 ],
 "metadata": {
  "kernelspec": {
   "display_name": "Python 3",
   "language": "python",
   "name": "python3"
  },
  "language_info": {
   "codemirror_mode": {
    "name": "ipython",
    "version": 3
   },
   "file_extension": ".py",
   "mimetype": "text/x-python",
   "name": "python",
   "nbconvert_exporter": "python",
   "pygments_lexer": "ipython3",
   "version": "3.12.3"
  }
 },
 "nbformat": 4,
 "nbformat_minor": 2
}

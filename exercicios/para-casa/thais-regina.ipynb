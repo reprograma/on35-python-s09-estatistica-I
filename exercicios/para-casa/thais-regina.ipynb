{
 "cells": [
  {
   "cell_type": "markdown",
   "metadata": {},
   "source": [
    "# Perguntas para responder\n",
    "Calcular a média\n",
    "Mediana\n",
    "Mínimo\n",
    "Máximo \n",
    "Desvio padrão dos valores das vendas Quantidade vendida.\n",
    "Qual produto que mais vendeu? (Usar a moda para identificar)."
   ]
  },
  {
   "cell_type": "code",
   "execution_count": 1,
   "metadata": {},
   "outputs": [],
   "source": [
    "#  Importa a biblioteca pandas\n",
    "import pandas as pd"
   ]
  },
  {
   "cell_type": "code",
   "execution_count": 2,
   "metadata": {},
   "outputs": [],
   "source": [
    "# lê o arquivo CSV e converte em um Data Frame\n",
    "df = pd.read_csv('vendas_ficticias.csv')"
   ]
  },
  {
   "cell_type": "code",
   "execution_count": 7,
   "metadata": {},
   "outputs": [
    {
     "name": "stdout",
     "output_type": "stream",
     "text": [
      " A média de valor das vendas é: 553.29\n"
     ]
    }
   ],
   "source": [
    "#Calculando  a média dos valores das vendas\n",
    "media_valor_vendas = float(df['Valor da venda'].mean())\n",
    "print(f\" A média de valor das vendas é: {media_valor_vendas:.2f}\")"
   ]
  },
  {
   "cell_type": "code",
   "execution_count": 10,
   "metadata": {},
   "outputs": [
    {
     "name": "stdout",
     "output_type": "stream",
     "text": [
      " A mediana de valor das vendas é: 569.53\n"
     ]
    }
   ],
   "source": [
    "#Calculando  a Mediana dos valores das vendas\n",
    "mediana_valor_vendas = float(df['Valor da venda'].median())\n",
    "print(f\" A mediana de valor das vendas é: {mediana_valor_vendas:.2f}\")\n"
   ]
  },
  {
   "cell_type": "code",
   "execution_count": 30,
   "metadata": {},
   "outputs": [
    {
     "name": "stdout",
     "output_type": "stream",
     "text": [
      "A menor venda realizada foi: 55.02\n"
     ]
    }
   ],
   "source": [
    "#Calculando  a venda de menor valor\n",
    "minimo_valor_vendas = float(df['Valor da venda'].min())\n",
    "print(f\"A menor venda realizada foi: {minimo_valor_vendas}\")"
   ]
  },
  {
   "cell_type": "code",
   "execution_count": 47,
   "metadata": {},
   "outputs": [
    {
     "name": "stdout",
     "output_type": "stream",
     "text": [
      "A maior venda realizada foi:: 987.42\n"
     ]
    }
   ],
   "source": [
    "#Calculando  a venda de menor valor\n",
    "maximo_valor_vendas = float(df['Valor da venda'].max())\n",
    "print(f\"A maior venda realizada foi:: {maximo_valor_vendas}\")"
   ]
  },
  {
   "cell_type": "code",
   "execution_count": 45,
   "metadata": {},
   "outputs": [
    {
     "name": "stdout",
     "output_type": "stream",
     "text": [
      "A variância dos valores das vendas é: 78995.14, logo o desvio padrao é: 281.06\n"
     ]
    }
   ],
   "source": [
    "#Calculando  a variância e o desvio padrão dos valores das vendas\n",
    "variancia_valor_vendas = df['Valor da venda'].var()\n",
    "desvio_valor_vendas = df['Valor da venda'].std()\n",
    "print(f\"A variância dos valores das vendas é: {variancia_valor_vendas:.2f}, logo o desvio padrão é: {desvio_valor_vendas:.2f}\")\n",
    "\n"
   ]
  },
  {
   "cell_type": "code",
   "execution_count": 53,
   "metadata": {},
   "outputs": [
    {
     "name": "stdout",
     "output_type": "stream",
     "text": [
      "A maior quantidade vendida de um produto foi: 20.00\n"
     ]
    }
   ],
   "source": [
    "#Calculando  a maior quantidade vendida dos produtos \n",
    "quantidade_mais_vendido = df['Quantidade vendida'].max()\n",
    "print(f\"A maior quantidade vendida de um produto foi: {quantidade_mais_vendido:.2f}\")"
   ]
  },
  {
   "cell_type": "code",
   "execution_count": 60,
   "metadata": {},
   "outputs": [
    {
     "name": "stdout",
     "output_type": "stream",
     "text": [
      "O produto mais vendido foi o: 0    Produto D\n",
      "Name: Produto, dtype: object\n"
     ]
    }
   ],
   "source": [
    "#Calculando o produto mais vendido\n",
    "produto_mais_vendido = df['Produto'].mode()\n",
    "print(f\"O produto mais vendido foi o: {produto_mais_vendido}\")"
   ]
  }
 ],
 "metadata": {
  "kernelspec": {
   "display_name": ".venv",
   "language": "python",
   "name": "python3"
  },
  "language_info": {
   "codemirror_mode": {
    "name": "ipython",
    "version": 3
   },
   "file_extension": ".py",
   "mimetype": "text/x-python",
   "name": "python",
   "nbconvert_exporter": "python",
   "pygments_lexer": "ipython3",
   "version": "3.12.3"
  }
 },
 "nbformat": 4,
 "nbformat_minor": 2
}

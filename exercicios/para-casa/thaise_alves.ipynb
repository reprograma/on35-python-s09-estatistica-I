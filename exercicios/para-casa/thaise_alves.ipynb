{
 "cells": [
  {
   "cell_type": "code",
   "execution_count": 141,
   "metadata": {},
   "outputs": [],
   "source": [
    "import pandas as pd"
   ]
  },
  {
   "cell_type": "code",
   "execution_count": 142,
   "metadata": {},
   "outputs": [
    {
     "data": {
      "text/html": [
       "<div>\n",
       "<style scoped>\n",
       "    .dataframe tbody tr th:only-of-type {\n",
       "        vertical-align: middle;\n",
       "    }\n",
       "\n",
       "    .dataframe tbody tr th {\n",
       "        vertical-align: top;\n",
       "    }\n",
       "\n",
       "    .dataframe thead th {\n",
       "        text-align: right;\n",
       "    }\n",
       "</style>\n",
       "<table border=\"1\" class=\"dataframe\">\n",
       "  <thead>\n",
       "    <tr style=\"text-align: right;\">\n",
       "      <th></th>\n",
       "      <th>Data da venda</th>\n",
       "      <th>Valor da venda</th>\n",
       "      <th>Vendedor</th>\n",
       "      <th>Quantidade vendida</th>\n",
       "      <th>Produto</th>\n",
       "    </tr>\n",
       "  </thead>\n",
       "  <tbody>\n",
       "    <tr>\n",
       "      <th>0</th>\n",
       "      <td>2024-01-29</td>\n",
       "      <td>212.80</td>\n",
       "      <td>Pedro</td>\n",
       "      <td>8</td>\n",
       "      <td>Produto D</td>\n",
       "    </tr>\n",
       "    <tr>\n",
       "      <th>1</th>\n",
       "      <td>2024-05-19</td>\n",
       "      <td>428.04</td>\n",
       "      <td>João</td>\n",
       "      <td>16</td>\n",
       "      <td>Produto E</td>\n",
       "    </tr>\n",
       "    <tr>\n",
       "      <th>2</th>\n",
       "      <td>2024-02-19</td>\n",
       "      <td>982.79</td>\n",
       "      <td>Ana</td>\n",
       "      <td>20</td>\n",
       "      <td>Produto A</td>\n",
       "    </tr>\n",
       "    <tr>\n",
       "      <th>3</th>\n",
       "      <td>2024-02-15</td>\n",
       "      <td>127.86</td>\n",
       "      <td>Pedro</td>\n",
       "      <td>1</td>\n",
       "      <td>Produto B</td>\n",
       "    </tr>\n",
       "    <tr>\n",
       "      <th>4</th>\n",
       "      <td>2024-01-13</td>\n",
       "      <td>429.88</td>\n",
       "      <td>Maria</td>\n",
       "      <td>6</td>\n",
       "      <td>Produto E</td>\n",
       "    </tr>\n",
       "    <tr>\n",
       "      <th>...</th>\n",
       "      <td>...</td>\n",
       "      <td>...</td>\n",
       "      <td>...</td>\n",
       "      <td>...</td>\n",
       "      <td>...</td>\n",
       "    </tr>\n",
       "    <tr>\n",
       "      <th>95</th>\n",
       "      <td>2024-03-13</td>\n",
       "      <td>78.17</td>\n",
       "      <td>João</td>\n",
       "      <td>18</td>\n",
       "      <td>Produto A</td>\n",
       "    </tr>\n",
       "    <tr>\n",
       "      <th>96</th>\n",
       "      <td>2024-04-19</td>\n",
       "      <td>865.72</td>\n",
       "      <td>Maria</td>\n",
       "      <td>14</td>\n",
       "      <td>Produto D</td>\n",
       "    </tr>\n",
       "    <tr>\n",
       "      <th>97</th>\n",
       "      <td>2024-01-19</td>\n",
       "      <td>117.36</td>\n",
       "      <td>Carlos</td>\n",
       "      <td>12</td>\n",
       "      <td>Produto E</td>\n",
       "    </tr>\n",
       "    <tr>\n",
       "      <th>98</th>\n",
       "      <td>2024-01-13</td>\n",
       "      <td>934.73</td>\n",
       "      <td>Pedro</td>\n",
       "      <td>4</td>\n",
       "      <td>Produto E</td>\n",
       "    </tr>\n",
       "    <tr>\n",
       "      <th>99</th>\n",
       "      <td>2024-03-26</td>\n",
       "      <td>349.69</td>\n",
       "      <td>Ana</td>\n",
       "      <td>11</td>\n",
       "      <td>Produto E</td>\n",
       "    </tr>\n",
       "  </tbody>\n",
       "</table>\n",
       "<p>100 rows × 5 columns</p>\n",
       "</div>"
      ],
      "text/plain": [
       "   Data da venda  Valor da venda Vendedor  Quantidade vendida    Produto\n",
       "0     2024-01-29          212.80    Pedro                   8  Produto D\n",
       "1     2024-05-19          428.04     João                  16  Produto E\n",
       "2     2024-02-19          982.79      Ana                  20  Produto A\n",
       "3     2024-02-15          127.86    Pedro                   1  Produto B\n",
       "4     2024-01-13          429.88    Maria                   6  Produto E\n",
       "..           ...             ...      ...                 ...        ...\n",
       "95    2024-03-13           78.17     João                  18  Produto A\n",
       "96    2024-04-19          865.72    Maria                  14  Produto D\n",
       "97    2024-01-19          117.36   Carlos                  12  Produto E\n",
       "98    2024-01-13          934.73    Pedro                   4  Produto E\n",
       "99    2024-03-26          349.69      Ana                  11  Produto E\n",
       "\n",
       "[100 rows x 5 columns]"
      ]
     },
     "execution_count": 142,
     "metadata": {},
     "output_type": "execute_result"
    }
   ],
   "source": [
    "df = pd.read_csv('vendas_ficticias.csv')\n",
    "df"
   ]
  },
  {
   "cell_type": "markdown",
   "metadata": {},
   "source": [
    "### Nome de cada coluna"
   ]
  },
  {
   "cell_type": "code",
   "execution_count": 143,
   "metadata": {},
   "outputs": [
    {
     "data": {
      "text/plain": [
       "Index(['Data da venda', 'Valor da venda', 'Vendedor', 'Quantidade vendida',\n",
       "       'Produto'],\n",
       "      dtype='object')"
      ]
     },
     "execution_count": 143,
     "metadata": {},
     "output_type": "execute_result"
    }
   ],
   "source": [
    "df.columns"
   ]
  },
  {
   "cell_type": "markdown",
   "metadata": {},
   "source": [
    "### Cálculos referentes aos valores das vendas\n",
    "\n",
    "**1 - Média:**"
   ]
  },
  {
   "cell_type": "code",
   "execution_count": 144,
   "metadata": {},
   "outputs": [
    {
     "data": {
      "text/plain": [
       "'A média dos valores das vendas é: 553.2947'"
      ]
     },
     "execution_count": 144,
     "metadata": {},
     "output_type": "execute_result"
    }
   ],
   "source": [
    "valor_venda = df['Valor da venda']\n",
    "media = valor_venda.mean()\n",
    "(f\"A média dos valores das vendas é: {media}\")"
   ]
  },
  {
   "cell_type": "markdown",
   "metadata": {},
   "source": [
    "**2 - Mediana**"
   ]
  },
  {
   "cell_type": "code",
   "execution_count": 145,
   "metadata": {},
   "outputs": [
    {
     "data": {
      "text/plain": [
       "'A mediana dos valores das vendas é: 569.535'"
      ]
     },
     "execution_count": 145,
     "metadata": {},
     "output_type": "execute_result"
    }
   ],
   "source": [
    "valor_venda = df['Valor da venda']\n",
    "mediana = valor_venda.median()\n",
    "(f\"A mediana dos valores das vendas é: {mediana}\")"
   ]
  },
  {
   "cell_type": "markdown",
   "metadata": {},
   "source": [
    "**3 - Mínimo**"
   ]
  },
  {
   "cell_type": "code",
   "execution_count": 146,
   "metadata": {},
   "outputs": [
    {
     "data": {
      "text/plain": [
       "'O valor mínimo das vendas é: 55.02'"
      ]
     },
     "execution_count": 146,
     "metadata": {},
     "output_type": "execute_result"
    }
   ],
   "source": [
    "valor_venda = df['Valor da venda']\n",
    "minimo_valor = valor_venda.min()\n",
    "(f\"O valor mínimo das vendas é: {minimo_valor}\")"
   ]
  },
  {
   "cell_type": "markdown",
   "metadata": {},
   "source": [
    "**4 - Máximo**"
   ]
  },
  {
   "cell_type": "code",
   "execution_count": 147,
   "metadata": {},
   "outputs": [
    {
     "data": {
      "text/plain": [
       "'O valor máximo das vendas é: 987.42'"
      ]
     },
     "execution_count": 147,
     "metadata": {},
     "output_type": "execute_result"
    }
   ],
   "source": [
    "valor_venda = df['Valor da venda']\n",
    "maximo_valor = valor_venda.max()\n",
    "(f\"O valor máximo das vendas é: {maximo_valor}\")"
   ]
  },
  {
   "cell_type": "markdown",
   "metadata": {},
   "source": [
    "**5 - Desvio Padrão**"
   ]
  },
  {
   "cell_type": "code",
   "execution_count": 148,
   "metadata": {},
   "outputs": [
    {
     "data": {
      "text/plain": [
       "'O desvio padrão dos valores das vendas é: 281.06073685041633'"
      ]
     },
     "execution_count": 148,
     "metadata": {},
     "output_type": "execute_result"
    }
   ],
   "source": [
    "valor_venda = df['Valor da venda']\n",
    "desvio_padrao = valor_venda.var() ** 0.5\n",
    "(f\"O desvio padrão dos valores das vendas é: {desvio_padrao}\")"
   ]
  },
  {
   "cell_type": "markdown",
   "metadata": {},
   "source": [
    "### Cálculos referentes as quantidades vendidas\n",
    "\n",
    "**1 - Média:**"
   ]
  },
  {
   "cell_type": "code",
   "execution_count": 149,
   "metadata": {},
   "outputs": [
    {
     "data": {
      "text/plain": [
       "'A média de produtos vendidos é: 9.9'"
      ]
     },
     "execution_count": 149,
     "metadata": {},
     "output_type": "execute_result"
    }
   ],
   "source": [
    "qtd_vendidas = df['Quantidade vendida']\n",
    "media = qtd_vendidas.mean()\n",
    "(f\"A média de produtos vendidos é: {media}\")"
   ]
  },
  {
   "cell_type": "markdown",
   "metadata": {},
   "source": [
    "**2 - Mediana**"
   ]
  },
  {
   "cell_type": "code",
   "execution_count": 150,
   "metadata": {},
   "outputs": [
    {
     "data": {
      "text/plain": [
       "'A mediana de produtos vendidos é: 10.0'"
      ]
     },
     "execution_count": 150,
     "metadata": {},
     "output_type": "execute_result"
    }
   ],
   "source": [
    "qtd_vendidas = df['Quantidade vendida']\n",
    "mediana = qtd_vendidas.median()\n",
    "(f\"A mediana de produtos vendidos é: {mediana}\")"
   ]
  },
  {
   "cell_type": "markdown",
   "metadata": {},
   "source": [
    "**3 -  Mínimo**"
   ]
  },
  {
   "cell_type": "code",
   "execution_count": 151,
   "metadata": {},
   "outputs": [
    {
     "data": {
      "text/plain": [
       "'A quantidade mínima vendida é: 1'"
      ]
     },
     "execution_count": 151,
     "metadata": {},
     "output_type": "execute_result"
    }
   ],
   "source": [
    "qtd_vendidas = df['Quantidade vendida']\n",
    "minimo = qtd_vendidas.min()\n",
    "(f\"A quantidade mínima vendida é: {minimo}\")"
   ]
  },
  {
   "cell_type": "markdown",
   "metadata": {},
   "source": [
    "**4 - Máximo**"
   ]
  },
  {
   "cell_type": "code",
   "execution_count": 152,
   "metadata": {},
   "outputs": [
    {
     "data": {
      "text/plain": [
       "'A quantidade máxima vendida é: 20'"
      ]
     },
     "execution_count": 152,
     "metadata": {},
     "output_type": "execute_result"
    }
   ],
   "source": [
    "qtd_vendidas = df['Quantidade vendida']\n",
    "maximo = qtd_vendidas.max()\n",
    "(f'A quantidade máxima vendida é: {maximo}')"
   ]
  },
  {
   "cell_type": "markdown",
   "metadata": {},
   "source": [
    "**5 - Desvio Padrão**"
   ]
  },
  {
   "cell_type": "code",
   "execution_count": 153,
   "metadata": {},
   "outputs": [
    {
     "data": {
      "text/plain": [
       "'O desvio padrão da quantidade vendida é: 5.880115438982264'"
      ]
     },
     "execution_count": 153,
     "metadata": {},
     "output_type": "execute_result"
    }
   ],
   "source": [
    "qtd_vendidas = df['Quantidade vendida']\n",
    "desvio_padrao = qtd_vendidas.var() ** 0.5\n",
    "(f\"O desvio padrão da quantidade vendida é: {desvio_padrao}\")"
   ]
  },
  {
   "cell_type": "markdown",
   "metadata": {},
   "source": [
    "### Produto mais vendido\n",
    "\n",
    "O produto que mais vendeu será aquela igual a moda da coluna 'Produto'"
   ]
  },
  {
   "cell_type": "code",
   "execution_count": 157,
   "metadata": {},
   "outputs": [
    {
     "data": {
      "text/plain": [
       "'O produto mais vendido é o Produto D'"
      ]
     },
     "execution_count": 157,
     "metadata": {},
     "output_type": "execute_result"
    }
   ],
   "source": [
    "produto_mais_vendido = df['Produto']\n",
    "moda = produto_mais_vendido.mode().iloc[0]\n",
    "(f\"O produto mais vendido é o {moda}\")"
   ]
  }
 ],
 "metadata": {
  "kernelspec": {
   "display_name": "Python 3",
   "language": "python",
   "name": "python3"
  },
  "language_info": {
   "codemirror_mode": {
    "name": "ipython",
    "version": 3
   },
   "file_extension": ".py",
   "mimetype": "text/x-python",
   "name": "python",
   "nbconvert_exporter": "python",
   "pygments_lexer": "ipython3",
   "version": "3.12.3"
  }
 },
 "nbformat": 4,
 "nbformat_minor": 2
}

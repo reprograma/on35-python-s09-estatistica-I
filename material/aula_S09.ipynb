{
  "cells": [
    {
      "cell_type": "markdown",
      "metadata": {
        "id": "nL43zWtXCniJ"
      },
      "source": [
        "# Estatística com Python"
      ]
    },
    {
      "cell_type": "code",
      "execution_count": null,
      "metadata": {},
      "outputs": [],
      "source": []
    },
    {
      "cell_type": "markdown",
      "metadata": {
        "id": "wvZ3Mi_xCniR"
      },
      "source": [
        "Uma pessoa analista de dados precisa aprender sobre estatística porque ela fornece as ferramentas e técnicas necessárias para interpretar e analisar dados de maneira eficaz.\n",
        "\n",
        "A estatística ajuda a entender padrões, testar hipóteses e fazer previsões.\n",
        "\n",
        "Aqui estão algumas razões específicas:\n",
        "\n",
        "* **Estatística Descritiva**: Estatística ajuda a descrever e resumir dados.\n",
        "* **Inferência:** Permite fazer inferências sobre uma população com base em uma amostra de dados, ajudando a tirar conclusões e tomar decisões fundamentadas.\n",
        "* **Modelagem**: Técnicas estatísticas são usadas para construir modelos que ajudam a prever futuros comportamentos ou resultados com base em dados históricos.\n",
        "* **Teste de Hipóteses**: Ajuda a testar suposições sobre os dados e verificar a validade de teorias ou hipóteses.\n",
        "* **Identificação de Anomalias:** Estatística ajuda a detectar outliers ou anomalias nos dados, que podem indicar problemas ou oportunidades.\n",
        "\n",
        "Sendo assim, a estatística é fundamental para garantir que a análise de dados seja robusta, confiável e útil para a tomada de decisões.\n",
        "\n",
        "Uma das vantagens de aprender estatística é que aprimoramos os nossos pensamentos críticos, auxiliando na compreensão da incerteza, favorece decisões racionais."
      ]
    },
    {
      "cell_type": "markdown",
      "metadata": {
        "id": "zwtVP82_FmYD"
      },
      "source": [
        "## Tipos de Dados\n",
        "\n",
        "Os dados são gerados de muitas fontes: medições do sensor(IoT), eventos(sites/redes sociais), texto, imagens e vídeos.\n",
        "\n",
        "Vamos abordar nesta aula **dados estruturados**.\n",
        "\n",
        "Existem dois tipos básicos de dados estruturados: quantitativos e qualitativos.\n",
        "\n",
        " ### Dados Quantitativos (numéricos):\n",
        "\n",
        "Os dados **numéricos** podem ser:\n",
        "\n",
        " **Contínuos:** assumem valores em um intervalo contínuo de números, como a sua altura ou distância do trabalho até a sua casa; e\n",
        "\n",
        " **Discretos:** assumem valores em um conjunto especificado de números, como a contagem da ocorrência de um evento ou quantidade de estudantes na sala de aula.\n",
        "\n",
        " ### Dados Qualitativos (categóricos):\n",
        "\n",
        " Já os dados **categóricos** usam apenas um conjunto fixo de valores:\n",
        "\n",
        " **Nominal:** característica que não possui ordem, como o Estado que você vive (SP, DF, MG e etc.)\n",
        "\n",
        " **Ordinal:** característica que possui uma ordem de grandeza, como a avaliação da professora para a coordenação do curso (ótima, boa e ruim).\n",
        "\n",
        " **Binário:** é um caso especial de dados categóricos com apenas duas categorias de valores, como Verdadeiro ou Falso, 1 ou 0.\n",
        "\n",
        " <br>\n",
        "\n",
        "> **💡Entender a diferença entre os tipos de dados é fundamental para a escolha de ferramentas estatísticas adequadas para análise e interpretação.**\n",
        "\n",
        "<br>"
      ]
    },
    {
      "cell_type": "markdown",
      "metadata": {
        "id": "SWKQvb7mCniT"
      },
      "source": [
        "## Vamos ver alguns exemplos usando o Python\n",
        "\n",
        "Vamos usar um conjunto de dados fictício para exemplificar.\n",
        "\n",
        "Suponha que temos um conjunto de dados com informações sobre as nostas de prova de um grupo de estudantes:"
      ]
    },
    {
      "cell_type": "code",
      "execution_count": 1,
      "metadata": {},
      "outputs": [
        {
          "name": "stdout",
          "output_type": "stream",
          "text": [
            "^C\n"
          ]
        }
      ],
      "source": [
        "!pip install pandas"
      ]
    },
    {
      "cell_type": "code",
      "execution_count": 2,
      "metadata": {
        "id": "cxD8yfddCniU"
      },
      "outputs": [
        {
          "name": "stdout",
          "output_type": "stream",
          "text": [
            "Collecting pandas\n",
            "  Downloading pandas-2.2.2-cp310-cp310-win_amd64.whl (11.6 MB)\n",
            "Collecting numpy>=1.22.4\n",
            "  Downloading numpy-2.0.1-cp310-cp310-win_amd64.whl (16.6 MB)\n",
            "Collecting tzdata>=2022.7\n",
            "  Downloading tzdata-2024.1-py2.py3-none-any.whl (345 kB)\n",
            "Requirement already satisfied: python-dateutil>=2.8.2 in c:\\users\\milena\\appdata\\roaming\\python\\python310\\site-packages (from pandas) (2.9.0.post0)\n",
            "Collecting pytz>=2020.1\n",
            "  Downloading pytz-2024.1-py2.py3-none-any.whl (505 kB)\n",
            "Requirement already satisfied: six>=1.5 in c:\\users\\milena\\appdata\\roaming\\python\\python310\\site-packages (from python-dateutil>=2.8.2->pandas) (1.16.0)\n",
            "Installing collected packages: tzdata, pytz, numpy, pandas\n",
            "Successfully installed numpy-2.0.1 pandas-2.2.2 pytz-2024.1 tzdata-2024.1\n"
          ]
        },
        {
          "name": "stderr",
          "output_type": "stream",
          "text": [
            "WARNING: You are using pip version 21.2.3; however, version 24.1.2 is available.\n",
            "You should consider upgrading via the 'C:\\Users\\Milena\\AppData\\Local\\Programs\\Python\\Python310\\python.exe -m pip install --upgrade pip' command.\n"
          ]
        }
      ],
      "source": [
        "# importando a biblioteca pandas\n",
        "import pandas as pd"
      ]
    },
    {
      "cell_type": "code",
      "execution_count": 4,
      "metadata": {
        "colab": {
          "base_uri": "https://localhost:8080/",
          "height": 206
        },
        "id": "C_NiZRneCniX",
        "outputId": "8d26fe1c-9d8c-4342-fc27-c96572a2a8c0"
      },
      "outputs": [
        {
          "data": {
            "text/html": [
              "<div>\n",
              "<style scoped>\n",
              "    .dataframe tbody tr th:only-of-type {\n",
              "        vertical-align: middle;\n",
              "    }\n",
              "\n",
              "    .dataframe tbody tr th {\n",
              "        vertical-align: top;\n",
              "    }\n",
              "\n",
              "    .dataframe thead th {\n",
              "        text-align: right;\n",
              "    }\n",
              "</style>\n",
              "<table border=\"1\" class=\"dataframe\">\n",
              "  <thead>\n",
              "    <tr style=\"text-align: right;\">\n",
              "      <th></th>\n",
              "      <th>id</th>\n",
              "      <th>uf</th>\n",
              "      <th>idade</th>\n",
              "      <th>trabalha_como_jornalista</th>\n",
              "      <th>escolaridade</th>\n",
              "      <th>salario</th>\n",
              "    </tr>\n",
              "  </thead>\n",
              "  <tbody>\n",
              "    <tr>\n",
              "      <th>0</th>\n",
              "      <td>1001</td>\n",
              "      <td>SP</td>\n",
              "      <td>35</td>\n",
              "      <td>N</td>\n",
              "      <td>4</td>\n",
              "      <td>4200.00</td>\n",
              "    </tr>\n",
              "    <tr>\n",
              "      <th>1</th>\n",
              "      <td>1002</td>\n",
              "      <td>SP</td>\n",
              "      <td>45</td>\n",
              "      <td>S</td>\n",
              "      <td>3</td>\n",
              "      <td>4352.56</td>\n",
              "    </tr>\n",
              "    <tr>\n",
              "      <th>2</th>\n",
              "      <td>1003</td>\n",
              "      <td>DF</td>\n",
              "      <td>23</td>\n",
              "      <td>N</td>\n",
              "      <td>5</td>\n",
              "      <td>4500.65</td>\n",
              "    </tr>\n",
              "    <tr>\n",
              "      <th>3</th>\n",
              "      <td>1004</td>\n",
              "      <td>DF</td>\n",
              "      <td>25</td>\n",
              "      <td>N</td>\n",
              "      <td>5</td>\n",
              "      <td>5340.00</td>\n",
              "    </tr>\n",
              "    <tr>\n",
              "      <th>4</th>\n",
              "      <td>1005</td>\n",
              "      <td>MG</td>\n",
              "      <td>37</td>\n",
              "      <td>S</td>\n",
              "      <td>5</td>\n",
              "      <td>50000.00</td>\n",
              "    </tr>\n",
              "  </tbody>\n",
              "</table>\n",
              "</div>"
            ],
            "text/plain": [
              "     id  uf  idade trabalha_como_jornalista escolaridade   salario\n",
              "0  1001  SP     35                        N            4   4200.00\n",
              "1  1002  SP     45                        S            3   4352.56\n",
              "2  1003  DF     23                        N            5   4500.65\n",
              "3  1004  DF     25                        N            5   5340.00\n",
              "4  1005  MG     37                        S            5  50000.00"
            ]
          },
          "execution_count": 4,
          "metadata": {},
          "output_type": "execute_result"
        }
      ],
      "source": [
        "# Criar um DataFrame com dados fictícios\n",
        "\n",
        "dados = {'id': [1001, 1002, 1003, 1004, 1005],\n",
        "             'uf': ['SP', 'SP', 'DF', 'DF', 'MG'],\n",
        "             'idade': [35, 45, 23, 25, 37],\n",
        "             'trabalha_como_jornalista': ['N', 'S', 'N', 'N', 'S'],\n",
        "             'escolaridade': ['4', '3', '5', '5', '5'],\n",
        "             'salario': [4200.00, 4352.56, 4500.65, 5340.00, 50000]\n",
        "            }\n",
        "dados_df = pd.DataFrame(dados)\n",
        "dados_df\n",
        "\n"
      ]
    },
    {
      "cell_type": "markdown",
      "metadata": {
        "id": "1uDqgN35HXHt"
      },
      "source": [
        "# Desafio:\n",
        "<br>\n",
        "&#129299;\n",
        "Agora é com vocês:\n",
        "\n",
        "1. Quais são os dados quantitativos; e\n",
        "2. Quais são os dados qualitativos.\n",
        "\n",
        "<br>"
      ]
    },
    {
      "cell_type": "markdown",
      "metadata": {
        "id": "jGg_nOFxHqnK"
      },
      "source": [
        "## Medidas de Tendência Central e Medidas de Dispersão\n",
        "\n",
        "As medidas de tendência central são utilizadas para representar um conjunto de dados como um todo (é um valor central), identificando as características apresentadas por este conjunto. São ferramentas essenciais na Estatística, pois nos permitem resumir e representar características importantes de um conjunto de dados de forma concisa. Elas nos ajudam a entender a tendência central dos dados (onde a maioria dos valores se concentra) e a dispersão (quão espalhados os dados estão em torno do centro).\n",
        "\n",
        "As medidas de tendência central mais utilizadas são: média, mediana, moda, variância e desvio padrão.\n"
      ]
    },
    {
      "cell_type": "markdown",
      "metadata": {
        "id": "LZHNWFdeIrnt"
      },
      "source": [
        "**Média**\n",
        "\n",
        "A medida de tendência central mais básica é a média que representa o valor central dos dados. A média é a soma de todos os valores dividida pelo número de total de observações dos dados.\n",
        "\n",
        "**Exemplo:**\n",
        "\n",
        "Soma das idade (35 + 45 + 23 + 25 + 37) pelo total de observações dos dados 5.\n",
        "\n",
        "**Fórmula:**\n",
        "\n",
        "```python\n",
        " Média = Soma dos valores / Número de observações\n",
        "\n",
        "```"
      ]
    },
    {
      "cell_type": "code",
      "execution_count": 47,
      "metadata": {
        "colab": {
          "base_uri": "https://localhost:8080/"
        },
        "id": "XECAiYdlIvRu",
        "outputId": "9e8865a5-933d-476e-b54e-fb08dce5c24e"
      },
      "outputs": [
        {
          "data": {
            "text/plain": [
              "33.0"
            ]
          },
          "execution_count": 47,
          "metadata": {},
          "output_type": "execute_result"
        }
      ],
      "source": [
        "# cálculo manual\n",
        "(35 + 45 + 23 + 25 + 37)/5"
      ]
    },
    {
      "cell_type": "code",
      "execution_count": 48,
      "metadata": {
        "colab": {
          "base_uri": "https://localhost:8080/"
        },
        "id": "O8VarEsnJ56A",
        "outputId": "fdef3fba-b436-4041-bd72-0a3bf079da9b"
      },
      "outputs": [
        {
          "data": {
            "text/plain": [
              "33.0"
            ]
          },
          "execution_count": 48,
          "metadata": {},
          "output_type": "execute_result"
        }
      ],
      "source": [
        "# cálculo usando a função mean\n",
        "dados_df['idade'].mean()"
      ]
    },
    {
      "cell_type": "markdown",
      "metadata": {
        "id": "en6nq8jPKFYu"
      },
      "source": [
        "E o que a média quer nos dizer?\n",
        "\n",
        "Que a faixa etária do nosso conjunto de dados tem 33 anos na média."
      ]
    },
    {
      "cell_type": "markdown",
      "metadata": {
        "id": "vozC9a8BKe7P"
      },
      "source": [
        "###Mediana:\n",
        "\n",
        "A mediana é o valor que divide um conjunto de dados ordenado em duas partes iguais. Ou seja, metade dos valores estão abaixo da mediana e metade estão acima.\n",
        "\n",
        "**Exemplo:**\n",
        "\n",
        "Em (23 + 25 + 35 + 37 + 45) a mediana é 35, pois esse valor que está localizado no meio dos dados.\n",
        "\n",
        "**Fórmula:**\n",
        "\n",
        "```python\n",
        "  - Para número ímpar de dados, a mediana é o valor que está exatamente no meio do conjunto ordenado.\n",
        "  - Para número par de dados, a mediana é a média dos dois valores centrais do conjunto ordenado.\n",
        "```"
      ]
    },
    {
      "cell_type": "code",
      "execution_count": 49,
      "metadata": {
        "colab": {
          "base_uri": "https://localhost:8080/"
        },
        "id": "MUMJJMAmKAHE",
        "outputId": "d35f729e-6f5b-47d8-8e46-754e4b41a358"
      },
      "outputs": [
        {
          "data": {
            "text/plain": [
              "35.0"
            ]
          },
          "execution_count": 49,
          "metadata": {},
          "output_type": "execute_result"
        }
      ],
      "source": [
        "# cálculo usando a função median\n",
        "dados_df['idade'].median()"
      ]
    },
    {
      "cell_type": "markdown",
      "metadata": {
        "id": "LFb5zDHmLKiA"
      },
      "source": [
        "###Moda:\n",
        "\n",
        "A moda é o valor que mais aparece em um conjunto de dados, qual indica o valor mais frequente do conjunto de dados.\n",
        "\n",
        "**Exemplo:**\n",
        "\n",
        "Se escolaridade do nosso conjunto de dados é 4, 3, 5, 5, 5, então a moda será 5, pois é a escolaridade que aparece mais vezes.\n",
        "\n",
        "**Ponto de atenção**: Um conjunto de dados pode ter mais de uma moda (bimodal, trimodal, etc.) ou não ter moda (se todos os valores aparecem uma única vez).\n"
      ]
    },
    {
      "cell_type": "code",
      "execution_count": 50,
      "metadata": {
        "colab": {
          "base_uri": "https://localhost:8080/"
        },
        "id": "UP5PIjWHLGGO",
        "outputId": "83c4b636-d85d-4f17-c9bd-3f1c995aaec9"
      },
      "outputs": [
        {
          "data": {
            "text/plain": [
              "0    5\n",
              "Name: escolaridade, dtype: object"
            ]
          },
          "execution_count": 50,
          "metadata": {},
          "output_type": "execute_result"
        }
      ],
      "source": [
        "# cálculo usando a função mode\n",
        "dados_df['escolaridade'].mode()"
      ]
    },
    {
      "cell_type": "markdown",
      "metadata": {
        "id": "M1V6DryAMbmR"
      },
      "source": [
        "###Variância\n",
        "\n",
        "A variância mede a dispersão dos dados em relação à média. Ela indica o quão distantes os dados estão da média, ou seja, quão variáveis os dados são.\n",
        "\n",
        "**Exemplo**:\n",
        "\n",
        "Imagine que estamos analisando a altura de todas as pessoas em uma sala de aula. Primeiro, encontramos a altura média, que é apenas a soma de todas as alturas dividida pelo número de pessoas. Isso nos dá uma ideia geral de quão altas são as pessoas em média.\n",
        "\n",
        "Agora, a variância nos ajuda a entender quão espalhadas estão essas alturas em torno da média. Em outras palavras, a variância nos mostra se todas as pessoas têm alturas muito parecidas (ou seja, se estão todas próximas da média) ou se há uma grande variação, com algumas pessoas muito altas e outras muito baixas.\n",
        "\n",
        "Para calcular a variância, fazemos o seguinte:\n",
        "\n",
        "```python\n",
        "\n",
        "1. Encontramos a média das alturas.\n",
        "2. Para cada pessoa, calculamos a diferença entre a altura dela e a média e depois elevamos essa diferença ao quadrado. Isso é importante porque, se não elevássemos ao quadrado, as diferenças positivas e negativas se cancelariam.\n",
        "3. Somamos todas essas diferenças ao quadrado.\n",
        "4. Dividimos essa soma pelo número de pessoas (ou pelo número de pessoas menos um, dependendo do contexto). Isso nos dá a variância.\n",
        "```\n",
        "\n",
        "Quanto maior a variância, mais espalhadas estão as alturas em relação à média. Uma variância pequena indica que as alturas são bastante uniformes.\n",
        "\n",
        "Em resumo, a variância é uma medida que nos diz o quão variáveis são os dados em um conjunto. Se todos os valores são muito próximos da média, a variância será baixa. Se os valores são muito diferentes entre si, a variância será alta."
      ]
    },
    {
      "cell_type": "code",
      "execution_count": 51,
      "metadata": {
        "colab": {
          "base_uri": "https://localhost:8080/"
        },
        "id": "4_WKCHiYLxrG",
        "outputId": "897f7982-fecc-4f16-fc6b-f6877c06d393"
      },
      "outputs": [
        {
          "data": {
            "text/plain": [
              "82.0"
            ]
          },
          "execution_count": 51,
          "metadata": {},
          "output_type": "execute_result"
        }
      ],
      "source": [
        "# cálculo usando a função var\n",
        "dados_df['idade'].var()"
      ]
    },
    {
      "cell_type": "markdown",
      "metadata": {
        "id": "F5t6wuSsPAbS"
      },
      "source": [
        "###Desvio Padrão\n",
        "\n",
        "O desvio padrão é uma ferramenta que usamos para entender a variabilidade ou a dispersão de um conjunto de dados em relação à média.\n",
        "\n",
        "Imagine que temos o mesmo grupo de pessoas em uma sala de aula e queremos saber a altura média delas. Medimos as alturas e encontramos a média. Agora, queremos entender quão diferentes são as alturas das pessoas em relação a essa média.\n",
        "\n",
        "O **desvio padrão** nos ajuda a fazer isso. Ele nos diz, em média, quão longe estão as alturas das pessoas da média que encontramos.\n",
        "\n",
        "Passos para entender o desvio padrão:\n",
        "```python\n",
        "\n",
        "1. Encontre a média: Primeiro, calculamos a média das alturas.\n",
        "\n",
        "2. Calcule as diferenças: Em seguida, para cada altura, calculamos a diferença entre a altura e a média.\n",
        "\n",
        "3. Quadrado das diferenças: Para evitar que as diferenças positivas e negativas se anulem, elevamos essas diferenças ao quadrado.\n",
        "\n",
        "4. Média das diferenças quadradas: Calculamos a média dessas diferenças quadradas. Isso nos dá a \"variância\".\n",
        "\n",
        "5. Raiz quadrada da variância: Finalmente, tiramos a raiz quadrada da variância. Isso nos dá o desvio padrão.\n",
        "```\n",
        "\n",
        "Em termos simples:\n",
        "\n",
        "Desvio padrão é uma medida que nos diz, em média, quão longe cada altura está da média das alturas.\n",
        "\n",
        "Se o desvio padrão é pequeno, significa que as alturas estão bem próximas da média. Se o desvio padrão é grande, significa que há uma grande variação nas alturas."
      ]
    },
    {
      "cell_type": "markdown",
      "metadata": {
        "id": "zLECw2XaRT5X"
      },
      "source": [
        "### Variância alta\n",
        "\n",
        "Para determinar se uma variância de 82 é alta, precisamos considerar o contexto dos dados. A variância indica o grau de dispersão dos dados em relação à média. Valores mais altos de variância significam maior dispersão, enquanto valores mais baixos indicam que os dados estão mais próximos da média.\n",
        "\n",
        "Vamos calcular a média e a variância populacional para entender melhor.\n",
        "\n",
        "Média das idades:"
      ]
    },
    {
      "cell_type": "code",
      "execution_count": 5,
      "metadata": {
        "colab": {
          "base_uri": "https://localhost:8080/"
        },
        "id": "1EA8AGlvRk_D",
        "outputId": "1ace8d32-c8f4-4e1d-c1ce-5e311a68f072"
      },
      "outputs": [
        {
          "data": {
            "text/plain": [
              "np.float64(33.0)"
            ]
          },
          "execution_count": 5,
          "metadata": {},
          "output_type": "execute_result"
        }
      ],
      "source": [
        "media = dados_df['idade'].mean()\n",
        "media"
      ]
    },
    {
      "cell_type": "markdown",
      "metadata": {
        "id": "7qBzT2-mRtmC"
      },
      "source": [
        "Variância:\n",
        "\n",
        "**Amostral:** já calculada como 82\n",
        "\n",
        "A variância amostral é usada quando você tem uma amostra de dados e quer estimar a variância da população a partir dessa amostra. Ao calcular a variância amostral, usamos 𝑛 − no denominador, onde 𝑛 é o número de observações na amostra. Este ajuste é conhecido como correção de Bessel e é usado para corrigir o viés da estimativa da variância populacional.\n",
        "\n",
        "![image.png](data:image/png;base64,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)\n",
        "\n",
        "**Populacional:**\n",
        "\n",
        "A variância populacional é usada quando você tem dados de toda a população. Nesse caso, você divide a soma dos quadrados das diferenças pela quantidade total de observações 𝑁.\n",
        "\n",
        "![image.png](data:image/png;base64,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)"
      ]
    },
    {
      "cell_type": "code",
      "execution_count": 6,
      "metadata": {
        "colab": {
          "base_uri": "https://localhost:8080/"
        },
        "id": "oZIcfNBLRk32",
        "outputId": "cb217f3d-cd80-4174-ff9f-d18456c91617"
      },
      "outputs": [
        {
          "data": {
            "text/plain": [
              "np.float64(65.6)"
            ]
          },
          "execution_count": 6,
          "metadata": {},
          "output_type": "execute_result"
        }
      ],
      "source": [
        "variancia_populacional = dados_df['idade'].var(ddof=0)\n",
        "variancia_populacional"
      ]
    },
    {
      "cell_type": "markdown",
      "metadata": {
        "id": "5gwT9oVgCYZJ"
      },
      "source": [
        "A variância amostral e a variância populacional são duas medidas usadas para quantificar a dispersão dos dados, mas elas são calculadas de maneira ligeiramente diferente dependendo se você está lidando com uma amostra de dados ou com toda a população."
      ]
    },
    {
      "cell_type": "markdown",
      "metadata": {
        "id": "GO1Bd3VJR-lI"
      },
      "source": [
        "A partir desses valores, podemos ter uma noção melhor da dispersão em relação à média.\n",
        "\n",
        "Vamos calcular esses valores:\n",
        "\n",
        "A média das idades é 33.0 e a variância populacional é 65.6.\n",
        "\n",
        "Para interpretar se a variância amostral de 82 é alta, considere:\n",
        "```python\n",
        "Média: A média das idades é 33.0 anos.\n",
        "Variância:\n",
        "A variância amostral é 82.\n",
        "A variância populacional é 65.6.\n",
        "A variância amostral de 82 indica que as idades estão relativamente dispersas ao redor da média de 33.0 anos. Para entender melhor:\n",
        "\n",
        "Se você esperar que as idades estejam próximas umas das outras, uma variância de 82 pode parecer alta.\n",
        "\n",
        "Se a faixa de idades é naturalmente ampla, essa variância pode ser aceitável.\n",
        "\n",
        "Comparar a variância com outras métricas ou dados semelhantes pode ajudar a contextualizar melhor.\n",
        "\n",
        "Além disso, a raiz quadrada da variância (o desvio padrão) pode oferecer uma perspectiva mais intuitiva sobre a dispersão dos dados.\n",
        "\n",
        "Vamos calcular o desvio padrão:\n",
        "\n",
        "```\n",
        "\n"
      ]
    },
    {
      "cell_type": "code",
      "execution_count": 54,
      "metadata": {
        "colab": {
          "base_uri": "https://localhost:8080/"
        },
        "id": "6pn-1eDbRkuT",
        "outputId": "ba158872-852d-44fc-edbd-7dea6283ab1e"
      },
      "outputs": [
        {
          "data": {
            "text/plain": [
              "9.055385138137417"
            ]
          },
          "execution_count": 54,
          "metadata": {},
          "output_type": "execute_result"
        }
      ],
      "source": [
        "desvio_padrao = dados_df['idade'].var() ** 0.5\n",
        "desvio_padrao"
      ]
    },
    {
      "cell_type": "markdown",
      "metadata": {
        "id": "BB17pDf_SuSx"
      },
      "source": [
        "Vamos calcular isso agora. ​​\n",
        "\n",
        "O desvio padrão das idades é aproximadamente 9.06 anos. Isso significa que, em média, as idades desviam-se cerca de 9.06 anos da média de 33.0 anos.\n",
        "\n",
        "Se a expectativa é que as idades estejam mais próximas da média, um desvio padrão de 9.06 pode ser considerado relativamente alto. No entanto, se for aceitável que as idades variem dentro desse intervalo, então o valor pode ser considerado normal.\n",
        "\n",
        "Em resumo, a variância de 82 e o desvio padrão de 9.06 indicam uma dispersão moderada das idades em relação à média de 33.0 anos."
      ]
    },
    {
      "cell_type": "markdown",
      "metadata": {
        "id": "XmeC2IYeS-ff"
      },
      "source": [
        "###Desvio Padrão Alto\n",
        "\n",
        "Para determinar se o desvio padrão é alto, você pode considerar o contexto dos dados e a escala das medidas. Aqui estão algumas abordagens para avaliar se um desvio padrão é alto:\n",
        "\n",
        "#### **1. Comparar com a Média**\n",
        "Se o desvio padrão for uma grande fração da média dos dados, isso pode indicar uma alta variabilidade. Por exemplo:\n",
        "\n",
        "Se a média é 33.0 e o desvio padrão é 9.06, o desvio padrão representa cerca de 27% da média (9.06 / 33.0 ≈ 0.27).\n",
        "\n",
        "\n",
        "\n",
        "#### **2. Comparar com a Amplitude (Range)**\n",
        "A amplitude é a diferença entre o valor máximo e o valor mínimo dos dados. Se o desvio padrão for grande em relação à amplitude, isso também indica alta variabilidade.\n",
        "\n",
        "#### **3. Contexto e Padrões da Indústria**\n",
        "Em muitos casos, o que é considerado um desvio padrão alto pode depender do contexto ou da indústria. Por exemplo, em finanças, um desvio padrão alto pode indicar alta volatilidade nos preços das ações.\n",
        "\n",
        "####  **4. Comparação com Outros Conjuntos de Dados**\n",
        "Comparar o desvio padrão com outros conjuntos de dados semelhantes pode fornecer uma perspectiva sobre se o valor é alto.\n",
        "\n",
        "####  **5. Coeficiente de Variação (CV)**\n",
        "\n",
        "O Coeficiente de Variação é calculado como o desvio padrão dividido pela média, frequentemente expresso como uma porcentagem. Um CV mais alto indica maior variabilidade relativa:\n",
        "\n",
        "![image.png](data:image/png;base64,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)\n",
        "\n",
        "\n",
        "Um CV de aproximadamente 27.45% indica que o desvio padrão é cerca de 27.45% da média. Se um CV maior que 20% é geralmente considerado alto em muitos contextos, então um CV de 27.45% pode ser considerado um desvio padrão relativamente alto, indicando uma variabilidade significativa em relação à média."
      ]
    },
    {
      "cell_type": "code",
      "execution_count": 55,
      "metadata": {
        "colab": {
          "base_uri": "https://localhost:8080/"
        },
        "id": "O3_wMNcxSvrB",
        "outputId": "8eb66a05-5306-46cd-985c-9fa1c70daab8"
      },
      "outputs": [
        {
          "data": {
            "text/plain": [
              "27.440561024658837"
            ]
          },
          "execution_count": 55,
          "metadata": {},
          "output_type": "execute_result"
        }
      ],
      "source": [
        "# calculando o CV\n",
        "cv = (desvio_padrao / media) * 100\n",
        "cv"
      ]
    },
    {
      "cell_type": "markdown",
      "metadata": {
        "id": "M7s-scYmNzCP"
      },
      "source": [
        "#### Função describe do Pandas\n",
        "\n",
        "A função describe do Pandas fornece uma estatística descritiva resumida para uma série ou dataframe. Esta função é muito útil para obter rapidamente uma visão geral das principais métricas estatísticas dos dados. Ela calcula e retorna várias estatísticas para cada coluna numérica ou de objeto (quando especificado) em um dataframe.\n",
        "\n",
        "Estatísticas retornadas pelo describe:\n",
        "\n",
        "**Para colunas numéricas, describe retorna:**\n",
        "\n",
        "    count: Número total de valores não nulos.\n",
        "    mean: Média dos valores.\n",
        "    std: Desvio padrão dos valores.\n",
        "    min: Valor mínimo.\n",
        "    25%: Primeiro quartil (25% dos dados abaixo deste valor).\n",
        "    50% (ou median): Mediana (50% dos dados abaixo deste valor).\n",
        "    75%: Terceiro quartil (75% dos dados abaixo deste valor).\n",
        "    max: Valor máximo.\n",
        "\n",
        "**Para colunas de objetos (strings) ou categorias, describe retorna:**\n",
        "\n",
        "    count: Número total de valores não nulos.\n",
        "    unique: Número de valores únicos.\n",
        "    top: Valor mais frequente.\n",
        "    freq: Frequência do valor mais frequente."
      ]
    },
    {
      "cell_type": "code",
      "execution_count": 58,
      "metadata": {
        "colab": {
          "base_uri": "https://localhost:8080/",
          "height": 143
        },
        "id": "70YwY64jN12S",
        "outputId": "47f6421e-25c8-422b-f47e-cbd1eeb96974"
      },
      "outputs": [
        {
          "data": {
            "application/vnd.google.colaboratory.intrinsic+json": {
              "summary": "{\n  \"name\": \"dados_df\",\n  \"rows\": 3,\n  \"fields\": [\n    {\n      \"column\": \"count\",\n      \"properties\": {\n        \"dtype\": \"number\",\n        \"std\": 0.0,\n        \"min\": 5.0,\n        \"max\": 5.0,\n        \"num_unique_values\": 1,\n        \"samples\": [\n          5.0\n        ],\n        \"semantic_type\": \"\",\n        \"description\": \"\"\n      }\n    },\n    {\n      \"column\": \"mean\",\n      \"properties\": {\n        \"dtype\": \"number\",\n        \"std\": 7613.763258121526,\n        \"min\": 33.0,\n        \"max\": 13678.641999999998,\n        \"num_unique_values\": 3,\n        \"samples\": [\n          1003.0\n        ],\n        \"semantic_type\": \"\",\n        \"description\": \"\"\n      }\n    },\n    {\n      \"column\": \"std\",\n      \"properties\": {\n        \"dtype\": \"number\",\n        \"std\": 11722.365390247276,\n        \"min\": 1.5811388300841898,\n        \"max\": 20309.049670991993,\n        \"num_unique_values\": 3,\n        \"samples\": [\n          1.5811388300841898\n        ],\n        \"semantic_type\": \"\",\n        \"description\": \"\"\n      }\n    },\n    {\n      \"column\": \"min\",\n      \"properties\": {\n        \"dtype\": \"number\",\n        \"std\": 2184.6973093161746,\n        \"min\": 23.0,\n        \"max\": 4200.0,\n        \"num_unique_values\": 3,\n        \"samples\": [\n          1001.0\n        ],\n        \"semantic_type\": \"\",\n        \"description\": \"\"\n      }\n    },\n    {\n      \"column\": \"25%\",\n      \"properties\": {\n        \"dtype\": \"number\",\n        \"std\": 2269.6753390151057,\n        \"min\": 25.0,\n        \"max\": 4352.56,\n        \"num_unique_values\": 3,\n        \"samples\": [\n          1002.0\n        ],\n        \"semantic_type\": \"\",\n        \"description\": \"\"\n      }\n    },\n    {\n      \"column\": \"50%\",\n      \"properties\": {\n        \"dtype\": \"number\",\n        \"std\": 2349.2058745102213,\n        \"min\": 35.0,\n        \"max\": 4500.65,\n        \"num_unique_values\": 3,\n        \"samples\": [\n          1003.0\n        ],\n        \"semantic_type\": \"\",\n        \"description\": \"\"\n      }\n    },\n    {\n      \"column\": \"75%\",\n      \"properties\": {\n        \"dtype\": \"number\",\n        \"std\": 2824.234232495598,\n        \"min\": 37.0,\n        \"max\": 5340.0,\n        \"num_unique_values\": 3,\n        \"samples\": [\n          1004.0\n        ],\n        \"semantic_type\": \"\",\n        \"description\": \"\"\n      }\n    },\n    {\n      \"column\": \"max\",\n      \"properties\": {\n        \"dtype\": \"number\",\n        \"std\": 28568.437274960164,\n        \"min\": 45.0,\n        \"max\": 50000.0,\n        \"num_unique_values\": 3,\n        \"samples\": [\n          1005.0\n        ],\n        \"semantic_type\": \"\",\n        \"description\": \"\"\n      }\n    }\n  ]\n}",
              "type": "dataframe"
            },
            "text/html": [
              "\n",
              "  <div id=\"df-e44294c7-922e-4793-ab88-d831d4a9ab80\" class=\"colab-df-container\">\n",
              "    <div>\n",
              "<style scoped>\n",
              "    .dataframe tbody tr th:only-of-type {\n",
              "        vertical-align: middle;\n",
              "    }\n",
              "\n",
              "    .dataframe tbody tr th {\n",
              "        vertical-align: top;\n",
              "    }\n",
              "\n",
              "    .dataframe thead th {\n",
              "        text-align: right;\n",
              "    }\n",
              "</style>\n",
              "<table border=\"1\" class=\"dataframe\">\n",
              "  <thead>\n",
              "    <tr style=\"text-align: right;\">\n",
              "      <th></th>\n",
              "      <th>count</th>\n",
              "      <th>mean</th>\n",
              "      <th>std</th>\n",
              "      <th>min</th>\n",
              "      <th>25%</th>\n",
              "      <th>50%</th>\n",
              "      <th>75%</th>\n",
              "      <th>max</th>\n",
              "    </tr>\n",
              "  </thead>\n",
              "  <tbody>\n",
              "    <tr>\n",
              "      <th>id</th>\n",
              "      <td>5.0</td>\n",
              "      <td>1003.000</td>\n",
              "      <td>1.581139</td>\n",
              "      <td>1001.0</td>\n",
              "      <td>1002.00</td>\n",
              "      <td>1003.00</td>\n",
              "      <td>1004.0</td>\n",
              "      <td>1005.0</td>\n",
              "    </tr>\n",
              "    <tr>\n",
              "      <th>idade</th>\n",
              "      <td>5.0</td>\n",
              "      <td>33.000</td>\n",
              "      <td>9.055385</td>\n",
              "      <td>23.0</td>\n",
              "      <td>25.00</td>\n",
              "      <td>35.00</td>\n",
              "      <td>37.0</td>\n",
              "      <td>45.0</td>\n",
              "    </tr>\n",
              "    <tr>\n",
              "      <th>salario</th>\n",
              "      <td>5.0</td>\n",
              "      <td>13678.642</td>\n",
              "      <td>20309.049671</td>\n",
              "      <td>4200.0</td>\n",
              "      <td>4352.56</td>\n",
              "      <td>4500.65</td>\n",
              "      <td>5340.0</td>\n",
              "      <td>50000.0</td>\n",
              "    </tr>\n",
              "  </tbody>\n",
              "</table>\n",
              "</div>\n",
              "    <div class=\"colab-df-buttons\">\n",
              "\n",
              "  <div class=\"colab-df-container\">\n",
              "    <button class=\"colab-df-convert\" onclick=\"convertToInteractive('df-e44294c7-922e-4793-ab88-d831d4a9ab80')\"\n",
              "            title=\"Convert this dataframe to an interactive table.\"\n",
              "            style=\"display:none;\">\n",
              "\n",
              "  <svg xmlns=\"http://www.w3.org/2000/svg\" height=\"24px\" viewBox=\"0 -960 960 960\">\n",
              "    <path d=\"M120-120v-720h720v720H120Zm60-500h600v-160H180v160Zm220 220h160v-160H400v160Zm0 220h160v-160H400v160ZM180-400h160v-160H180v160Zm440 0h160v-160H620v160ZM180-180h160v-160H180v160Zm440 0h160v-160H620v160Z\"/>\n",
              "  </svg>\n",
              "    </button>\n",
              "\n",
              "  <style>\n",
              "    .colab-df-container {\n",
              "      display:flex;\n",
              "      gap: 12px;\n",
              "    }\n",
              "\n",
              "    .colab-df-convert {\n",
              "      background-color: #E8F0FE;\n",
              "      border: none;\n",
              "      border-radius: 50%;\n",
              "      cursor: pointer;\n",
              "      display: none;\n",
              "      fill: #1967D2;\n",
              "      height: 32px;\n",
              "      padding: 0 0 0 0;\n",
              "      width: 32px;\n",
              "    }\n",
              "\n",
              "    .colab-df-convert:hover {\n",
              "      background-color: #E2EBFA;\n",
              "      box-shadow: 0px 1px 2px rgba(60, 64, 67, 0.3), 0px 1px 3px 1px rgba(60, 64, 67, 0.15);\n",
              "      fill: #174EA6;\n",
              "    }\n",
              "\n",
              "    .colab-df-buttons div {\n",
              "      margin-bottom: 4px;\n",
              "    }\n",
              "\n",
              "    [theme=dark] .colab-df-convert {\n",
              "      background-color: #3B4455;\n",
              "      fill: #D2E3FC;\n",
              "    }\n",
              "\n",
              "    [theme=dark] .colab-df-convert:hover {\n",
              "      background-color: #434B5C;\n",
              "      box-shadow: 0px 1px 3px 1px rgba(0, 0, 0, 0.15);\n",
              "      filter: drop-shadow(0px 1px 2px rgba(0, 0, 0, 0.3));\n",
              "      fill: #FFFFFF;\n",
              "    }\n",
              "  </style>\n",
              "\n",
              "    <script>\n",
              "      const buttonEl =\n",
              "        document.querySelector('#df-e44294c7-922e-4793-ab88-d831d4a9ab80 button.colab-df-convert');\n",
              "      buttonEl.style.display =\n",
              "        google.colab.kernel.accessAllowed ? 'block' : 'none';\n",
              "\n",
              "      async function convertToInteractive(key) {\n",
              "        const element = document.querySelector('#df-e44294c7-922e-4793-ab88-d831d4a9ab80');\n",
              "        const dataTable =\n",
              "          await google.colab.kernel.invokeFunction('convertToInteractive',\n",
              "                                                    [key], {});\n",
              "        if (!dataTable) return;\n",
              "\n",
              "        const docLinkHtml = 'Like what you see? Visit the ' +\n",
              "          '<a target=\"_blank\" href=https://colab.research.google.com/notebooks/data_table.ipynb>data table notebook</a>'\n",
              "          + ' to learn more about interactive tables.';\n",
              "        element.innerHTML = '';\n",
              "        dataTable['output_type'] = 'display_data';\n",
              "        await google.colab.output.renderOutput(dataTable, element);\n",
              "        const docLink = document.createElement('div');\n",
              "        docLink.innerHTML = docLinkHtml;\n",
              "        element.appendChild(docLink);\n",
              "      }\n",
              "    </script>\n",
              "  </div>\n",
              "\n",
              "\n",
              "<div id=\"df-afda0a06-4aa9-4730-8fe3-67c3c26ba371\">\n",
              "  <button class=\"colab-df-quickchart\" onclick=\"quickchart('df-afda0a06-4aa9-4730-8fe3-67c3c26ba371')\"\n",
              "            title=\"Suggest charts\"\n",
              "            style=\"display:none;\">\n",
              "\n",
              "<svg xmlns=\"http://www.w3.org/2000/svg\" height=\"24px\"viewBox=\"0 0 24 24\"\n",
              "     width=\"24px\">\n",
              "    <g>\n",
              "        <path d=\"M19 3H5c-1.1 0-2 .9-2 2v14c0 1.1.9 2 2 2h14c1.1 0 2-.9 2-2V5c0-1.1-.9-2-2-2zM9 17H7v-7h2v7zm4 0h-2V7h2v10zm4 0h-2v-4h2v4z\"/>\n",
              "    </g>\n",
              "</svg>\n",
              "  </button>\n",
              "\n",
              "<style>\n",
              "  .colab-df-quickchart {\n",
              "      --bg-color: #E8F0FE;\n",
              "      --fill-color: #1967D2;\n",
              "      --hover-bg-color: #E2EBFA;\n",
              "      --hover-fill-color: #174EA6;\n",
              "      --disabled-fill-color: #AAA;\n",
              "      --disabled-bg-color: #DDD;\n",
              "  }\n",
              "\n",
              "  [theme=dark] .colab-df-quickchart {\n",
              "      --bg-color: #3B4455;\n",
              "      --fill-color: #D2E3FC;\n",
              "      --hover-bg-color: #434B5C;\n",
              "      --hover-fill-color: #FFFFFF;\n",
              "      --disabled-bg-color: #3B4455;\n",
              "      --disabled-fill-color: #666;\n",
              "  }\n",
              "\n",
              "  .colab-df-quickchart {\n",
              "    background-color: var(--bg-color);\n",
              "    border: none;\n",
              "    border-radius: 50%;\n",
              "    cursor: pointer;\n",
              "    display: none;\n",
              "    fill: var(--fill-color);\n",
              "    height: 32px;\n",
              "    padding: 0;\n",
              "    width: 32px;\n",
              "  }\n",
              "\n",
              "  .colab-df-quickchart:hover {\n",
              "    background-color: var(--hover-bg-color);\n",
              "    box-shadow: 0 1px 2px rgba(60, 64, 67, 0.3), 0 1px 3px 1px rgba(60, 64, 67, 0.15);\n",
              "    fill: var(--button-hover-fill-color);\n",
              "  }\n",
              "\n",
              "  .colab-df-quickchart-complete:disabled,\n",
              "  .colab-df-quickchart-complete:disabled:hover {\n",
              "    background-color: var(--disabled-bg-color);\n",
              "    fill: var(--disabled-fill-color);\n",
              "    box-shadow: none;\n",
              "  }\n",
              "\n",
              "  .colab-df-spinner {\n",
              "    border: 2px solid var(--fill-color);\n",
              "    border-color: transparent;\n",
              "    border-bottom-color: var(--fill-color);\n",
              "    animation:\n",
              "      spin 1s steps(1) infinite;\n",
              "  }\n",
              "\n",
              "  @keyframes spin {\n",
              "    0% {\n",
              "      border-color: transparent;\n",
              "      border-bottom-color: var(--fill-color);\n",
              "      border-left-color: var(--fill-color);\n",
              "    }\n",
              "    20% {\n",
              "      border-color: transparent;\n",
              "      border-left-color: var(--fill-color);\n",
              "      border-top-color: var(--fill-color);\n",
              "    }\n",
              "    30% {\n",
              "      border-color: transparent;\n",
              "      border-left-color: var(--fill-color);\n",
              "      border-top-color: var(--fill-color);\n",
              "      border-right-color: var(--fill-color);\n",
              "    }\n",
              "    40% {\n",
              "      border-color: transparent;\n",
              "      border-right-color: var(--fill-color);\n",
              "      border-top-color: var(--fill-color);\n",
              "    }\n",
              "    60% {\n",
              "      border-color: transparent;\n",
              "      border-right-color: var(--fill-color);\n",
              "    }\n",
              "    80% {\n",
              "      border-color: transparent;\n",
              "      border-right-color: var(--fill-color);\n",
              "      border-bottom-color: var(--fill-color);\n",
              "    }\n",
              "    90% {\n",
              "      border-color: transparent;\n",
              "      border-bottom-color: var(--fill-color);\n",
              "    }\n",
              "  }\n",
              "</style>\n",
              "\n",
              "  <script>\n",
              "    async function quickchart(key) {\n",
              "      const quickchartButtonEl =\n",
              "        document.querySelector('#' + key + ' button');\n",
              "      quickchartButtonEl.disabled = true;  // To prevent multiple clicks.\n",
              "      quickchartButtonEl.classList.add('colab-df-spinner');\n",
              "      try {\n",
              "        const charts = await google.colab.kernel.invokeFunction(\n",
              "            'suggestCharts', [key], {});\n",
              "      } catch (error) {\n",
              "        console.error('Error during call to suggestCharts:', error);\n",
              "      }\n",
              "      quickchartButtonEl.classList.remove('colab-df-spinner');\n",
              "      quickchartButtonEl.classList.add('colab-df-quickchart-complete');\n",
              "    }\n",
              "    (() => {\n",
              "      let quickchartButtonEl =\n",
              "        document.querySelector('#df-afda0a06-4aa9-4730-8fe3-67c3c26ba371 button');\n",
              "      quickchartButtonEl.style.display =\n",
              "        google.colab.kernel.accessAllowed ? 'block' : 'none';\n",
              "    })();\n",
              "  </script>\n",
              "</div>\n",
              "\n",
              "    </div>\n",
              "  </div>\n"
            ],
            "text/plain": [
              "         count       mean           std     min      25%      50%     75%  \\\n",
              "id         5.0   1003.000      1.581139  1001.0  1002.00  1003.00  1004.0   \n",
              "idade      5.0     33.000      9.055385    23.0    25.00    35.00    37.0   \n",
              "salario    5.0  13678.642  20309.049671  4200.0  4352.56  4500.65  5340.0   \n",
              "\n",
              "             max  \n",
              "id        1005.0  \n",
              "idade       45.0  \n",
              "salario  50000.0  "
            ]
          },
          "execution_count": 58,
          "metadata": {},
          "output_type": "execute_result"
        }
      ],
      "source": [
        "# função describe Pandas\n",
        "dados_df.describe().T"
      ]
    },
    {
      "cell_type": "markdown",
      "metadata": {
        "id": "JMv3zXBYQ8DB"
      },
      "source": [
        "## Em resumo...\n",
        "\n",
        "As medidas descritivas fornecem uma visão geral dos dados, revelando sua tendência central e dispersão. A média, mediana e moda indicam o \"centro\" dos dados, enquanto a variância e o desvio padrão quantificam a dispersão."
      ]
    },
    {
      "cell_type": "markdown",
      "metadata": {
        "id": "EGIL402LJhBv"
      },
      "source": [
        "# Desafio:\n",
        "<br>\n",
        "&#129299;\n",
        "Agora é com vocês:\n",
        "\n",
        "Calcule a média, mediana e moda da coluna salário.\n",
        "\n",
        "<br>\n",
        "\n"
      ]
    },
    {
      "cell_type": "markdown",
      "metadata": {
        "id": "YR6-A3AsUUqi"
      },
      "source": [
        "# Probabilidade\n",
        "\n",
        "**Definição de Probabilidade e Eventos:**\n",
        "\n",
        "\n",
        "**Probabilidade:** A probabilidade é a medida da chance de um evento ocorrer. É um número entre 0 e 1, onde 0 representa a impossibilidade do evento e 1 representa a certeza do evento.\n",
        "\n",
        "**Evento:** Um evento é um resultado específico ou um conjunto de resultados possíveis em um experimento aleatório.\n",
        "\n",
        "**Exemplos:**\n",
        "\n",
        "- **Experimento:** Lançar um dado de seis faces.\n",
        "- **Evento:** Obter um número par.\n",
        "\n",
        "Vamos usar o exemplo do dado. Se você jogar um dado de seis faces, existem seis possíveis resultados: 1, 2, 3, 4, 5 ou 6. Cada um desses é um evento. Agora, se quisermos falar sobre o evento “obter um número par”, estamos falando sobre três possíveis resultados: 2, 4 ou 6. A probabilidade desse evento é o número de resultados que satisfazem o evento (neste caso, 3: 2, 4 e 6) dividido pelo número total de resultados (neste caso, 6). Então, a probabilidade de obter um número par é 3/6 ou 0,5 (ou 50%).\n"
      ]
    },
    {
      "cell_type": "markdown",
      "metadata": {
        "id": "RswXC_55WIB5"
      },
      "source": [
        "\n",
        "**Espaço Amostral**\n",
        "\n",
        "  O espaço amostral é o conjunto de todos os resultados possíveis de um experimento aleatório.\n",
        "  \n",
        "**Exemplos:**\n",
        "\n",
        "\n",
        "    - **Experimento:** Lançar uma moeda.\n",
        "    - **Espaço Amostral:** {Cara, Coroa}.\n",
        "\n",
        " Vamos usar o exemplo de lançar uma moeda. Quando você lança uma moeda, existem dois possíveis resultados: a moeda pode cair com a cara para cima ou com a coroa para cima. Então, o espaço amostral para este experimento é {Cara, Coroa}. Não importa quantas vezes você jogue a moeda, esses são os únicos resultados possíveis.\n",
        "\n"
      ]
    },
    {
      "cell_type": "markdown",
      "metadata": {
        "id": "nOBcTlsPWYeW"
      },
      "source": [
        "**Tipos de Probabilidade**\n",
        "\n",
        "- **Probabilidade Clássica:**\n",
        "A probabilidade clássica é calculada como a razão entre o número de resultados favoráveis a um evento e o número total de resultados possíveis, assumindo que todos os resultados são igualmente prováveis.\n",
        "\n",
        "    - **Exemplos:**\n",
        "\n",
        "```python\n",
        "    A probabilidade de obter cara ao lançar uma moeda é 1/2, pois há um resultado favorável (cara) e dois resultados possíveis (cara ou coroa).\n",
        "```\n",
        "\n",
        "- **Probabilidade Frequentista:**\n",
        "\n",
        "    A probabilidade frequentista é estimada observando a frequência relativa de um evento em um grande número de repetições do experimento.\n",
        "\n",
        "    - **Exemplos:**\n",
        "\n",
        "\n",
        "```python\n",
        "    Se lançarmos uma moeda 100 vezes e obtermos cara 52 vezes, a probabilidade frequentista de obter cara é 52/100 = 0,52 ou 52%.\n",
        "```\n",
        "\n",
        "- **Probabilidade Subjetiva:**\n",
        "A probabilidade subjetiva é baseada na opinião, crença ou experiência pessoal de um indivíduo.\n",
        "\n",
        "    - **Exemplos:**\n",
        "\n",
        "```python\n",
        "    A probabilidade de um time de futebol vencer um jogo, baseada na análise de um torcedor.\n",
        "```\n",
        "\n"
      ]
    },
    {
      "cell_type": "markdown",
      "metadata": {
        "id": "f3b92iWlWr22"
      },
      "source": [
        "**Regras de Probabilidade**\n",
        "\n",
        "- **Regra da Soma:**\n",
        "    A probabilidade da união de dois eventos mutuamente exclusivos (que não podem ocorrer ao mesmo tempo) é a soma das probabilidades dos eventos individuais.\n",
        "\n",
        "    - **Exemplo:**\n",
        "\n",
        "```python        \n",
        "    A probabilidade de obter cara ou coroa ao lançar uma moeda é 1/2 + 1/2 = 1.\n",
        "```\n",
        "\n",
        "- **Regra da Multiplicação:**\n",
        "\n",
        "    A probabilidade da interseção de dois eventos independentes (a ocorrência de um evento não afeta a ocorrência do outro) é o produto das probabilidades dos eventos individuais.\n",
        "    \n",
        "    - **Exemplos:**\n",
        "\n",
        "```python\n",
        "    A probabilidade de obter cara em dois lançamentos consecutivos de uma moeda é 1/2 * 1/2 = 1/4.\n",
        "```\n",
        "\n",
        "- **Probabilidade Condicional:**\n",
        "\n",
        "    A probabilidade condicional é a probabilidade de um evento ocorrer dado que outro evento já ocorreu.\n",
        "\n",
        "\n",
        "**Fórmula:**\n",
        "\n",
        "```python\n",
        "    P(A|B) = P(A e B) / P(B), onde P(A|B) é a probabilidade de A ocorrer dado que B já ocorreu.\n",
        "```\n",
        "\n",
        "- **Exemplos:**\n",
        "\n",
        "\n",
        "  Se temos um baralho de 52 cartas, a probabilidade de tirar um ás dado que a carta retirada é de copas é 1/13, pois há um ás de copas e 13 cartas de copas no baralho.\n",
        "\n",
        "\n",
        ">"
      ]
    },
    {
      "cell_type": "markdown",
      "metadata": {
        "id": "YehU1d7lXhr5"
      },
      "source": [
        "### Agora vamos calcular usando código...\n",
        "\n",
        "Simulação de Eventos Aleatórios com Python\n",
        "\n",
        "Biblioteca **random**: A biblioteca random em Python fornece funções para gerar números aleatórios e simular eventos aleatórios.\n",
        "\n",
        "Exemplo:"
      ]
    },
    {
      "cell_type": "code",
      "execution_count": null,
      "metadata": {
        "id": "iuokW8-MNiHk"
      },
      "outputs": [],
      "source": [
        "# importando a biblioteca 'random' para gerar números aleatórios\n",
        "import random"
      ]
    },
    {
      "cell_type": "code",
      "execution_count": null,
      "metadata": {
        "colab": {
          "base_uri": "https://localhost:8080/",
          "height": 35
        },
        "id": "7mj8aKO-X1TU",
        "outputId": "df1a54a9-cb0e-4326-9131-58bca1f8a38d"
      },
      "outputs": [
        {
          "data": {
            "application/vnd.google.colaboratory.intrinsic+json": {
              "type": "string"
            },
            "text/plain": [
              "'Coroa'"
            ]
          },
          "execution_count": 29,
          "metadata": {},
          "output_type": "execute_result"
        }
      ],
      "source": [
        "# escolhe aleatoriamente entre 'Cara' e 'Coroa'\n",
        "resultado = random.choice(['Cara', 'Coroa'])\n",
        "resultado"
      ]
    },
    {
      "cell_type": "markdown",
      "metadata": {
        "id": "EN-AiFWzYFbg"
      },
      "source": [
        "**Agora vamos calcular a probablidade:**"
      ]
    },
    {
      "cell_type": "code",
      "execution_count": 11,
      "metadata": {
        "id": "6782LDm8X7bT"
      },
      "outputs": [],
      "source": [
        "# 1° importar a biblioteca random para simular o lançamento do dado\n",
        "import random"
      ]
    },
    {
      "cell_type": "code",
      "execution_count": 12,
      "metadata": {
        "id": "JSVBh_0XYOjc"
      },
      "outputs": [],
      "source": [
        "# 2° definir a função que calcula a probabilidade de um evento\n",
        "def calcular_probabilidade(eventos_favoraveis, total_eventos):\n",
        "    return eventos_favoraveis / total_eventos\n"
      ]
    },
    {
      "cell_type": "code",
      "execution_count": 13,
      "metadata": {
        "colab": {
          "base_uri": "https://localhost:8080/"
        },
        "id": "OPz7MrNBYUus",
        "outputId": "17a7e8c3-9ec7-4b9c-8798-ada3b9b54274"
      },
      "outputs": [
        {
          "data": {
            "text/plain": [
              "[1, 2, 3, 4, 5, 6]"
            ]
          },
          "execution_count": 13,
          "metadata": {},
          "output_type": "execute_result"
        }
      ],
      "source": [
        "# 3° simulando o experimento: lançar um dado de seis faces\n",
        "lancamentos = [1, 2, 3, 4, 5, 6]\n",
        "lancamentos"
      ]
    },
    {
      "cell_type": "code",
      "execution_count": 14,
      "metadata": {
        "colab": {
          "base_uri": "https://localhost:8080/"
        },
        "id": "o9cAbuWFYcj1",
        "outputId": "69e177d4-9923-42cd-b70a-1846441e1e3e"
      },
      "outputs": [
        {
          "data": {
            "text/plain": [
              "[2, 4, 6]"
            ]
          },
          "execution_count": 14,
          "metadata": {},
          "output_type": "execute_result"
        }
      ],
      "source": [
        "# 4° definindo o evento: obter um número par\n",
        "numeros_pares = [2, 4, 6]\n",
        "numeros_pares"
      ]
    },
    {
      "cell_type": "code",
      "execution_count": 15,
      "metadata": {
        "colab": {
          "base_uri": "https://localhost:8080/"
        },
        "id": "C4pqIbvzGLte",
        "outputId": "b1e3093e-76a0-45c9-b676-6ed0f23b9e17"
      },
      "outputs": [
        {
          "data": {
            "text/plain": [
              "3"
            ]
          },
          "execution_count": 15,
          "metadata": {},
          "output_type": "execute_result"
        }
      ],
      "source": [
        "# 5° calculando o número de resultados favoráveis (números pares)\n",
        "eventos_favoraveis = len(numeros_pares)\n",
        "eventos_favoraveis"
      ]
    },
    {
      "cell_type": "code",
      "execution_count": 16,
      "metadata": {
        "colab": {
          "base_uri": "https://localhost:8080/"
        },
        "id": "F5XHwPhsGOSe",
        "outputId": "063f4130-e2af-4e07-96a6-7f0a746949e0"
      },
      "outputs": [
        {
          "data": {
            "text/plain": [
              "6"
            ]
          },
          "execution_count": 16,
          "metadata": {},
          "output_type": "execute_result"
        }
      ],
      "source": [
        "# 6° calculando o número total de resultados possíveis\n",
        "total_eventos = len(lancamentos)\n",
        "total_eventos"
      ]
    },
    {
      "cell_type": "code",
      "execution_count": 17,
      "metadata": {
        "colab": {
          "base_uri": "https://localhost:8080/"
        },
        "id": "qrQ-c0w2GQTV",
        "outputId": "43333c02-3dbd-4f43-eedb-d7d2683b953f"
      },
      "outputs": [
        {
          "name": "stdout",
          "output_type": "stream",
          "text": [
            "A probabilidade de obter um número par ao lançar um dado de seis faces é: 0.50 ou 50%\n"
          ]
        }
      ],
      "source": [
        "# 7° calculando a probabilidade de obter um número par\n",
        "probabilidade = calcular_probabilidade(eventos_favoraveis, total_eventos)\n",
        "# Exibindo o resultado\n",
        "print(f\"A probabilidade de obter um número par ao lançar um dado de seis faces é: {probabilidade:.2f} ou {probabilidade * 100:.0f}%\")"
      ]
    },
    {
      "cell_type": "code",
      "execution_count": 18,
      "metadata": {
        "id": "cF6rXEJBGTPe"
      },
      "outputs": [],
      "source": [
        "# 8° Agora vamor simular um lançamento de dado\n",
        "def lancar_dado():\n",
        "    return random.choice(lancamentos)"
      ]
    },
    {
      "cell_type": "code",
      "execution_count": 19,
      "metadata": {
        "colab": {
          "base_uri": "https://localhost:8080/"
        },
        "id": "t6RiaWupGVWW",
        "outputId": "e4508f75-6f44-4ac5-8797-b8da61a34489"
      },
      "outputs": [
        {
          "name": "stdout",
          "output_type": "stream",
          "text": [
            "Você lançou o dado e obteve 6, que é um número par.\n"
          ]
        }
      ],
      "source": [
        "# 9° simulando um lançamento de dado\n",
        "resultado_lancamento = lancar_dado()\n",
        "\n",
        "# Verificando se o resultado do lançamento é um número par\n",
        "if resultado_lancamento in numeros_pares:\n",
        "    print(f\"Você lançou o dado e obteve {resultado_lancamento}, que é um número par.\")\n",
        "else:\n",
        "    print(f\"Você lançou o dado e obteve {resultado_lancamento}, que não é um número par.\")"
      ]
    },
    {
      "cell_type": "markdown",
      "metadata": {
        "id": "FyGnKPaIGmzn"
      },
      "source": [
        "**Calculando a probabilidade frequentista:**"
      ]
    },
    {
      "cell_type": "code",
      "execution_count": 20,
      "metadata": {
        "id": "0bc6XDt_Gvxm"
      },
      "outputs": [],
      "source": [
        "# 1° definindo a função que calcula a probabilidade frequentista\n",
        "def calcular_probabilidade_frequentista(eventos_favoraveis, total_eventos):\n",
        "    return eventos_favoraveis / total_eventos"
      ]
    },
    {
      "cell_type": "code",
      "execution_count": 21,
      "metadata": {
        "id": "EWQwXKGHGvpA"
      },
      "outputs": [],
      "source": [
        "# 2° definindo os resultados do experimento\n",
        "total_lancamentos = 100\n",
        "caras_obtidas = 52"
      ]
    },
    {
      "cell_type": "code",
      "execution_count": 22,
      "metadata": {
        "colab": {
          "base_uri": "https://localhost:8080/"
        },
        "id": "6kN820x6G4sO",
        "outputId": "73285d75-9710-42c3-a869-86a9c38397c4"
      },
      "outputs": [
        {
          "name": "stdout",
          "output_type": "stream",
          "text": [
            "A probabilidade frequentista de obter 'cara' ao lançar uma moeda 100 vezes é: 0.52 ou 52%\n"
          ]
        }
      ],
      "source": [
        "# 3° calculando a probabilidade frequentista de obter \"cara\"\n",
        "probabilidade_frequentista = calcular_probabilidade_frequentista(caras_obtidas, total_lancamentos)\n",
        "# Exibindo o resultado\n",
        "print(f\"A probabilidade frequentista de obter 'cara' ao lançar uma moeda 100 vezes é: {probabilidade_frequentista:.2f} ou {probabilidade_frequentista * 100:.0f}%\")"
      ]
    },
    {
      "cell_type": "code",
      "execution_count": 24,
      "metadata": {
        "colab": {
          "base_uri": "https://localhost:8080/"
        },
        "id": "SVcbze3rHB8e",
        "outputId": "7ec061d5-02cf-4620-9cfc-9b4b243da799"
      },
      "outputs": [
        {
          "name": "stdout",
          "output_type": "stream",
          "text": [
            "Na simulação de 100 lançamentos de moeda, obtivemos 'cara' 49 vezes.\n",
            "A probabilidade simulada de obter 'cara' é: 0.49 ou 49%\n"
          ]
        }
      ],
      "source": [
        "# Agora vamos simular os lançamentos de moeda\n",
        "import random\n",
        "\n",
        "def lancar_moeda():\n",
        "    return random.choice(['cara', 'coroa'])\n",
        "\n",
        "# Simulando 100 lançamentos de moeda\n",
        "lancamentos = [lancar_moeda() for _ in range(total_lancamentos)]\n",
        "caras_simuladas = lancamentos.count('cara')\n",
        "\n",
        "# Calculando a probabilidade a partir da simulação\n",
        "probabilidade_simulada = calcular_probabilidade_frequentista(caras_simuladas, total_lancamentos)\n",
        "\n",
        "# Exibindo o resultado da simulação\n",
        "print(f\"Na simulação de 100 lançamentos de moeda, obtivemos 'cara' {caras_simuladas} vezes.\")\n",
        "print(f\"A probabilidade simulada de obter 'cara' é: {probabilidade_simulada:.2f} ou {probabilidade_simulada * 100:.0f}%\")"
      ]
    },
    {
      "cell_type": "markdown",
      "metadata": {
        "id": "uLQq2bqKKOTQ"
      },
      "source": [
        "# Desafio:\n",
        "<br>\n",
        "&#129299;\n",
        "Agora é com vocês:\n",
        "\n",
        "Qual a probabilidade da Professora chamar de forma aleatória você para responder uma pergunta?\n",
        "\n",
        "<br>"
      ]
    },
    {
      "cell_type": "markdown",
      "metadata": {
        "id": "dwHbhDXgZAHv"
      },
      "source": [
        "# Amostragem\n",
        "\n",
        "**Métodos de Amostragem**\n",
        "\n",
        "Em muitas situações, é inviável ou caro analisar toda a população de interesse. Por isso, recorremos à amostragem: selecionamos uma parte representativa da população para realizar a análise.\n",
        "\n",
        "**Amostragem Aleatória Simples:**\n",
        "\n",
        "Cada elemento da população tem a mesma chance de ser selecionado para a amostra. É como sortear um bilhete em uma loteria: todos os bilhetes têm a mesma chance de serem sorteados.\n",
        "\n",
        "**Exemplo:**\n",
        "\n",
        "Imaginemos uma pesquisa de opinião sobre a preferência por um novo produto. Se a população é de 10.000 pessoas, podemos selecionar uma amostra aleatória simples de 1.000 pessoas, onde cada pessoa tem 1/10 chance.\n",
        "\n",
        "- **Vantagens:**\n",
        "\n",
        "```python\n",
        "    Fácil de implementar, boa representatividade se a população for homogênea.\n",
        "```\n",
        "- **Desvantagens:**\n",
        "\n",
        "```python\n",
        "    Pode ser difícil obter uma amostra aleatória verdadeira, especialmente em populações grandes.\n",
        "```\n",
        "\n",
        "**Amostragem Estratificada:**\n",
        "\n",
        "A população é dividida em subgrupos (estratos) com características homogêneas, e uma amostra aleatória simples é selecionada dentro de cada estrato.\n",
        "\n",
        "\n",
        "**Exemplo:**\n",
        "\n",
        "Imagine uma pesquisa sobre o nível de satisfação dos alunos em uma escola. Podemos dividir os alunos em estratos por série (fundamental I, fundamental II,\n",
        "\n",
        "- **Vantagens:**\n",
        "\n",
        "```python\n",
        "    Melhor representação de subgrupos da população, garante que cada grupo seja devidamente amostrado.\n",
        "```\n",
        "- **Desvantagens:**\n",
        "\n",
        "```python\n",
        "    Exige conhecimento da população e sua divisão em estratos.\n",
        "```\n",
        "\n",
        "**Amostragem por Conglomerados**\n",
        "\n",
        "A população é dividida em grupos naturais (conglomerados), e alguns conglomerados são selecionados aleatoriamente. Em seguida, todos os elementos dentro dos conglomerados selecionados são incluídos na amostra.\n",
        "\n",
        "\n",
        "**Exemplo:**\n",
        "\n",
        "\n",
        "Imagine uma pesquisa sobre as condições de saúde de estudantes universitários. Podemos dividir os estudantes por curso, selecionar alguns cursos aleatoriamente e entrevistar todos os alunos dos cursos escolhidos.\n",
        "\n",
        "\n",
        "- **Vantagens:**\n",
        "\n",
        "```python\n",
        "    Útil quando a população está dispersa geograficamente, reduz custos de coleta de dados.\n",
        "```\n",
        "- **Desvantagens:**\n",
        "\n",
        "```python\n",
        "    Menos precisa que a amostragem aleatória simples se os conglomerados não forem homogêneos.\n",
        "```\n",
        "\n",
        "**Amostragem Sistemática**\n",
        "\n",
        "Selecionamos o primeiro elemento da amostra aleatoriamente e, a partir dele, selecionamos os outros elementos a intervalos regulares.\n",
        "\n",
        "\n",
        "**Exemplo:**\n",
        "\n",
        "\n",
        "Imagine uma pesquisa sobre a qualidade de um produto em uma linha de produção. Podemos selecionar o primeiro produto aleatoriamente e, a partir dele, selecionar cada décimo produto da linha.\n",
        "\n",
        "\n",
        "- **Vantagens:**\n",
        "\n",
        "```python\n",
        "    Fácil de implementar, pode ser mais eficiente que a amostragem aleatória simples em algumas situações.\n",
        "```\n",
        "- **Desvantagens:**\n",
        "\n",
        "```python\n",
        "    Pode ser enviesada se houver um padrão cíclico nos dados.\n",
        "```\n",
        "\n",
        "**Erros Amostrais e Intervalos de Confiança**\n",
        "\n",
        "A diferença entre a estatística da amostra (média, proporção) e o parâmetro populacional correspondente.\n",
        "\n",
        "**Erro Amostral:** A diferença entre a estatística da amostra (média, proporção) e o parâmetro populacional correspondente.\n",
        "\n",
        "**Intervalo de Confiança:** Um intervalo de valores que provavelmente contém o parâmetro populacional, com um determinado nível de confiança.\n",
        "\n",
        "**Exemplo:**\n",
        "        \n",
        "Imagine uma pesquisa sobre a altura média de estudantes de uma escola. Se a altura média da amostra é 1,65m, o intervalo de confiança de 95% para a altura média da população pode ser de 1,60m a 1,70m. Isso significa que há 95% de chance de a altura média da população estar nesse intervalo.\n",
        "\n",
        "\n",
        ">\n"
      ]
    },
    {
      "cell_type": "markdown",
      "metadata": {
        "id": "Hwc0A6c9K6K-"
      },
      "source": [
        "### Agora vamos calcular usando código..."
      ]
    },
    {
      "cell_type": "markdown",
      "metadata": {
        "id": "jAqJM9RVL_p-"
      },
      "source": [
        "#### Implementação de Métodos de Amostragem com  NumPy e Pandas"
      ]
    },
    {
      "cell_type": "code",
      "execution_count": 28,
      "metadata": {
        "id": "K-16N9KqK7bn"
      },
      "outputs": [],
      "source": [
        "# 1° importar as bibliotecas NumPy (para trabalhar com arrays) e Pandas (para trabalhar com dataframe)\n",
        "import numpy as np\n",
        "import pandas as pd"
      ]
    },
    {
      "cell_type": "code",
      "execution_count": 29,
      "metadata": {
        "colab": {
          "base_uri": "https://localhost:8080/"
        },
        "id": "6VCa6QCeLEKY",
        "outputId": "94aa93b8-da88-4c6d-d4ce-3b9001173517"
      },
      "outputs": [
        {
          "data": {
            "text/plain": [
              "array([  1,   2,   3,   4,   5,   6,   7,   8,   9,  10,  11,  12,  13,\n",
              "        14,  15,  16,  17,  18,  19,  20,  21,  22,  23,  24,  25,  26,\n",
              "        27,  28,  29,  30,  31,  32,  33,  34,  35,  36,  37,  38,  39,\n",
              "        40,  41,  42,  43,  44,  45,  46,  47,  48,  49,  50,  51,  52,\n",
              "        53,  54,  55,  56,  57,  58,  59,  60,  61,  62,  63,  64,  65,\n",
              "        66,  67,  68,  69,  70,  71,  72,  73,  74,  75,  76,  77,  78,\n",
              "        79,  80,  81,  82,  83,  84,  85,  86,  87,  88,  89,  90,  91,\n",
              "        92,  93,  94,  95,  96,  97,  98,  99, 100])"
            ]
          },
          "execution_count": 29,
          "metadata": {},
          "output_type": "execute_result"
        }
      ],
      "source": [
        "# 2° cria um array com números de 1 a 100\n",
        "populacao = np.arange(1, 101)\n",
        "populacao"
      ]
    },
    {
      "cell_type": "code",
      "execution_count": 31,
      "metadata": {
        "colab": {
          "base_uri": "https://localhost:8080/"
        },
        "id": "fespup3RLJIO",
        "outputId": "7a585dd2-1b93-4bf4-b711-bfa9a2f6ae81"
      },
      "outputs": [
        {
          "data": {
            "text/plain": [
              "[90, 88, 2, 70, 54, 10, 89, 44, 9, 26]"
            ]
          },
          "execution_count": 31,
          "metadata": {},
          "output_type": "execute_result"
        }
      ],
      "source": [
        "# 3° seleciona 10 elementos aleatórios da população sem repetição\n",
        "amostra_aleatoria_simples = list(np.random.choice(populacao, size=10, replace=False))\n",
        "amostra_aleatoria_simples"
      ]
    },
    {
      "cell_type": "code",
      "execution_count": 33,
      "metadata": {
        "id": "DFG2d-vjLPU2"
      },
      "outputs": [],
      "source": [
        "# 4° preenche o restante da lista com 'None'\n",
        "amostra_aleatoria_simples.extend([None] * (len(populacao) - len(amostra_aleatoria_simples)))"
      ]
    },
    {
      "cell_type": "code",
      "execution_count": 34,
      "metadata": {
        "colab": {
          "base_uri": "https://localhost:8080/"
        },
        "id": "U5-6Gz4tLcIG",
        "outputId": "bb5c0ae5-1af9-4c2d-dabf-f64102e76e14"
      },
      "outputs": [
        {
          "data": {
            "text/plain": [
              "[8, 19, 28, 4, 47, 51, 84, 61, 77, 78]"
            ]
          },
          "execution_count": 34,
          "metadata": {},
          "output_type": "execute_result"
        }
      ],
      "source": [
        "# 5° amostragem estratificada (dividindo em dois estratos: 1-50 e 51-100)\n",
        "\n",
        "# Cria um estrato com os elementos de 1 a 50\n",
        "estrato1 = populacao[0:50]\n",
        "\n",
        "# Cria um estrato com os elementos de 51 a 100\n",
        "estrato2 = populacao[50:100]\n",
        "\n",
        "# Seleciona 5 elementos aleatórios de cada estrato sem repetição\n",
        "amostra_estratificada = list(np.concatenate((np.random.choice(estrato1, size=5, replace=False),\n",
        "                                    np.random.choice(estrato2, size=5, replace=False))))\n",
        "amostra_estratificada"
      ]
    },
    {
      "cell_type": "code",
      "execution_count": 35,
      "metadata": {
        "id": "HMLP4LVTLm1X"
      },
      "outputs": [],
      "source": [
        "# 6° preenche o restante da lista com 'None'\n",
        "amostra_estratificada.extend([None] * (len(populacao) - len(amostra_estratificada)))"
      ]
    },
    {
      "cell_type": "code",
      "execution_count": 36,
      "metadata": {
        "colab": {
          "base_uri": "https://localhost:8080/"
        },
        "id": "FDyP7za7LrHu",
        "outputId": "b8860819-10ff-4e85-fb5c-c4c725c9d38b"
      },
      "outputs": [
        {
          "data": {
            "text/plain": [
              "[1, 6, 11, 16, 21, 26, 31, 36, 41, 46, 51, 56, 61, 66, 71, 76, 81, 86, 91, 96]"
            ]
          },
          "execution_count": 36,
          "metadata": {},
          "output_type": "execute_result"
        }
      ],
      "source": [
        "# 7° Amostragem sistemática (selecionando cada 5º elemento)\n",
        "\n",
        "# Seleciona cada 5º elemento da população\n",
        "amostra_sistematica = list(populacao[::5])\n",
        "amostra_sistematica"
      ]
    },
    {
      "cell_type": "code",
      "execution_count": 37,
      "metadata": {
        "id": "pBzqm4ykLvcO"
      },
      "outputs": [],
      "source": [
        "# 8° Preenche o restante da lista com 'None'\n",
        "amostra_sistematica.extend([None] * (len(populacao) - len(amostra_sistematica)))"
      ]
    },
    {
      "cell_type": "code",
      "execution_count": 38,
      "metadata": {
        "colab": {
          "base_uri": "https://localhost:8080/",
          "height": 424
        },
        "id": "K-LA2kpAKuVA",
        "outputId": "a5001883-7c43-4654-e73f-a3053bd81c3e"
      },
      "outputs": [
        {
          "data": {
            "application/vnd.google.colaboratory.intrinsic+json": {
              "summary": "{\n  \"name\": \"df\",\n  \"rows\": 100,\n  \"fields\": [\n    {\n      \"column\": \"Popula\\u00e7\\u00e3o\",\n      \"properties\": {\n        \"dtype\": \"number\",\n        \"std\": 29,\n        \"min\": 1,\n        \"max\": 100,\n        \"num_unique_values\": 100,\n        \"samples\": [\n          84,\n          54,\n          71\n        ],\n        \"semantic_type\": \"\",\n        \"description\": \"\"\n      }\n    },\n    {\n      \"column\": \"Amostra Aleat\\u00f3ria Simples\",\n      \"properties\": {\n        \"dtype\": \"number\",\n        \"std\": 35.19090791667644,\n        \"min\": 2.0,\n        \"max\": 90.0,\n        \"num_unique_values\": 10,\n        \"samples\": [\n          9.0,\n          88.0,\n          10.0\n        ],\n        \"semantic_type\": \"\",\n        \"description\": \"\"\n      }\n    },\n    {\n      \"column\": \"Amostra Estratificada\",\n      \"properties\": {\n        \"dtype\": \"number\",\n        \"std\": 29.70241292106305,\n        \"min\": 4.0,\n        \"max\": 84.0,\n        \"num_unique_values\": 10,\n        \"samples\": [\n          77.0,\n          19.0,\n          51.0\n        ],\n        \"semantic_type\": \"\",\n        \"description\": \"\"\n      }\n    },\n    {\n      \"column\": \"Amostra Sistem\\u00e1tica\",\n      \"properties\": {\n        \"dtype\": \"number\",\n        \"std\": 29.58039891549808,\n        \"min\": 1.0,\n        \"max\": 96.0,\n        \"num_unique_values\": 20,\n        \"samples\": [\n          1.0,\n          86.0,\n          76.0\n        ],\n        \"semantic_type\": \"\",\n        \"description\": \"\"\n      }\n    }\n  ]\n}",
              "type": "dataframe",
              "variable_name": "df"
            },
            "text/html": [
              "\n",
              "  <div id=\"df-ca57ab5d-c9eb-4ef0-953c-57b322e8a0db\" class=\"colab-df-container\">\n",
              "    <div>\n",
              "<style scoped>\n",
              "    .dataframe tbody tr th:only-of-type {\n",
              "        vertical-align: middle;\n",
              "    }\n",
              "\n",
              "    .dataframe tbody tr th {\n",
              "        vertical-align: top;\n",
              "    }\n",
              "\n",
              "    .dataframe thead th {\n",
              "        text-align: right;\n",
              "    }\n",
              "</style>\n",
              "<table border=\"1\" class=\"dataframe\">\n",
              "  <thead>\n",
              "    <tr style=\"text-align: right;\">\n",
              "      <th></th>\n",
              "      <th>População</th>\n",
              "      <th>Amostra Aleatória Simples</th>\n",
              "      <th>Amostra Estratificada</th>\n",
              "      <th>Amostra Sistemática</th>\n",
              "    </tr>\n",
              "  </thead>\n",
              "  <tbody>\n",
              "    <tr>\n",
              "      <th>0</th>\n",
              "      <td>1</td>\n",
              "      <td>90.0</td>\n",
              "      <td>8.0</td>\n",
              "      <td>1.0</td>\n",
              "    </tr>\n",
              "    <tr>\n",
              "      <th>1</th>\n",
              "      <td>2</td>\n",
              "      <td>88.0</td>\n",
              "      <td>19.0</td>\n",
              "      <td>6.0</td>\n",
              "    </tr>\n",
              "    <tr>\n",
              "      <th>2</th>\n",
              "      <td>3</td>\n",
              "      <td>2.0</td>\n",
              "      <td>28.0</td>\n",
              "      <td>11.0</td>\n",
              "    </tr>\n",
              "    <tr>\n",
              "      <th>3</th>\n",
              "      <td>4</td>\n",
              "      <td>70.0</td>\n",
              "      <td>4.0</td>\n",
              "      <td>16.0</td>\n",
              "    </tr>\n",
              "    <tr>\n",
              "      <th>4</th>\n",
              "      <td>5</td>\n",
              "      <td>54.0</td>\n",
              "      <td>47.0</td>\n",
              "      <td>21.0</td>\n",
              "    </tr>\n",
              "    <tr>\n",
              "      <th>...</th>\n",
              "      <td>...</td>\n",
              "      <td>...</td>\n",
              "      <td>...</td>\n",
              "      <td>...</td>\n",
              "    </tr>\n",
              "    <tr>\n",
              "      <th>95</th>\n",
              "      <td>96</td>\n",
              "      <td>NaN</td>\n",
              "      <td>NaN</td>\n",
              "      <td>NaN</td>\n",
              "    </tr>\n",
              "    <tr>\n",
              "      <th>96</th>\n",
              "      <td>97</td>\n",
              "      <td>NaN</td>\n",
              "      <td>NaN</td>\n",
              "      <td>NaN</td>\n",
              "    </tr>\n",
              "    <tr>\n",
              "      <th>97</th>\n",
              "      <td>98</td>\n",
              "      <td>NaN</td>\n",
              "      <td>NaN</td>\n",
              "      <td>NaN</td>\n",
              "    </tr>\n",
              "    <tr>\n",
              "      <th>98</th>\n",
              "      <td>99</td>\n",
              "      <td>NaN</td>\n",
              "      <td>NaN</td>\n",
              "      <td>NaN</td>\n",
              "    </tr>\n",
              "    <tr>\n",
              "      <th>99</th>\n",
              "      <td>100</td>\n",
              "      <td>NaN</td>\n",
              "      <td>NaN</td>\n",
              "      <td>NaN</td>\n",
              "    </tr>\n",
              "  </tbody>\n",
              "</table>\n",
              "<p>100 rows × 4 columns</p>\n",
              "</div>\n",
              "    <div class=\"colab-df-buttons\">\n",
              "\n",
              "  <div class=\"colab-df-container\">\n",
              "    <button class=\"colab-df-convert\" onclick=\"convertToInteractive('df-ca57ab5d-c9eb-4ef0-953c-57b322e8a0db')\"\n",
              "            title=\"Convert this dataframe to an interactive table.\"\n",
              "            style=\"display:none;\">\n",
              "\n",
              "  <svg xmlns=\"http://www.w3.org/2000/svg\" height=\"24px\" viewBox=\"0 -960 960 960\">\n",
              "    <path d=\"M120-120v-720h720v720H120Zm60-500h600v-160H180v160Zm220 220h160v-160H400v160Zm0 220h160v-160H400v160ZM180-400h160v-160H180v160Zm440 0h160v-160H620v160ZM180-180h160v-160H180v160Zm440 0h160v-160H620v160Z\"/>\n",
              "  </svg>\n",
              "    </button>\n",
              "\n",
              "  <style>\n",
              "    .colab-df-container {\n",
              "      display:flex;\n",
              "      gap: 12px;\n",
              "    }\n",
              "\n",
              "    .colab-df-convert {\n",
              "      background-color: #E8F0FE;\n",
              "      border: none;\n",
              "      border-radius: 50%;\n",
              "      cursor: pointer;\n",
              "      display: none;\n",
              "      fill: #1967D2;\n",
              "      height: 32px;\n",
              "      padding: 0 0 0 0;\n",
              "      width: 32px;\n",
              "    }\n",
              "\n",
              "    .colab-df-convert:hover {\n",
              "      background-color: #E2EBFA;\n",
              "      box-shadow: 0px 1px 2px rgba(60, 64, 67, 0.3), 0px 1px 3px 1px rgba(60, 64, 67, 0.15);\n",
              "      fill: #174EA6;\n",
              "    }\n",
              "\n",
              "    .colab-df-buttons div {\n",
              "      margin-bottom: 4px;\n",
              "    }\n",
              "\n",
              "    [theme=dark] .colab-df-convert {\n",
              "      background-color: #3B4455;\n",
              "      fill: #D2E3FC;\n",
              "    }\n",
              "\n",
              "    [theme=dark] .colab-df-convert:hover {\n",
              "      background-color: #434B5C;\n",
              "      box-shadow: 0px 1px 3px 1px rgba(0, 0, 0, 0.15);\n",
              "      filter: drop-shadow(0px 1px 2px rgba(0, 0, 0, 0.3));\n",
              "      fill: #FFFFFF;\n",
              "    }\n",
              "  </style>\n",
              "\n",
              "    <script>\n",
              "      const buttonEl =\n",
              "        document.querySelector('#df-ca57ab5d-c9eb-4ef0-953c-57b322e8a0db button.colab-df-convert');\n",
              "      buttonEl.style.display =\n",
              "        google.colab.kernel.accessAllowed ? 'block' : 'none';\n",
              "\n",
              "      async function convertToInteractive(key) {\n",
              "        const element = document.querySelector('#df-ca57ab5d-c9eb-4ef0-953c-57b322e8a0db');\n",
              "        const dataTable =\n",
              "          await google.colab.kernel.invokeFunction('convertToInteractive',\n",
              "                                                    [key], {});\n",
              "        if (!dataTable) return;\n",
              "\n",
              "        const docLinkHtml = 'Like what you see? Visit the ' +\n",
              "          '<a target=\"_blank\" href=https://colab.research.google.com/notebooks/data_table.ipynb>data table notebook</a>'\n",
              "          + ' to learn more about interactive tables.';\n",
              "        element.innerHTML = '';\n",
              "        dataTable['output_type'] = 'display_data';\n",
              "        await google.colab.output.renderOutput(dataTable, element);\n",
              "        const docLink = document.createElement('div');\n",
              "        docLink.innerHTML = docLinkHtml;\n",
              "        element.appendChild(docLink);\n",
              "      }\n",
              "    </script>\n",
              "  </div>\n",
              "\n",
              "\n",
              "<div id=\"df-72d48447-2232-4790-b5ee-2c92a8f38d76\">\n",
              "  <button class=\"colab-df-quickchart\" onclick=\"quickchart('df-72d48447-2232-4790-b5ee-2c92a8f38d76')\"\n",
              "            title=\"Suggest charts\"\n",
              "            style=\"display:none;\">\n",
              "\n",
              "<svg xmlns=\"http://www.w3.org/2000/svg\" height=\"24px\"viewBox=\"0 0 24 24\"\n",
              "     width=\"24px\">\n",
              "    <g>\n",
              "        <path d=\"M19 3H5c-1.1 0-2 .9-2 2v14c0 1.1.9 2 2 2h14c1.1 0 2-.9 2-2V5c0-1.1-.9-2-2-2zM9 17H7v-7h2v7zm4 0h-2V7h2v10zm4 0h-2v-4h2v4z\"/>\n",
              "    </g>\n",
              "</svg>\n",
              "  </button>\n",
              "\n",
              "<style>\n",
              "  .colab-df-quickchart {\n",
              "      --bg-color: #E8F0FE;\n",
              "      --fill-color: #1967D2;\n",
              "      --hover-bg-color: #E2EBFA;\n",
              "      --hover-fill-color: #174EA6;\n",
              "      --disabled-fill-color: #AAA;\n",
              "      --disabled-bg-color: #DDD;\n",
              "  }\n",
              "\n",
              "  [theme=dark] .colab-df-quickchart {\n",
              "      --bg-color: #3B4455;\n",
              "      --fill-color: #D2E3FC;\n",
              "      --hover-bg-color: #434B5C;\n",
              "      --hover-fill-color: #FFFFFF;\n",
              "      --disabled-bg-color: #3B4455;\n",
              "      --disabled-fill-color: #666;\n",
              "  }\n",
              "\n",
              "  .colab-df-quickchart {\n",
              "    background-color: var(--bg-color);\n",
              "    border: none;\n",
              "    border-radius: 50%;\n",
              "    cursor: pointer;\n",
              "    display: none;\n",
              "    fill: var(--fill-color);\n",
              "    height: 32px;\n",
              "    padding: 0;\n",
              "    width: 32px;\n",
              "  }\n",
              "\n",
              "  .colab-df-quickchart:hover {\n",
              "    background-color: var(--hover-bg-color);\n",
              "    box-shadow: 0 1px 2px rgba(60, 64, 67, 0.3), 0 1px 3px 1px rgba(60, 64, 67, 0.15);\n",
              "    fill: var(--button-hover-fill-color);\n",
              "  }\n",
              "\n",
              "  .colab-df-quickchart-complete:disabled,\n",
              "  .colab-df-quickchart-complete:disabled:hover {\n",
              "    background-color: var(--disabled-bg-color);\n",
              "    fill: var(--disabled-fill-color);\n",
              "    box-shadow: none;\n",
              "  }\n",
              "\n",
              "  .colab-df-spinner {\n",
              "    border: 2px solid var(--fill-color);\n",
              "    border-color: transparent;\n",
              "    border-bottom-color: var(--fill-color);\n",
              "    animation:\n",
              "      spin 1s steps(1) infinite;\n",
              "  }\n",
              "\n",
              "  @keyframes spin {\n",
              "    0% {\n",
              "      border-color: transparent;\n",
              "      border-bottom-color: var(--fill-color);\n",
              "      border-left-color: var(--fill-color);\n",
              "    }\n",
              "    20% {\n",
              "      border-color: transparent;\n",
              "      border-left-color: var(--fill-color);\n",
              "      border-top-color: var(--fill-color);\n",
              "    }\n",
              "    30% {\n",
              "      border-color: transparent;\n",
              "      border-left-color: var(--fill-color);\n",
              "      border-top-color: var(--fill-color);\n",
              "      border-right-color: var(--fill-color);\n",
              "    }\n",
              "    40% {\n",
              "      border-color: transparent;\n",
              "      border-right-color: var(--fill-color);\n",
              "      border-top-color: var(--fill-color);\n",
              "    }\n",
              "    60% {\n",
              "      border-color: transparent;\n",
              "      border-right-color: var(--fill-color);\n",
              "    }\n",
              "    80% {\n",
              "      border-color: transparent;\n",
              "      border-right-color: var(--fill-color);\n",
              "      border-bottom-color: var(--fill-color);\n",
              "    }\n",
              "    90% {\n",
              "      border-color: transparent;\n",
              "      border-bottom-color: var(--fill-color);\n",
              "    }\n",
              "  }\n",
              "</style>\n",
              "\n",
              "  <script>\n",
              "    async function quickchart(key) {\n",
              "      const quickchartButtonEl =\n",
              "        document.querySelector('#' + key + ' button');\n",
              "      quickchartButtonEl.disabled = true;  // To prevent multiple clicks.\n",
              "      quickchartButtonEl.classList.add('colab-df-spinner');\n",
              "      try {\n",
              "        const charts = await google.colab.kernel.invokeFunction(\n",
              "            'suggestCharts', [key], {});\n",
              "      } catch (error) {\n",
              "        console.error('Error during call to suggestCharts:', error);\n",
              "      }\n",
              "      quickchartButtonEl.classList.remove('colab-df-spinner');\n",
              "      quickchartButtonEl.classList.add('colab-df-quickchart-complete');\n",
              "    }\n",
              "    (() => {\n",
              "      let quickchartButtonEl =\n",
              "        document.querySelector('#df-72d48447-2232-4790-b5ee-2c92a8f38d76 button');\n",
              "      quickchartButtonEl.style.display =\n",
              "        google.colab.kernel.accessAllowed ? 'block' : 'none';\n",
              "    })();\n",
              "  </script>\n",
              "</div>\n",
              "\n",
              "  <div id=\"id_04d9cb6a-c7f2-4de9-9d15-5cb5de723366\">\n",
              "    <style>\n",
              "      .colab-df-generate {\n",
              "        background-color: #E8F0FE;\n",
              "        border: none;\n",
              "        border-radius: 50%;\n",
              "        cursor: pointer;\n",
              "        display: none;\n",
              "        fill: #1967D2;\n",
              "        height: 32px;\n",
              "        padding: 0 0 0 0;\n",
              "        width: 32px;\n",
              "      }\n",
              "\n",
              "      .colab-df-generate:hover {\n",
              "        background-color: #E2EBFA;\n",
              "        box-shadow: 0px 1px 2px rgba(60, 64, 67, 0.3), 0px 1px 3px 1px rgba(60, 64, 67, 0.15);\n",
              "        fill: #174EA6;\n",
              "      }\n",
              "\n",
              "      [theme=dark] .colab-df-generate {\n",
              "        background-color: #3B4455;\n",
              "        fill: #D2E3FC;\n",
              "      }\n",
              "\n",
              "      [theme=dark] .colab-df-generate:hover {\n",
              "        background-color: #434B5C;\n",
              "        box-shadow: 0px 1px 3px 1px rgba(0, 0, 0, 0.15);\n",
              "        filter: drop-shadow(0px 1px 2px rgba(0, 0, 0, 0.3));\n",
              "        fill: #FFFFFF;\n",
              "      }\n",
              "    </style>\n",
              "    <button class=\"colab-df-generate\" onclick=\"generateWithVariable('df')\"\n",
              "            title=\"Generate code using this dataframe.\"\n",
              "            style=\"display:none;\">\n",
              "\n",
              "  <svg xmlns=\"http://www.w3.org/2000/svg\" height=\"24px\"viewBox=\"0 0 24 24\"\n",
              "       width=\"24px\">\n",
              "    <path d=\"M7,19H8.4L18.45,9,17,7.55,7,17.6ZM5,21V16.75L18.45,3.32a2,2,0,0,1,2.83,0l1.4,1.43a1.91,1.91,0,0,1,.58,1.4,1.91,1.91,0,0,1-.58,1.4L9.25,21ZM18.45,9,17,7.55Zm-12,3A5.31,5.31,0,0,0,4.9,8.1,5.31,5.31,0,0,0,1,6.5,5.31,5.31,0,0,0,4.9,4.9,5.31,5.31,0,0,0,6.5,1,5.31,5.31,0,0,0,8.1,4.9,5.31,5.31,0,0,0,12,6.5,5.46,5.46,0,0,0,6.5,12Z\"/>\n",
              "  </svg>\n",
              "    </button>\n",
              "    <script>\n",
              "      (() => {\n",
              "      const buttonEl =\n",
              "        document.querySelector('#id_04d9cb6a-c7f2-4de9-9d15-5cb5de723366 button.colab-df-generate');\n",
              "      buttonEl.style.display =\n",
              "        google.colab.kernel.accessAllowed ? 'block' : 'none';\n",
              "\n",
              "      buttonEl.onclick = () => {\n",
              "        google.colab.notebook.generateWithVariable('df');\n",
              "      }\n",
              "      })();\n",
              "    </script>\n",
              "  </div>\n",
              "\n",
              "    </div>\n",
              "  </div>\n"
            ],
            "text/plain": [
              "    População  Amostra Aleatória Simples  Amostra Estratificada  \\\n",
              "0           1                       90.0                    8.0   \n",
              "1           2                       88.0                   19.0   \n",
              "2           3                        2.0                   28.0   \n",
              "3           4                       70.0                    4.0   \n",
              "4           5                       54.0                   47.0   \n",
              "..        ...                        ...                    ...   \n",
              "95         96                        NaN                    NaN   \n",
              "96         97                        NaN                    NaN   \n",
              "97         98                        NaN                    NaN   \n",
              "98         99                        NaN                    NaN   \n",
              "99        100                        NaN                    NaN   \n",
              "\n",
              "    Amostra Sistemática  \n",
              "0                   1.0  \n",
              "1                   6.0  \n",
              "2                  11.0  \n",
              "3                  16.0  \n",
              "4                  21.0  \n",
              "..                  ...  \n",
              "95                  NaN  \n",
              "96                  NaN  \n",
              "97                  NaN  \n",
              "98                  NaN  \n",
              "99                  NaN  \n",
              "\n",
              "[100 rows x 4 columns]"
            ]
          },
          "execution_count": 38,
          "metadata": {},
          "output_type": "execute_result"
        }
      ],
      "source": [
        "# 9° cria um DataFrame com as colunas 'População', 'Amostra Aleatória Simples', 'Amostra Estratificada' e 'Amostra Sistemática'\n",
        "df = pd.DataFrame({'População': populacao,\n",
        "                'Amostra Aleatória Simples': amostra_aleatoria_simples,\n",
        "                'Amostra Estratificada': amostra_estratificada,\n",
        "                'Amostra Sistemática': amostra_sistematica})\n",
        "df"
      ]
    },
    {
      "cell_type": "markdown",
      "metadata": {
        "id": "i138cuobMDk2"
      },
      "source": [
        "#### Cálculo de Estatísticas Descritivas e Intervalos de Confiança"
      ]
    },
    {
      "cell_type": "code",
      "execution_count": 39,
      "metadata": {
        "id": "6ZBhnmz1MKhX"
      },
      "outputs": [],
      "source": [
        "# 1° Vamos importar a biblioteca SciPy Stats para cálculos estatísticos\n",
        "import scipy.stats as stats"
      ]
    },
    {
      "cell_type": "code",
      "execution_count": 40,
      "metadata": {
        "colab": {
          "base_uri": "https://localhost:8080/"
        },
        "id": "I7K4T4dZMTrP",
        "outputId": "93b7a83d-52c3-428c-f25b-a87bee27e27a"
      },
      "outputs": [
        {
          "data": {
            "text/plain": [
              "array([  1,   2,   3,   4,   5,   6,   7,   8,   9,  10,  11,  12,  13,\n",
              "        14,  15,  16,  17,  18,  19,  20,  21,  22,  23,  24,  25,  26,\n",
              "        27,  28,  29,  30,  31,  32,  33,  34,  35,  36,  37,  38,  39,\n",
              "        40,  41,  42,  43,  44,  45,  46,  47,  48,  49,  50,  51,  52,\n",
              "        53,  54,  55,  56,  57,  58,  59,  60,  61,  62,  63,  64,  65,\n",
              "        66,  67,  68,  69,  70,  71,  72,  73,  74,  75,  76,  77,  78,\n",
              "        79,  80,  81,  82,  83,  84,  85,  86,  87,  88,  89,  90,  91,\n",
              "        92,  93,  94,  95,  96,  97,  98,  99, 100])"
            ]
          },
          "execution_count": 40,
          "metadata": {},
          "output_type": "execute_result"
        }
      ],
      "source": [
        "# 2° dados da população (simulando uma população de 100 elementos)\n",
        "\n",
        "# Cria um array com números de 1 a 100\n",
        "populacao = np.arange(1, 101)\n",
        "populacao"
      ]
    },
    {
      "cell_type": "code",
      "execution_count": 41,
      "metadata": {
        "colab": {
          "base_uri": "https://localhost:8080/"
        },
        "id": "o4S9g4bpMYge",
        "outputId": "cac1019d-711b-41d6-cf21-8e3ac3263f7f"
      },
      "outputs": [
        {
          "data": {
            "text/plain": [
              "array([ 57,  31,  86,  46,   3,  90,  35, 100,  23,  53])"
            ]
          },
          "execution_count": 41,
          "metadata": {},
          "output_type": "execute_result"
        }
      ],
      "source": [
        "# 3° amostragem aleatória simples (selecionando 10 elementos aleatórios)\n",
        "\n",
        "# Seleciona 10 elementos aleatórios da população sem repetição\n",
        "amostra_aleatoria_simples = np.random.choice(populacao, size=10, replace=False)\n",
        "amostra_aleatoria_simples"
      ]
    },
    {
      "cell_type": "code",
      "execution_count": 42,
      "metadata": {
        "colab": {
          "base_uri": "https://localhost:8080/"
        },
        "id": "qOsRryAJMc-m",
        "outputId": "6a7ac931-37a0-47fb-ac6e-2ca9f27cf6f5"
      },
      "outputs": [
        {
          "name": "stdout",
          "output_type": "stream",
          "text": [
            "Média da amostra: 52.4\n",
            "Desvio padrão da amostra: 29.893812068720845\n"
          ]
        }
      ],
      "source": [
        "# 4° calculando a média e o desvio padrão da amostra\n",
        "\n",
        "# Calcula a média da amostra\n",
        "media_amostra = np.mean(amostra_aleatoria_simples)\n",
        "print(f\"Média da amostra: {media_amostra}\")\n",
        "\n",
        "# Calcula o desvio padrão da amostra\n",
        "desvio_padrao_amostra = np.std(amostra_aleatoria_simples)\n",
        "print(f\"Desvio padrão da amostra: {desvio_padrao_amostra}\")"
      ]
    },
    {
      "cell_type": "code",
      "execution_count": 43,
      "metadata": {
        "colab": {
          "base_uri": "https://localhost:8080/"
        },
        "id": "CBsQrs7eKvH2",
        "outputId": "085aac1b-97c1-4927-c022-a1186b4e52ff"
      },
      "outputs": [
        {
          "name": "stdout",
          "output_type": "stream",
          "text": [
            "Intervalo de Confiança de 95%: (31.015255091392195, 73.7847449086078)\n"
          ]
        }
      ],
      "source": [
        "# 5° calculando o intervalo de confiança de 95% para a média populacional\n",
        "\n",
        "# Calcula o intervalo de confiança usando a distribuição t de Student\n",
        "intervalo_confianca = stats.t.interval(confidence=0.95,\n",
        "                                      df=len(amostra_aleatoria_simples)-1,\n",
        "                                      loc=media_amostra, scale=desvio_padrao_amostra / np.sqrt(len(amostra_aleatoria_simples)))\n",
        "print(f\"Intervalo de Confiança de 95%: {intervalo_confianca}\")"
      ]
    }
  ],
  "metadata": {
    "colab": {
      "provenance": []
    },
    "kernelspec": {
      "display_name": "Python 3",
      "language": "python",
      "name": "python3"
    },
    "language_info": {
      "codemirror_mode": {
        "name": "ipython",
        "version": 3
      },
      "file_extension": ".py",
      "mimetype": "text/x-python",
      "name": "python",
      "nbconvert_exporter": "python",
      "pygments_lexer": "ipython3",
      "version": "3.10.0"
    }
  },
  "nbformat": 4,
  "nbformat_minor": 0
}

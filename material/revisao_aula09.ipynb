{
  "nbformat": 4,
  "nbformat_minor": 0,
  "metadata": {
    "colab": {
      "provenance": []
    },
    "kernelspec": {
      "name": "python3",
      "display_name": "Python 3"
    },
    "language_info": {
      "name": "python"
    }
  },
  "cells": [
    {
      "cell_type": "markdown",
      "source": [
        "# Revisão Estátistica"
      ],
      "metadata": {
        "id": "40pI-aZqw1LQ"
      }
    },
    {
      "cell_type": "markdown",
      "source": [
        "## Probabilidade Clássica"
      ],
      "metadata": {
        "id": "0A8VcxQvxvCn"
      }
    },
    {
      "cell_type": "code",
      "execution_count": null,
      "metadata": {
        "id": "Sg79J6h-TCBo"
      },
      "outputs": [],
      "source": [
        "# definindo uma função que calcula a prob clássica\n",
        "def probabilidade_classica(resultados_favoraveis, resultados_totais):\n",
        "    return resultados_favoraveis / resultados_totais"
      ]
    },
    {
      "cell_type": "code",
      "source": [
        "# Exemplo: Probabilidade de tirar uma bola azul\n",
        "# Saco de bolas com 10 bolas, sendo 3 azuis\n",
        "\n",
        "# Qual a probabilidade de tirar uma bola azul?\n",
        "\n",
        "resultados_favoraveis = 3  # Número de bolas azuis\n",
        "resultados_totais = 10     # Total de bolas no saco\n",
        "probabilidade = probabilidade_classica(resultados_favoraveis, resultados_totais)\n",
        "print(f\"Probabilidade de tirar uma bola azul: {probabilidade:.2f}\")"
      ],
      "metadata": {
        "colab": {
          "base_uri": "https://localhost:8080/"
        },
        "id": "n1OBo-ORxscD",
        "outputId": "10b2c70c-e834-42bc-c8e9-df0430521af6"
      },
      "execution_count": null,
      "outputs": [
        {
          "output_type": "stream",
          "name": "stdout",
          "text": [
            "Probabilidade de tirar uma bola azul: 0.30\n"
          ]
        }
      ]
    },
    {
      "cell_type": "markdown",
      "source": [
        "**Qual a probalidade de tirar 34 bolas brancas de uma caixa que tem 111 bolas?**"
      ],
      "metadata": {
        "id": "R78FdfwMyDr1"
      }
    },
    {
      "cell_type": "code",
      "source": [
        "# Resposta:"
      ],
      "metadata": {
        "id": "NIaIqbEK05eL"
      },
      "execution_count": null,
      "outputs": []
    },
    {
      "cell_type": "markdown",
      "source": [
        "## Probabilidade Frequentista"
      ],
      "metadata": {
        "id": "oI9ivEHyyPw7"
      }
    },
    {
      "cell_type": "code",
      "source": [
        "# biblioteca para gerar uma seleção aleatória\n",
        "import random"
      ],
      "metadata": {
        "id": "m0I4My3xyzuy"
      },
      "execution_count": null,
      "outputs": []
    },
    {
      "cell_type": "code",
      "source": [
        "# definindo a função que calcula a probabilidade frequentista\n",
        "def probabilidade_frequentista(tentativas, evento):\n",
        "    ocorrencias = sum(1 for _ in range(tentativas) if evento())\n",
        "    return ocorrencias / tentativas"
      ],
      "metadata": {
        "id": "Dy5xjdIqy6IV"
      },
      "execution_count": null,
      "outputs": []
    },
    {
      "cell_type": "code",
      "source": [
        "# simulando o evento de tirar uma bola verde várias vezes e calcular a frequência relativa.\n",
        "def evento():\n",
        "    bolas = ['Vermelha']*4 + ['Azul']*3 + ['Verde']*3\n",
        "    return random.choice(bolas) == 'Verde'\n",
        "\n",
        "tentativas = 10000\n",
        "probabilidade = probabilidade_frequentista(tentativas, evento)\n",
        "print(f\"Probabilidade estimada de tirar uma bola verde: {probabilidade:.2f}\")"
      ],
      "metadata": {
        "colab": {
          "base_uri": "https://localhost:8080/"
        },
        "id": "PxOnSrjeyqB0",
        "outputId": "0c0d261f-9c88-4b10-dc42-90f09eeeb6fd"
      },
      "execution_count": null,
      "outputs": [
        {
          "output_type": "stream",
          "name": "stdout",
          "text": [
            "Probabilidade estimada de tirar uma bola verde: 0.31\n"
          ]
        }
      ]
    },
    {
      "cell_type": "markdown",
      "source": [
        "**Simular o evento de tirar uma bola vermelha várias vezes e calcular a frequência relativa?**"
      ],
      "metadata": {
        "id": "aOk503MZzmUx"
      }
    },
    {
      "cell_type": "code",
      "source": [
        "# Resposta:"
      ],
      "metadata": {
        "id": "0kQ88Ed70NoN"
      },
      "execution_count": null,
      "outputs": []
    },
    {
      "cell_type": "markdown",
      "source": [
        "## Amostragem Aleatória Simples\n",
        "\n",
        "Dada uma lista de 12000 números (de 1 a 12000), selecione aleatoriamente 20 números dessa lista usando amostragem aleatória simples."
      ],
      "metadata": {
        "id": "i7QZfabu0Iiv"
      }
    },
    {
      "cell_type": "code",
      "source": [
        "# definindo a função\n",
        "def amostragem_aleatoria_simples(populacao, tamanho_amostra):\n",
        "    return random.sample(populacao, tamanho_amostra)\n",
        "\n",
        "# lista de 12000 números (1 a 12000)\n",
        "populacao = list(range(1, 12001))\n",
        "tamanho_amostra = 20\n",
        "\n",
        "amostra = amostragem_aleatoria_simples(populacao, tamanho_amostra)\n",
        "print(\"Amostra Aleatória Simples:\", amostra)"
      ],
      "metadata": {
        "colab": {
          "base_uri": "https://localhost:8080/"
        },
        "id": "tr4f0jNGyCw-",
        "outputId": "94200e66-1604-40f1-8498-0afd6f1a3094"
      },
      "execution_count": null,
      "outputs": [
        {
          "output_type": "stream",
          "name": "stdout",
          "text": [
            "Amostra Aleatória Simples: [1477, 2690, 862, 2814, 7202, 122, 7365, 4775, 289, 4139, 2471, 6164, 9455, 10994, 5794, 781, 1941, 3536, 1808, 3185]\n"
          ]
        }
      ]
    },
    {
      "cell_type": "markdown",
      "source": [
        "**Dada uma lista de 130 números, selecione aleatoriamente 3 números dessa lista usando amostragem aleatória simples.**"
      ],
      "metadata": {
        "id": "0nKt99Rk0qsU"
      }
    },
    {
      "cell_type": "code",
      "source": [
        "# Resposta:"
      ],
      "metadata": {
        "id": "tPQj2fXPx-IM"
      },
      "execution_count": null,
      "outputs": []
    },
    {
      "cell_type": "markdown",
      "source": [
        "## Amostragem Estratificada\n",
        "\n",
        "Considere uma população dividida em 3 estratos com as seguintes quantidades de elementos:\n",
        "\n",
        "* Estrato 1 (20 elementos)\n",
        "* Estrato 2 (30 elementos)\n",
        "* Estrato 3 (50 elementos)\n",
        "\n",
        "Realize uma amostragem aleatória simples de 5 elementos dentro de cada estrato."
      ],
      "metadata": {
        "id": "2xidN207096s"
      }
    },
    {
      "cell_type": "code",
      "source": [
        "# definindo uma função para calcular amostragem estratificada\n",
        "def amostragem_estratificada(populacao_estratos, tamanho_amostra_por_estrato):\n",
        "    amostra = {}\n",
        "    for estrato, populacao in populacao_estratos.items():\n",
        "        amostra[estrato] = random.sample(populacao, tamanho_amostra_por_estrato)\n",
        "    return amostra\n",
        "\n",
        "# definindo a população por estrato\n",
        "populacao_estratos = {\n",
        "    'Estrato 1': list(range(1, 21)),\n",
        "    'Estrato 2': list(range(21, 51)),\n",
        "    'Estrato 3': list(range(51, 101))\n",
        "}\n",
        "\n",
        "tamanho_amostra_por_estrato = 5\n",
        "amostra = amostragem_estratificada(populacao_estratos, tamanho_amostra_por_estrato)\n",
        "print(\"Amostra Estratificada:\", amostra)"
      ],
      "metadata": {
        "colab": {
          "base_uri": "https://localhost:8080/"
        },
        "id": "eFxrbRgE1OZk",
        "outputId": "976707f5-ff85-4c90-8b0f-3b5c55eaa58f"
      },
      "execution_count": null,
      "outputs": [
        {
          "output_type": "stream",
          "name": "stdout",
          "text": [
            "Amostra Estratificada: {'Estrato 1': [10, 19, 20, 6, 7], 'Estrato 2': [39, 37, 34, 44, 42], 'Estrato 3': [95, 83, 70, 51, 64]}\n"
          ]
        }
      ]
    },
    {
      "cell_type": "markdown",
      "source": [
        "**Considere uma população dividida em 2 estratos com as seguintes quantidades de elementos:**\n",
        "\n",
        "    Estrato 1 (50 elementos)\n",
        "    Estrato 2 (315 elementos)\n",
        "\n",
        "**Realize uma amostragem aleatória simples de 7 elementos dentro de cada estrato.**"
      ],
      "metadata": {
        "id": "XD5UdifX1gty"
      }
    },
    {
      "cell_type": "code",
      "source": [
        "# Resposta:\n"
      ],
      "metadata": {
        "id": "4QnQu4UZ1eXe"
      },
      "execution_count": null,
      "outputs": []
    },
    {
      "cell_type": "markdown",
      "source": [
        "## Amostragem por Conglomerados\n",
        "\n",
        "Dada uma população dividida em 4 conglomerados, selecione aleatoriamente 2 conglomerados e, em seguida, selecione todos os elementos desses conglomerados para análise."
      ],
      "metadata": {
        "id": "XVRY3EW82KSE"
      }
    },
    {
      "cell_type": "code",
      "source": [
        "# definindo uma função para calcular amostragem por conglomerados\n",
        "def amostragem_por_conglomerados(populacao_conglomerados, num_conglomerados_selecionados):\n",
        "    conglomerados = list(populacao_conglomerados.keys())\n",
        "    conglomerados_selecionados = random.sample(conglomerados, num_conglomerados_selecionados)\n",
        "    amostra = {c: populacao_conglomerados[c] for c in conglomerados_selecionados}\n",
        "    return amostra\n",
        "\n",
        "# Definindo a população por conglomerado\n",
        "populacao_conglomerados = {\n",
        "    'Conglomerado 1': list(range(1, 6)),\n",
        "    'Conglomerado 2': list(range(6, 11)),\n",
        "    'Conglomerado 3': list(range(11, 16)),\n",
        "    'Conglomerado 4': list(range(16, 21))\n",
        "}\n",
        "\n",
        "num_conglomerados_selecionados = 2\n",
        "amostra = amostragem_por_conglomerados(populacao_conglomerados, num_conglomerados_selecionados)\n",
        "print(\"Amostra por Conglomerados:\", amostra)"
      ],
      "metadata": {
        "colab": {
          "base_uri": "https://localhost:8080/"
        },
        "id": "XG5FIs592UcF",
        "outputId": "41519a41-25a7-40af-e24d-a5944791406a"
      },
      "execution_count": null,
      "outputs": [
        {
          "output_type": "stream",
          "name": "stdout",
          "text": [
            "Amostra por Conglomerados: {'Conglomerado 2': [6, 7, 8, 9, 10], 'Conglomerado 4': [16, 17, 18, 19, 20]}\n"
          ]
        }
      ]
    },
    {
      "cell_type": "markdown",
      "source": [
        "**Dada uma população dividida em 10 conglomerados, selecione aleatoriamente 5 conglomerados e, em seguida, selecione todos os elementos desses conglomerados para análise.**"
      ],
      "metadata": {
        "id": "QXrDDbJl2_rs"
      }
    },
    {
      "cell_type": "code",
      "source": [
        "# Resposta:"
      ],
      "metadata": {
        "id": "skxT3gaT2eQh"
      },
      "execution_count": null,
      "outputs": []
    },
    {
      "cell_type": "markdown",
      "source": [
        "## Amostragem Sistemática\n",
        "\n",
        "Dada uma lista de 50 números (de 1 a 50), selecione o primeiro número aleatoriamente e, em seguida, selecione os números subsequentes a intervalos regulares de 2."
      ],
      "metadata": {
        "id": "MC4OywdR3MRY"
      }
    },
    {
      "cell_type": "code",
      "source": [
        "# função para calcula uma amostragem sistematica\n",
        "def amostragem_sistematica(populacao, intervalo):\n",
        "    start_index = random.randint(0, intervalo - 1)\n",
        "    return populacao[start_index::intervalo]\n",
        "\n",
        "# lista de 50 números (1 a 50)\n",
        "populacao = list(range(1, 51))\n",
        "intervalo = 2\n",
        "\n",
        "amostra = amostragem_sistematica(populacao, intervalo)\n",
        "print(\"Amostra Sistemática:\", amostra)\n"
      ],
      "metadata": {
        "colab": {
          "base_uri": "https://localhost:8080/"
        },
        "id": "VH_0chTc3c50",
        "outputId": "cb8e38e9-9fd8-4172-b223-3c7ff16ce730"
      },
      "execution_count": null,
      "outputs": [
        {
          "output_type": "stream",
          "name": "stdout",
          "text": [
            "Amostra Sistemática: [1, 3, 5, 7, 9, 11, 13, 15, 17, 19, 21, 23, 25, 27, 29, 31, 33, 35, 37, 39, 41, 43, 45, 47, 49]\n"
          ]
        }
      ]
    },
    {
      "cell_type": "markdown",
      "source": [
        "**Dada uma lista de 78 números, selecione o primeiro número aleatoriamente e, em seguida, selecione os números subsequentes a intervalos regulares de 4.**"
      ],
      "metadata": {
        "id": "OlUcBY9D3tjq"
      }
    },
    {
      "cell_type": "code",
      "source": [
        "# Resposta:"
      ],
      "metadata": {
        "id": "0FYND7tz3ptv"
      },
      "execution_count": null,
      "outputs": []
    }
  ]
}